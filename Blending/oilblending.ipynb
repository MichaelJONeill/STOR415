{
 "cells": [
  {
   "cell_type": "markdown",
   "metadata": {},
   "source": [
    "##  Oil Blending\n",
    "\n",
    "Sunco Oil manufactures three types of gasoline (gas-1, gas-2, gas-3). Each type of gasoline is produced by blending three types of crude oil (crude-1, crude-2, crude-3). The details of this process are as follows.\n",
    "\n",
    "- The sales price of each type of gasoline is given in the table below:\n",
    "\n",
    "|Gasoline | Sales Price ($/Barrel) | \n",
    "|---------|------------------------|\n",
    "|gas-1 | 70 |\n",
    "|gas-2 | 60 |\n",
    "|gas-3 | 50 | \n",
    "\n",
    "- The purchase price of crude oil is given in the table below:\n",
    "\n",
    "|Crude Oil | Purchase Price ($/Barrel) |\n",
    "|-----------|---------------------------|\n",
    "| crude-1 | 45 |\n",
    "| crude-2 | 35 |\n",
    "| crude-3 | 25 |\n",
    "\n",
    "- Sunco can purchase up to 5000 barrels of each type of crude oil daily.\n",
    "- It costs $4 to transform one barrel of oil into one barrel of gasoline and Sunco's refinery can produce up to 14000 barrels of gasoline daily.\n",
    "- The three types of crude oil differ in their octane levels and sulfur content, as detailed in the following table:\n",
    "\n",
    "|Crude Oil | Octane Level | Sulfur Content (%) |\n",
    "|----|-----|---|\n",
    "| crude-1 | 12 | 0.5 |\n",
    "| crude-2 | 6 | 2.0 |\n",
    "| crude-3 | 8 | 3.0 |\n",
    "\n",
    "- In a mixture of different types of crude oil, the octane levels and sulfur content are linearly blended.\n",
    "\n",
    "- The mixture of gasoline must have an average level of\n",
    "    - Octane of **at least** 10 for gas-1, 8 for gas-2, and 6 for gas-3.\n",
    "    - Sulfur of **at most** 1% for gas-1, 2% for gas-2, and 1% for gas-3.\n",
    "\n",
    "- Sunco is contractually obligated to meet (at least) the following demand:\n",
    "\n",
    "|Gasoline | Demand (Barrels per day)|\n",
    "|---------|---------|\n",
    "| gas-1 | 3000 |\n",
    "| gas-2 | 2000 |\n",
    "| gas-3 | 1000 |\n",
    "\n",
    "**Goal:** Plan Sunco's production to maximize its daily profit (revenue minus cost)."
   ]
  },
  {
   "cell_type": "markdown",
   "metadata": {},
   "source": [
    "To solve this problem, we use decision variables $x_{ij}$ which represent the number of barrels of crude oil crude-$i$ used to produce gasoline gas-$j$.\n",
    "\n",
    "We organize the data in terms of the type of crude oil and the type of gasoline as follows."
   ]
  },
  {
   "cell_type": "code",
   "execution_count": 2,
   "metadata": {},
   "outputs": [],
   "source": [
    "#Gas and Crude Types\n",
    "gastype = [:gas_1, :gas_2, :gas_3]\n",
    "crudetype = [:crude_1, :crude_2, :crude_3]\n",
    "\n",
    "#Dictionary for sales price of each gas type\n",
    "saleprice = Dict(zip(gastype, [70, 60, 50]))\n",
    "#Dictionary for purchase price of each crude type\n",
    "purchaseprice = Dict(zip(crudetype, [45, 35, 25]))\n",
    "\n",
    "#Dictionary for octane level of each crude oil type\n",
    "octanecrude = Dict(zip(crudetype, [12,6,8]))\n",
    "#Dictionary for sulfur content of each crude oil type (in %)\n",
    "sulfurcrude = Dict(zip(crudetype, [0.005,0.02,0.03]))\n",
    "\n",
    "#Dictionary for minimum average octane level in each type of gasoline\n",
    "octanegas = Dict(zip(gastype, [10, 8, 6]))\n",
    "#Dictionary for maximum average sulfur level in each type of gasoline\n",
    "sulfurgas = Dict(zip(gastype, [0.01, 0.02, 0.01]))\n",
    "\n",
    "#Dictionary for demand of each type of gasoline\n",
    "demand = Dict(zip(gastype, [3000, 2000, 1000]))\n",
    "\n",
    "#Cost to transform one barrel of crude into 1 of gasoline\n",
    "transformcost = 4\n",
    "#Maximum purchasable barrels per day (for each type)\n",
    "maxpurchase = 5000\n",
    "#Max production per day (in barrels of gasoline)\n",
    "maxproduce = 14000;"
   ]
  },
  {
   "cell_type": "markdown",
   "metadata": {},
   "source": [
    "Now, we can create our model."
   ]
  },
  {
   "cell_type": "code",
   "execution_count": 4,
   "metadata": {},
   "outputs": [
    {
     "data": {
      "text/latex": [
       "$$ \\begin{aligned}\n",
       "\\max\\quad & 21 x_{crude\\_1,gas\\_1} + 31 x_{crude\\_2,gas\\_1} + 41 x_{crude\\_3,gas\\_1} + 11 x_{crude\\_1,gas\\_2} + 21 x_{crude\\_2,gas\\_2} + 31 x_{crude\\_3,gas\\_2} + x_{crude\\_1,gas\\_3} + 11 x_{crude\\_2,gas\\_3} + 21 x_{crude\\_3,gas\\_3}\\\\\n",
       "\\text{Subject to} \\quad & x_{crude\\_1,gas\\_1} + x_{crude\\_2,gas\\_1} + x_{crude\\_3,gas\\_1} \\geq 3000.0\\\\\n",
       " & x_{crude\\_1,gas\\_2} + x_{crude\\_2,gas\\_2} + x_{crude\\_3,gas\\_2} \\geq 2000.0\\\\\n",
       " & x_{crude\\_1,gas\\_3} + x_{crude\\_2,gas\\_3} + x_{crude\\_3,gas\\_3} \\geq 1000.0\\\\\n",
       " & 2 x_{crude\\_1,gas\\_1} - 4 x_{crude\\_2,gas\\_1} - 2 x_{crude\\_3,gas\\_1} \\geq 0.0\\\\\n",
       " & 4 x_{crude\\_1,gas\\_2} - 2 x_{crude\\_2,gas\\_2} \\geq 0.0\\\\\n",
       " & 6 x_{crude\\_1,gas\\_3} + 2 x_{crude\\_3,gas\\_3} \\geq 0.0\\\\\n",
       " & x_{crude\\_1,gas\\_1} + x_{crude\\_1,gas\\_2} + x_{crude\\_1,gas\\_3} \\leq 5000.0\\\\\n",
       " & x_{crude\\_2,gas\\_1} + x_{crude\\_2,gas\\_2} + x_{crude\\_2,gas\\_3} \\leq 5000.0\\\\\n",
       " & x_{crude\\_3,gas\\_1} + x_{crude\\_3,gas\\_2} + x_{crude\\_3,gas\\_3} \\leq 5000.0\\\\\n",
       " & x_{crude\\_1,gas\\_1} + x_{crude\\_2,gas\\_1} + x_{crude\\_3,gas\\_1} + x_{crude\\_1,gas\\_2} + x_{crude\\_2,gas\\_2} + x_{crude\\_3,gas\\_2} + x_{crude\\_1,gas\\_3} + x_{crude\\_2,gas\\_3} + x_{crude\\_3,gas\\_3} \\leq 14000.0\\\\\n",
       " & -0.5 x_{crude\\_1,gas\\_1} + x_{crude\\_2,gas\\_1} + 2 x_{crude\\_3,gas\\_1} \\leq 0.0\\\\\n",
       " & -1.5 x_{crude\\_1,gas\\_2} + x_{crude\\_3,gas\\_2} \\leq 0.0\\\\\n",
       " & -0.5 x_{crude\\_1,gas\\_3} + x_{crude\\_2,gas\\_3} + 2 x_{crude\\_3,gas\\_3} \\leq 0.0\\\\\n",
       " & x_{crude\\_1,gas\\_1} \\geq 0.0\\\\\n",
       " & x_{crude\\_2,gas\\_1} \\geq 0.0\\\\\n",
       " & x_{crude\\_3,gas\\_1} \\geq 0.0\\\\\n",
       " & x_{crude\\_1,gas\\_2} \\geq 0.0\\\\\n",
       " & x_{crude\\_2,gas\\_2} \\geq 0.0\\\\\n",
       " & x_{crude\\_3,gas\\_2} \\geq 0.0\\\\\n",
       " & x_{crude\\_1,gas\\_3} \\geq 0.0\\\\\n",
       " & x_{crude\\_2,gas\\_3} \\geq 0.0\\\\\n",
       " & x_{crude\\_3,gas\\_3} \\geq 0.0\\\\\n",
       "\\end{aligned} $$"
      ]
     },
     "metadata": {},
     "output_type": "display_data"
    }
   ],
   "source": [
    "using JuMP, HiGHS\n",
    "\n",
    "m = Model(HiGHS.Optimizer)\n",
    "\n",
    "@variable(m, x[crudetype, gastype] >= 0)\n",
    "\n",
    "#Maximum amount purchased for each crude\n",
    "@constraint(m, mpurconstraint[i in crudetype], sum(x[i,j] for j in gastype) <= maxpurchase)\n",
    "#Maximum amount produced per day\n",
    "@constraint(m, mprodconstraint, sum(sum(x[i,j] for j in gastype) for i in crudetype) <= maxproduce)\n",
    "\n",
    "#Meet demand obligations\n",
    "@constraint(m, demand[j in gastype], sum(x[i,j] for i in crudetype) >= demand[j])\n",
    "\n",
    "#Minimum average octane constraint\n",
    "@constraint(m, minoctane[j in gastype], sum(octanecrude[i]*x[i,j] for i in crudetype)\n",
    "                                        >= sum(octanegas[j]*x[i,j] for i in crudetype))\n",
    "#Maximum average sulfur constraint\n",
    "@constraint(m, maxsulfur[j in gastype], sum(sulfurcrude[i]*x[i,j] for i in crudetype)\n",
    "                                        <= sum(sulfurgas[j]*x[i,j] for i in crudetype))\n",
    "\n",
    "#Objective is revenue (sales) minus cost (purchase and conversion)\n",
    "@objective(m, Max, sum(saleprice[j]*sum(x[i,j] for i in crudetype) for j in gastype)\n",
    "    - sum((purchaseprice[i]+transformcost)*sum(x[i,j] for j in gastype) for i in crudetype))\n",
    "\n",
    "print(m)"
   ]
  },
  {
   "cell_type": "code",
   "execution_count": 6,
   "metadata": {},
   "outputs": [
    {
     "name": "stdout",
     "output_type": "stream",
     "text": [
      "Solving LP without presolve or with basis\n",
      "Model   status      : Optimal\n",
      "Objective value     :  2.8850000000e+05\n",
      "HiGHS run time      :          0.00\n",
      "nothing\n",
      "2-dimensional DenseAxisArray{Float64,2,...} with index sets:\n",
      "    Dimension 1, [:crude_1, :crude_2, :crude_3]\n",
      "    Dimension 2, [:gas_1, :gas_2, :gas_3]\n",
      "And data, a 3×3 Matrix{Float64}:\n",
      " 2000.0  2200.0  800.0\n",
      " 1000.0  4000.0    0.0\n",
      "   -0.0  3300.0  200.0\n",
      "288500.0\n"
     ]
    }
   ],
   "source": [
    "status = optimize!(m)\n",
    "blend = value.(x)\n",
    "objval = objective_value(m)\n",
    "\n",
    "println(status)\n",
    "println(blend)\n",
    "println(objval)"
   ]
  }
 ],
 "metadata": {
  "kernelspec": {
   "display_name": "Julia 1.7.3",
   "language": "julia",
   "name": "julia-1.7"
  },
  "language_info": {
   "file_extension": ".jl",
   "mimetype": "application/julia",
   "name": "julia",
   "version": "1.7.3"
  },
  "orig_nbformat": 4
 },
 "nbformat": 4,
 "nbformat_minor": 2
}
