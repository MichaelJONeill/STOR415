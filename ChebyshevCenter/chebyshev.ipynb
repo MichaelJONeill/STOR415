{
 "cells": [
  {
   "cell_type": "markdown",
   "metadata": {},
   "source": [
    "# Chebyshev center\n",
    "\n",
    "Find the center and radius of the smallest sphere that encloses the polyhedron defined by the inequalities\n",
    "$$ \\left\\{ 2 x - y + 2 z \\le 2,\\quad\n",
    "-x + 2 y + 4 z \\le 16,\\quad\n",
    "x + 2 y - 2 z \\le 8,\\quad\n",
    "x \\ge 0,\\,\n",
    "y \\ge 0,\\,\n",
    "z \\ge 0 \\right\\}$$"
   ]
  },
  {
   "cell_type": "code",
   "execution_count": 1,
   "metadata": {},
   "outputs": [
    {
     "name": "stdout",
     "output_type": "stream",
     "text": [
      "Running HiGHS 1.6.0: Copyright (c) 2023 HiGHS under MIT licence terms\n",
      "Presolving model\n",
      "6 rows, 4 cols, 18 nonzeros\n",
      "6 rows, 4 cols, 18 nonzeros\n",
      "Presolve : Reductions: rows 6(-0); columns 4(-0); elements 18(-0) - Not reduced\n",
      "Problem not reduced by presolve: solving the LP\n",
      "Using EKK dual simplex solver - serial\n",
      "  Iteration        Objective     Infeasibilities num(sum)\n",
      "          0    -9.9999824871e-01 Ph1: 6(11989.4); Du: 1(0.999998) 0s\n",
      "          6     7.5000000000e-01 Pr: 0(0) 0s\n",
      "Model   status      : Optimal\n",
      "Simplex   iterations: 6\n",
      "Objective value     :  7.5000000000e-01\n",
      "HiGHS run time      :          0.00\n",
      "The coordinates of the Chebyshev center are: [0.7500000000000001, 3.2499999999999996, 0.7499999999999993]\n",
      "The largest possible radius is: 0.7500000000000001\n"
     ]
    }
   ],
   "source": [
    "#Going to encode all constraints as Ax <= b\n",
    "A = [2 -1 2; -1 2 4; 1 2 -2; -1 0 0; 0 -1 0; 0 0 -1];\n",
    "b = [2; 16; 8; 0; 0; 0]\n",
    "\n",
    "numinequalities = 1:length(b);\n",
    "\n",
    "#If you have not used LinearAlgebra before, make sure to install it with\n",
    "#using Pkg\n",
    "#Pkg.add(\"LinearAlgebra\")\n",
    "using JuMP, HiGHS, LinearAlgebra\n",
    "\n",
    "m = Model(HiGHS.Optimizer)\n",
    "@variable(m, r >= 0)           # radius\n",
    "@variable(m, x[1:3])           # coordinates of center\n",
    "@constraint(m, inequality[i in numinequalities], sum(A[i,j]*x[j] for j in 1:3) + r*norm(A[i,:]) <= b[i])\n",
    "@objective(m, Max, r)     # maximize radius\n",
    "\n",
    "status = optimize!(m)\n",
    "center = value.(x)\n",
    "radius = value(r)\n",
    "\n",
    "println(\"The coordinates of the Chebyshev center are: \", center)\n",
    "println(\"The largest possible radius is: \", radius)"
   ]
  }
 ],
 "metadata": {
  "kernelspec": {
   "display_name": "Julia 1.10.0",
   "language": "julia",
   "name": "julia-1.10"
  },
  "language_info": {
   "file_extension": ".jl",
   "mimetype": "application/julia",
   "name": "julia",
   "version": "1.10.0"
  }
 },
 "nbformat": 4,
 "nbformat_minor": 1
}
