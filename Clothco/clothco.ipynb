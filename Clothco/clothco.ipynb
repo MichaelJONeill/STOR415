{
 "cells": [
  {
   "cell_type": "markdown",
   "metadata": {},
   "source": [
    "## ClothCo\n",
    "\n",
    "- ClothCo makes three types of clothing: shirts, shorts, and pants. ClothCo needs to rent the appropriate machinery to make each type of clothing.\n",
    "- The machinery can only be rented weekly; not by unit produced.\n",
    "- The weekly machinery rental cost, unit production cost, unit sales price, unit labor usage and unit cloth usage for each type of clothing are given below.\n",
    "\n",
    "<center>\n",
    "\n",
    "| Type | Rental |  Profit | Labor (hr) | Cloth (sq. yd.) |\n",
    "| ---- | ---- | ---- | ---- | ---- |\n",
    "| Shirt | 200 | 6 | 3 | 4 |\n",
    "| Shorts | 150 | 4 | 2 | 3 |\n",
    "| Pants | 100 | 7 | 6 | 4 |\n",
    "\n",
    "</center>\n",
    "\n",
    "- Each week, 150 labor hours and 160 square yards of cloth are available.\n",
    "- How should Clothco plan their weekly production to maximize their profit?"
   ]
  },
  {
   "cell_type": "code",
   "execution_count": 1,
   "metadata": {},
   "outputs": [],
   "source": [
    "#Set up the data\n",
    "rentalcosts = [200; 150; 100]\n",
    "profit = [6; 4; 7]\n",
    "\n",
    "labor = [3; 2; 6]\n",
    "cloth = [4; 3; 4]\n",
    "\n",
    "laboravail = 150\n",
    "clothavail = 160\n",
    "\n",
    "Mvec = [40; 54; 25]\n",
    ";"
   ]
  },
  {
   "cell_type": "code",
   "execution_count": 8,
   "metadata": {},
   "outputs": [
    {
     "name": "stdout",
     "output_type": "stream",
     "text": [
      "Max 6 x[1] + 4 x[2] + 7 x[3] - 200 z[1] - 150 z[2] - 100 z[3]\n",
      "Subject to\n",
      " laborcon : 3 x[1] + 2 x[2] + 6 x[3] ≤ 150\n",
      " clothcon : 4 x[1] + 3 x[2] + 4 x[3] ≤ 160\n",
      " bigMcon[1] : x[1] - 40 z[1] ≤ 0\n",
      " bigMcon[2] : x[2] - 54 z[2] ≤ 0\n",
      " bigMcon[3] : x[3] - 25 z[3] ≤ 0\n",
      " x[1] ≥ 0\n",
      " x[2] ≥ 0\n",
      " x[3] ≥ 0\n",
      " z[1] binary\n",
      " z[2] binary\n",
      " z[3] binary\n"
     ]
    }
   ],
   "source": [
    "using JuMP, HiGHS\n",
    "\n",
    "m = Model(HiGHS.Optimizer)\n",
    "\n",
    "#x tracks how much of clothing type i is made\n",
    "@variable(m, x[1:3] >= 0)\n",
    "#z tracks if any of clothing type i is made\n",
    "@variable(m, z[1:3], Bin)\n",
    "\n",
    "#Labor and cloth constraints\n",
    "@constraint(m, laborcon, sum(labor[i]*x[i] for i in 1:3) <= laboravail)\n",
    "@constraint(m, clothcon, sum(cloth[i]*x[i] for i in 1:3) <= clothavail)\n",
    "\n",
    "#Big M constraints\n",
    "@constraint(m, bigMcon[i in 1:3], x[i] <= Mvec[i]*z[i])\n",
    "\n",
    "#Objective, profit minus fixed costs\n",
    "@objective(m, Max, sum(profit[i]*x[i] for i in 1:3) - sum(rentalcosts[i]*z[i] for i in 1:3))\n",
    "\n",
    "print(m)"
   ]
  },
  {
   "cell_type": "code",
   "execution_count": 9,
   "metadata": {},
   "outputs": [
    {
     "name": "stdout",
     "output_type": "stream",
     "text": [
      "Running HiGHS 1.6.0: Copyright (c) 2023 HiGHS under MIT licence terms\n",
      "Presolving model\n",
      "5 rows, 6 cols, 12 nonzeros\n",
      "5 rows, 6 cols, 12 nonzeros\n",
      "\n",
      "Solving MIP model with:\n",
      "   5 rows\n",
      "   6 cols (3 binary, 0 integer, 0 implied int., 3 continuous)\n",
      "   12 nonzeros\n",
      "\n",
      "        Nodes      |    B&B Tree     |            Objective Bounds              |  Dynamic Constraints |       Work      \n",
      "     Proc. InQueue |  Leaves   Expl. | BestBound       BestSol              Gap |   Cuts   InLp Confl. | LpIters     Time\n",
      "\n",
      "         0       0         0   0.00%   628.3333333     -inf                 inf        0      0      0         0     0.0s\n",
      " S       0       0         0   0.00%   628.3333333     -15             4288.89%        0      0      0         0     0.0s\n",
      "         0       0         0   0.00%   81.75           -15              645.00%        0      0      0         2     0.0s\n",
      "\n",
      "Solving report\n",
      "  Status            Optimal\n",
      "  Primal bound      75\n",
      "  Dual bound        75\n",
      "  Gap               0% (tolerance: 0.01%)\n",
      "  Solution status   feasible\n",
      "                    75 (objective)\n",
      "                    0 (bound viol.)\n",
      "                    0 (int. viol.)\n",
      "                    0 (row viol.)\n",
      "  Timing            0.00 (total)\n",
      "                    0.00 (presolve)\n",
      "                    0.00 (postsolve)\n",
      "  Nodes             1\n",
      "  LP iterations     3 (total)\n",
      "                    0 (strong br.)\n",
      "                    1 (separation)\n",
      "                    0 (heuristics)\n"
     ]
    }
   ],
   "source": [
    "optimize!(m)"
   ]
  },
  {
   "cell_type": "code",
   "execution_count": 10,
   "metadata": {},
   "outputs": [
    {
     "name": "stdout",
     "output_type": "stream",
     "text": [
      "value.(x) = [0.0, 0.0, 25.0]\n",
      "value.(z) = [0.0, 0.0, 1.0]\n",
      "objective_value(m) = 75.0\n"
     ]
    },
    {
     "data": {
      "text/plain": [
       "75.0"
      ]
     },
     "metadata": {},
     "output_type": "display_data"
    }
   ],
   "source": [
    "@show value.(x)\n",
    "@show value.(z)\n",
    "@show objective_value(m)"
   ]
  }
 ],
 "metadata": {
  "kernelspec": {
   "display_name": "Julia 1.10.0",
   "language": "julia",
   "name": "julia-1.10"
  },
  "language_info": {
   "file_extension": ".jl",
   "mimetype": "application/julia",
   "name": "julia",
   "version": "1.10.0"
  },
  "orig_nbformat": 4
 },
 "nbformat": 4,
 "nbformat_minor": 2
}
