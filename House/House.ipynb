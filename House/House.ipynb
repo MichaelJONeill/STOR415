{
 "cells": [
  {
   "cell_type": "markdown",
   "metadata": {},
   "source": [
    "# Building a house (Harvard Business Review, 1963)\n",
    "\n",
    "Several tasks must be completed in order to build our house. Each task has a duration, tasks may be worked on simultaneously, but there is also a precedence relation. Some tasks can only be started once other tasks have been completed. The following table shows each task, it's duration, and the tasks that must be completed before it starts. How fast can the house be built?\n",
    "![alt text](https://hbr.org/resources/images/article_assets/hbr/6309/63508_A.gif)"
   ]
  },
  {
   "cell_type": "markdown",
   "metadata": {
    "collapsed": true
   },
   "source": [
    "## Problem Data"
   ]
  },
  {
   "cell_type": "code",
   "execution_count": 1,
   "metadata": {},
   "outputs": [],
   "source": [
    "#This array stores the task names (:a, :b, ..., :x)\n",
    "tasks = []\n",
    "for i = 'a':'x'\n",
    "    #Can convert back to string using string(sym), i.e. string(:hello) returns \"hello\"\n",
    "    push!(tasks, Symbol(i))\n",
    "end\n",
    "\n",
    "#Dictionary to store the project durations\n",
    "dur = [0, 4, 2, 4, 6, 1, 2, 3, 2, 4, 10, 3, 1, 2, 3, 2, 1, 1, 2, 3, 1, 2, 5, 0]\n",
    "duration = Dict(zip(tasks,dur))\n",
    "\n",
    "#Dictionary to store the projects that a given project depends on (ancestors)\n",
    "pre = ( [], [:a], [:b], [:c], [:d], [:c], [:f], [:f], [:d], [:d,:g], [:i,:j,:h], [:k],\n",
    "    [:l], [:l], [:l], [:e], [:p], [:c], [:o,:t], [:m,:n], [:t], [:q,:r], [:v], [:s,:u,:w])\n",
    "pred = Dict(zip(tasks,pre));"
   ]
  },
  {
   "cell_type": "code",
   "execution_count": 3,
   "metadata": {},
   "outputs": [
    {
     "name": "stdout",
     "output_type": "stream",
     "text": [
      "Min start[x]\n",
      "Subject to\n",
      " start[a] = 0\n",
      " link[b,a] : -start[a] + start[b] ≥ 0\n",
      " link[c,b] : -start[b] + start[c] ≥ 4\n",
      " link[d,c] : -start[c] + start[d] ≥ 2\n",
      " link[e,d] : -start[d] + start[e] ≥ 4\n",
      " link[f,c] : -start[c] + start[f] ≥ 2\n",
      " link[g,f] : -start[f] + start[g] ≥ 1\n",
      " link[h,f] : -start[f] + start[h] ≥ 1\n",
      " link[i,d] : -start[d] + start[i] ≥ 4\n",
      " link[j,d] : -start[d] + start[j] ≥ 4\n",
      " link[j,g] : -start[g] + start[j] ≥ 2\n",
      " link[k,i] : -start[i] + start[k] ≥ 2\n",
      " link[k,j] : -start[j] + start[k] ≥ 4\n",
      " link[k,h] : -start[h] + start[k] ≥ 3\n",
      " link[l,k] : -start[k] + start[l] ≥ 10\n",
      " link[m,l] : -start[l] + start[m] ≥ 3\n",
      " link[n,l] : -start[l] + start[n] ≥ 3\n",
      " link[o,l] : -start[l] + start[o] ≥ 3\n",
      " link[p,e] : -start[e] + start[p] ≥ 6\n",
      " link[q,p] : -start[p] + start[q] ≥ 2\n",
      " link[r,c] : -start[c] + start[r] ≥ 2\n",
      " link[s,o] : -start[o] + start[s] ≥ 3\n",
      " link[s,t] : start[s] - start[t] ≥ 3\n",
      " link[t,m] : -start[m] + start[t] ≥ 1\n",
      " link[t,n] : -start[n] + start[t] ≥ 2\n",
      " link[u,t] : -start[t] + start[u] ≥ 3\n",
      " link[v,q] : -start[q] + start[v] ≥ 1\n",
      " link[v,r] : -start[r] + start[v] ≥ 1\n",
      " link[w,v] : -start[v] + start[w] ≥ 2\n",
      " link[x,s] : -start[s] + start[x] ≥ 2\n",
      " link[x,u] : -start[u] + start[x] ≥ 1\n",
      " link[x,w] : -start[w] + start[x] ≥ 5\n"
     ]
    }
   ],
   "source": [
    "using JuMP, HiGHS\n",
    "m = Model(HiGHS.Optimizer)\n",
    "\n",
    "@variable(m, start[tasks])\n",
    "\n",
    "\n",
    "#for i in tasks\n",
    "#    for j in pred[i]\n",
    "        #Task i must start later than the start of task j plus the duration of task j\n",
    "#        @constraint(m, start[i] >= start[j] + duration[j])\n",
    "#    end\n",
    "#end\n",
    "#One-line implementation of the constraints:\n",
    "@constraint(m, link[i in tasks, j in pred[i]], start[i] >= start[j] + duration[j])\n",
    "\n",
    "#Initial condition\n",
    "@constraint(m, start[:a] == 0)\n",
    "# total duration is start time of last task + duration of last task.\n",
    "@objective(m, Min, start[:x] + duration[:x]);\n",
    "\n",
    "print(m)"
   ]
  },
  {
   "cell_type": "code",
   "execution_count": 4,
   "metadata": {},
   "outputs": [
    {
     "name": "stdout",
     "output_type": "stream",
     "text": [
      "Running HiGHS 1.6.0: Copyright (c) 2023 HiGHS under MIT licence terms\n",
      "Presolving model\n",
      "30 rows, 22 cols, 59 nonzeros\n",
      "0 rows, 0 cols, 0 nonzeros\n",
      "Presolve : Reductions: rows 0(-32); columns 0(-24); elements 0(-63) - Reduced to empty\n",
      "Solving the original LP from the solution after postsolve\n",
      "Model   status      : Optimal\n",
      "Objective value     :  3.4000000000e+01\n",
      "HiGHS run time      :          0.00\n"
     ]
    }
   ],
   "source": [
    "optimize!(m)"
   ]
  },
  {
   "cell_type": "code",
   "execution_count": 5,
   "metadata": {
    "collapsed": true
   },
   "outputs": [
    {
     "name": "stdout",
     "output_type": "stream",
     "text": [
      "Start times: 1-dimensional DenseAxisArray{Float64,1,...} with index sets:\n",
      "    Dimension 1, Any[:a, :b, :c, :d, :e, :f, :g, :h, :i, :j  …  :o, :p, :q, :r, :s, :t, :u, :v, :w, :x]\n",
      "And data, a 24-element Vector{Float64}:\n",
      " -0.0\n",
      " -0.0\n",
      "  4.0\n",
      "  6.0\n",
      " 10.0\n",
      "  6.0\n",
      "  7.0\n",
      "  7.0\n",
      " 10.0\n",
      " 10.0\n",
      " 14.0\n",
      " 24.0\n",
      " 27.0\n",
      " 27.0\n",
      " 27.0\n",
      " 16.0\n",
      " 18.0\n",
      "  6.0\n",
      " 32.0\n",
      " 29.0\n",
      " 32.0\n",
      " 19.0\n",
      " 21.0\n",
      " 34.0\n",
      "Minimum duration: 34.0\n"
     ]
    }
   ],
   "source": [
    "println(\"Start times: \", value.(start))\n",
    "println(\"Minimum duration: \", objective_value(m))"
   ]
  }
 ],
 "metadata": {
  "kernelspec": {
   "display_name": "Julia 1.10.0",
   "language": "julia",
   "name": "julia-1.10"
  },
  "language_info": {
   "file_extension": ".jl",
   "mimetype": "application/julia",
   "name": "julia",
   "version": "1.10.0"
  }
 },
 "nbformat": 4,
 "nbformat_minor": 1
}
