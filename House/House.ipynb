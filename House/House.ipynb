{
 "cells": [
  {
   "cell_type": "markdown",
   "metadata": {},
   "source": [
    "# Building a house (Harvard Business Review, 1963)\n",
    "\n",
    "Several tasks must be completed in order to build our house. Each task has a duration, tasks may be worked on simultaneously, but there is also a precedence relation. Some tasks can only be started once other tasks have been completed. The following table shows each task, it's duration, and the tasks that must be completed before it starts. How fast can the house be built?\n",
    "![alt text](https://hbr.org/resources/images/article_assets/hbr/6309/63508_A.gif)"
   ]
  },
  {
   "cell_type": "markdown",
   "metadata": {
    "collapsed": true
   },
   "source": [
    "## Problem Data"
   ]
  },
  {
   "cell_type": "code",
   "execution_count": 50,
   "metadata": {},
   "outputs": [],
   "source": [
    "#This array stores the task names (:a, :b, ..., :x)\n",
    "tasks = []\n",
    "for i = 'a':'x'\n",
    "    #Can convert back to string using string(sym), i.e. string(:hello) returns \"hello\"\n",
    "    push!(tasks, Symbol(i))\n",
    "end\n",
    "\n",
    "#Dictionary to store the project durations\n",
    "dur = [0, 4, 2, 4, 6, 1, 2, 3, 2, 4, 10, 3, 1, 2, 3, 2, 1, 1, 2, 3, 1, 2, 5, 0]\n",
    "duration = Dict(zip(tasks,dur))\n",
    "\n",
    "#Dictionary to store the projects that a given project depends on (ancestors)\n",
    "pre = ( [], [:a], [:b], [:c], [:d], [:c], [:f], [:f], [:d], [:d,:g], [:i,:j,:h], [:k],\n",
    "    [:l], [:l], [:l], [:e], [:p], [:c], [:o,:t], [:m,:n], [:t], [:q,:r], [:v], [:s,:u,:w])\n",
    "pred = Dict(zip(tasks,pre));"
   ]
  },
  {
   "cell_type": "code",
   "execution_count": 55,
   "metadata": {},
   "outputs": [],
   "source": [
    "using JuMP, HiGHS\n",
    "m = Model(HiGHS.Optimizer)\n",
    "\n",
    "@variable(m, start[tasks])\n",
    "\n",
    "\n",
    "for i in tasks\n",
    "    for j in pred[i]\n",
    "        #Task i must start later than the start of task j plus the duration of task j\n",
    "        @constraint(m, start[i] >= start[j] + duration[j])\n",
    "    end\n",
    "end\n",
    "#One-line implementation of the constraints:\n",
    "@constraint(m, link[i in tasks, j in pred[i]], start[i] >= start[j] + duration[j])\n",
    "\n",
    "#Initial condition\n",
    "@constraint(m, start[:a] == 0)\n",
    "# total duration is start time of last task + duration of last task.\n",
    "@objective(m, Min, start[:x] + duration[:x]);"
   ]
  },
  {
   "cell_type": "code",
   "execution_count": 56,
   "metadata": {},
   "outputs": [
    {
     "name": "stdout",
     "output_type": "stream",
     "text": [
      "Presolving model\n",
      "30 rows, 22 cols, 59 nonzeros\n",
      "0 rows, 0 cols, 0 nonzeros\n",
      "Presolve : Reductions: rows 0(-32); columns 0(-24); elements 0(-63) - Reduced to empty\n",
      "Solving the original LP from the solution after postsolve\n",
      "Model   status      : Optimal\n",
      "Objective value     :  3.4000000000e+01\n",
      "HiGHS run time      :          0.00\n"
     ]
    }
   ],
   "source": [
    "optimize!(m)"
   ]
  },
  {
   "cell_type": "code",
   "execution_count": 57,
   "metadata": {
    "collapsed": true
   },
   "outputs": [
    {
     "name": "stdout",
     "output_type": "stream",
     "text": [
      "Start times: 1-dimensional DenseAxisArray{Float64,1,...} with index sets:\n",
      "    Dimension 1, Any[:a, :b, :c, :d, :e, :f, :g, :h, :i, :j  …  :o, :p, :q, :r, :s, :t, :u, :v, :w, :x]\n",
      "And data, a 24-element Vector{Float64}:\n",
      " -0.0\n",
      " -0.0\n",
      "  4.0\n",
      "  6.0\n",
      " 10.0\n",
      "  6.0\n",
      "  7.0\n",
      "  7.0\n",
      " 10.0\n",
      " 10.0\n",
      " 14.0\n",
      " 24.0\n",
      " 27.0\n",
      " 27.0\n",
      " 27.0\n",
      " 16.0\n",
      " 18.0\n",
      "  6.0\n",
      " 32.0\n",
      " 29.0\n",
      " 32.0\n",
      " 19.0\n",
      " 21.0\n",
      " 34.0\n",
      "Minimum duration: 34.0\n"
     ]
    }
   ],
   "source": [
    "println(\"Start times: \", value.(start))\n",
    "println(\"Minimum duration: \", objective_value(m))"
   ]
  },
  {
   "cell_type": "code",
   "execution_count": 58,
   "metadata": {},
   "outputs": [
    {
     "name": "stdout",
     "output_type": "stream",
     "text": [
      "Task: b Predecessor: a Shadow Price: -1.0\n",
      "Task: c Predecessor: b Shadow Price: -1.0\n",
      "Task: d Predecessor: c Shadow Price: -1.0\n",
      "Task: e Predecessor: d Shadow Price: 0.0\n",
      "Task: f Predecessor: c Shadow Price: 0.0\n",
      "Task: g Predecessor: f Shadow Price: 0.0\n",
      "Task: h Predecessor: f Shadow Price: 0.0\n",
      "Task: i Predecessor: d Shadow Price: 0.0\n",
      "Task: j Predecessor: d Shadow Price: -1.0\n",
      "Task: j Predecessor: g Shadow Price: -0.0\n",
      "Task: k Predecessor: i Shadow Price: -0.0\n",
      "Task: k Predecessor: j Shadow Price: -1.0\n",
      "Task: k Predecessor: h Shadow Price: -0.0\n",
      "Task: l Predecessor: k Shadow Price: -1.0\n",
      "Task: m Predecessor: l Shadow Price: 0.0\n",
      "Task: n Predecessor: l Shadow Price: -1.0\n",
      "Task: o Predecessor: l Shadow Price: 0.0\n",
      "Task: p Predecessor: e Shadow Price: 0.0\n",
      "Task: q Predecessor: p Shadow Price: 0.0\n",
      "Task: r Predecessor: c Shadow Price: 0.0\n",
      "Task: s Predecessor: o Shadow Price: -0.0\n",
      "Task: s Predecessor: t Shadow Price: -1.0\n",
      "Task: t Predecessor: m Shadow Price: -0.0\n",
      "Task: t Predecessor: n Shadow Price: -1.0\n",
      "Task: u Predecessor: t Shadow Price: 0.0\n",
      "Task: v Predecessor: q Shadow Price: 0.0\n",
      "Task: v Predecessor: r Shadow Price: -0.0\n",
      "Task: w Predecessor: v Shadow Price: 0.0\n",
      "Task: x Predecessor: s Shadow Price: -1.0\n",
      "Task: x Predecessor: u Shadow Price: -0.0\n",
      "Task: x Predecessor: w Shadow Price: -0.0\n"
     ]
    }
   ],
   "source": [
    "#Print out shadow prices if we used the one-line constraint implementation\n",
    "#for i in tasks\n",
    "#    for j in pred[i]\n",
    "#        println(\"Task: \", i, \" Predecessor: \", j, \" Shadow Price: \", shadow_price(link[i,j]))\n",
    "#    end\n",
    "#end"
   ]
  },
  {
   "cell_type": "code",
   "execution_count": null,
   "metadata": {},
   "outputs": [],
   "source": []
  }
 ],
 "metadata": {
  "kernelspec": {
   "display_name": "Julia 1.7.3",
   "language": "julia",
   "name": "julia-1.7"
  },
  "language_info": {
   "file_extension": ".jl",
   "mimetype": "application/julia",
   "name": "julia",
   "version": "1.7.3"
  }
 },
 "nbformat": 4,
 "nbformat_minor": 1
}
