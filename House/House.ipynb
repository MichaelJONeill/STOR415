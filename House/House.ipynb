{
 "cells": [
  {
   "cell_type": "markdown",
   "metadata": {},
   "source": [
    "# Building a house (Harvard Business Review, 1963)\n",
    "\n",
    "Several tasks must be completed in order to build our house. Each task has a duration, tasks may be worked on simultaneously, but there is also a precedence relation. Some tasks can only be started once other tasks have been completed. The following table shows each task, it's duration, and the tasks that must be completed before it starts. How fast can the house be built?\n",
    "![alt text](https://hbr.org/resources/images/article_assets/hbr/6309/63508_A.gif)"
   ]
  },
  {
   "cell_type": "markdown",
   "metadata": {
    "collapsed": true
   },
   "source": [
    "## Problem Data"
   ]
  },
  {
   "cell_type": "code",
   "execution_count": 2,
   "metadata": {},
   "outputs": [],
   "source": [
    "#This array stores the task names (:a, :b, ..., :x)\n",
    "tasks = []\n",
    "for i = 'a':'x'\n",
    "    #Can convert back to string using string(sym), i.e. string(:hello) returns \"hello\"\n",
    "    push!(tasks, Symbol(i))\n",
    "end\n",
    "\n",
    "#Dictionary to store the project durations\n",
    "dur = [0, 4, 2, 4, 6, 1, 2, 3, 2, 4, 10, 3, 1, 2, 3, 2, 1, 1, 2, 3, 1, 2, 5, 0]\n",
    "duration = Dict(zip(tasks,dur))\n",
    "\n",
    "#Dictionary to store the projects that a given project depends on (ancestors)\n",
    "pre = ( [], [:a], [:b], [:c], [:d], [:c], [:f], [:f], [:d], [:d,:g], [:i,:j,:h], [:k],\n",
    "    [:l], [:l], [:l], [:e], [:p], [:c], [:o,:t], [:m,:n], [:t], [:q,:r], [:v], [:s,:u,:w])\n",
    "pred = Dict(zip(tasks,pre));"
   ]
  },
  {
   "cell_type": "code",
   "execution_count": 3,
   "metadata": {},
   "outputs": [
    {
     "data": {
      "text/latex": [
       "$$ \\begin{aligned}\n",
       "\\min\\quad & start_{x}\\\\\n",
       "\\text{Subject to} \\quad & start_{a} = 0.0\\\\\n",
       " & -start_{a} + start_{b} \\geq 0.0\\\\\n",
       " & -start_{b} + start_{c} \\geq 4.0\\\\\n",
       " & -start_{c} + start_{d} \\geq 2.0\\\\\n",
       " & -start_{d} + start_{e} \\geq 4.0\\\\\n",
       " & -start_{c} + start_{f} \\geq 2.0\\\\\n",
       " & -start_{f} + start_{g} \\geq 1.0\\\\\n",
       " & -start_{f} + start_{h} \\geq 1.0\\\\\n",
       " & -start_{d} + start_{i} \\geq 4.0\\\\\n",
       " & -start_{d} + start_{j} \\geq 4.0\\\\\n",
       " & -start_{g} + start_{j} \\geq 2.0\\\\\n",
       " & -start_{i} + start_{k} \\geq 2.0\\\\\n",
       " & -start_{j} + start_{k} \\geq 4.0\\\\\n",
       " & -start_{h} + start_{k} \\geq 3.0\\\\\n",
       " & -start_{k} + start_{l} \\geq 10.0\\\\\n",
       " & -start_{l} + start_{m} \\geq 3.0\\\\\n",
       " & -start_{l} + start_{n} \\geq 3.0\\\\\n",
       " & -start_{l} + start_{o} \\geq 3.0\\\\\n",
       " & -start_{e} + start_{p} \\geq 6.0\\\\\n",
       " & -start_{p} + start_{q} \\geq 2.0\\\\\n",
       " & -start_{c} + start_{r} \\geq 2.0\\\\\n",
       " & -start_{o} + start_{s} \\geq 3.0\\\\\n",
       " & start_{s} - start_{t} \\geq 3.0\\\\\n",
       " & -start_{m} + start_{t} \\geq 1.0\\\\\n",
       " & -start_{n} + start_{t} \\geq 2.0\\\\\n",
       " & -start_{t} + start_{u} \\geq 3.0\\\\\n",
       " & -start_{q} + start_{v} \\geq 1.0\\\\\n",
       " & -start_{r} + start_{v} \\geq 1.0\\\\\n",
       " & -start_{v} + start_{w} \\geq 2.0\\\\\n",
       " & -start_{s} + start_{x} \\geq 2.0\\\\\n",
       " & -start_{u} + start_{x} \\geq 1.0\\\\\n",
       " & -start_{w} + start_{x} \\geq 5.0\\\\\n",
       "\\end{aligned} $$"
      ]
     },
     "metadata": {},
     "output_type": "display_data"
    }
   ],
   "source": [
    "using JuMP, HiGHS\n",
    "m = Model(HiGHS.Optimizer)\n",
    "\n",
    "@variable(m, start[tasks])\n",
    "\n",
    "\n",
    "#for i in tasks\n",
    "#    for j in pred[i]\n",
    "        #Task i must start later than the start of task j plus the duration of task j\n",
    "#        @constraint(m, start[i] >= start[j] + duration[j])\n",
    "#    end\n",
    "#end\n",
    "#One-line implementation of the constraints:\n",
    "@constraint(m, link[i in tasks, j in pred[i]], start[i] >= start[j] + duration[j])\n",
    "\n",
    "#Initial condition\n",
    "@constraint(m, start[:a] == 0)\n",
    "# total duration is start time of last task + duration of last task.\n",
    "@objective(m, Min, start[:x] + duration[:x]);\n",
    "\n",
    "print(m)"
   ]
  },
  {
   "cell_type": "code",
   "execution_count": 4,
   "metadata": {},
   "outputs": [
    {
     "name": "stdout",
     "output_type": "stream",
     "text": [
      "Presolving model\n",
      "30 rows, 22 cols, 59 nonzeros\n",
      "0 rows, 0 cols, 0 nonzeros\n",
      "Presolve : Reductions: rows 0(-32); columns 0(-24); elements 0(-63) - Reduced to empty\n",
      "Solving the original LP from the solution after postsolve\n",
      "Model   status      : Optimal\n",
      "Objective value     :  3.4000000000e+01\n",
      "HiGHS run time      :          0.00\n"
     ]
    }
   ],
   "source": [
    "optimize!(m)"
   ]
  },
  {
   "cell_type": "code",
   "execution_count": 5,
   "metadata": {
    "collapsed": true
   },
   "outputs": [
    {
     "name": "stdout",
     "output_type": "stream",
     "text": [
      "Start times: 1-dimensional DenseAxisArray{Float64,1,...} with index sets:\n",
      "    Dimension 1, Any[:a, :b, :c, :d, :e, :f, :g, :h, :i, :j  …  :o, :p, :q, :r, :s, :t, :u, :v, :w, :x]\n",
      "And data, a 24-element Vector{Float64}:\n",
      " -0.0\n",
      " -0.0\n",
      "  4.0\n",
      "  6.0\n",
      " 10.0\n",
      "  6.0\n",
      "  7.0\n",
      "  7.0\n",
      " 10.0\n",
      " 10.0\n",
      " 14.0\n",
      " 24.0\n",
      " 27.0\n",
      " 27.0\n",
      " 27.0\n",
      " 16.0\n",
      " 18.0\n",
      "  6.0\n",
      " 32.0\n",
      " 29.0\n",
      " 32.0\n",
      " 19.0\n",
      " 21.0\n",
      " 34.0\n",
      "Minimum duration: 34.0\n"
     ]
    }
   ],
   "source": [
    "println(\"Start times: \", value.(start))\n",
    "println(\"Minimum duration: \", objective_value(m))"
   ]
  }
 ],
 "metadata": {
  "kernelspec": {
   "display_name": "Julia 1.7.3",
   "language": "julia",
   "name": "julia-1.7"
  },
  "language_info": {
   "file_extension": ".jl",
   "mimetype": "application/julia",
   "name": "julia",
   "version": "1.7.3"
  }
 },
 "nbformat": 4,
 "nbformat_minor": 1
}
