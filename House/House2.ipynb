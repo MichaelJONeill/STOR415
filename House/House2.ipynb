{
 "cells": [
  {
   "cell_type": "markdown",
   "metadata": {},
   "source": [
    "# Building a house (Harvard Business Review, 1963)\n",
    "\n",
    "Several tasks must be completed in order to build our house. Each task has a duration, tasks may be worked on simultaneously, but there is also a precedence relation. Some tasks can only be started once other tasks have been completed. The following table shows each task, it's duration, and the tasks that must be completed before it starts. How fast can the house be built?\n",
    "![alt text](https://hbr.org/resources/images/article_assets/hbr/6309/63508_B.gif)"
   ]
  },
  {
   "cell_type": "markdown",
   "metadata": {},
   "source": [
    "Let's model this as the longest path through the graph."
   ]
  },
  {
   "cell_type": "code",
   "execution_count": 46,
   "metadata": {},
   "outputs": [
    {
     "data": {
      "text/plain": [
       "31"
      ]
     },
     "execution_count": 46,
     "metadata": {},
     "output_type": "execute_result"
    }
   ],
   "source": [
    "#Reuse the same data as last time\n",
    "\n",
    "#This array stores the task names (:a, :b, ..., :x)\n",
    "tasks = []\n",
    "for i = 'a':'x'\n",
    "    #Can convert back to string using string(sym), i.e. string(:hello) returns \"hello\"\n",
    "    push!(tasks, Symbol(i))\n",
    "end\n",
    "\n",
    "#Dictionary to store the project durations\n",
    "dur = [0, 4, 2, 4, 6, 1, 2, 3, 2, 4, 10, 3, 1, 2, 3, 2, 1, 1, 2, 3, 1, 2, 5, 0]\n",
    "duration = Dict(zip(tasks,dur))\n",
    "\n",
    "#Dictionary to store the projects that a given project depends on (ancestors)\n",
    "pre = ( [], [:a], [:b], [:c], [:d], [:c], [:f], [:f], [:d], [:d,:g], [:i,:j,:h], [:k],\n",
    "    [:l], [:l], [:l], [:e], [:p], [:c], [:o,:t], [:m,:n], [:t], [:q,:r], [:v], [:s,:u,:w])\n",
    "pred = Dict(zip(tasks,pre));\n",
    "\n",
    "numedges = 0\n",
    "for i in tasks\n",
    "    for j in pred[i]\n",
    "        numedges = numedges + 1\n",
    "    end\n",
    "end\n",
    "\n",
    "numedges = numedges + 2\n",
    "\n",
    "taskstonum = Dict(zip(tasks,1:size(tasks,1)))\n",
    "A = zeros(size(tasks,1),numedges)\n",
    "edgenum = 2\n",
    "for i in tasks\n",
    "    for j in pred[i]\n",
    "        ni = taskstonum[i]\n",
    "        nj = taskstonum[j]\n",
    "        A[nj,edgenum] = 1\n",
    "        A[ni,edgenum] = -1\n",
    "        edgenum = edgenum+1\n",
    "    end\n",
    "end\n",
    "\n",
    "b = [1, 0, 0, 0, 0, 0, 0, 0, 0, 0, 0, 0, 0, 0, 0, 0, 0, 0, 0, 0, 0, 0, 0, -1];\n",
    "numedges"
   ]
  },
  {
   "cell_type": "code",
   "execution_count": 47,
   "metadata": {},
   "outputs": [
    {
     "data": {
      "text/plain": [
       "24-element Vector{ConstraintRef{Model, MathOptInterface.ConstraintIndex{MathOptInterface.ScalarAffineFunction{Float64}, MathOptInterface.EqualTo{Float64}}, ScalarShape}}:\n",
       " flow : edge[1] == 1.0\n",
       " flow : -edge[1] + edge[2] == 0.0\n",
       " flow : -edge[2] + edge[3] + edge[5] + edge[20] == 0.0\n",
       " flow : -edge[3] + edge[4] + edge[8] + edge[9] == 0.0\n",
       " flow : -edge[4] + edge[18] == 0.0\n",
       " flow : -edge[5] + edge[6] + edge[7] == 0.0\n",
       " flow : -edge[6] + edge[10] == 0.0\n",
       " flow : -edge[7] + edge[13] == 0.0\n",
       " flow : -edge[8] + edge[11] == 0.0\n",
       " flow : -edge[9] - edge[10] + edge[12] == 0.0\n",
       " flow : -edge[11] - edge[12] - edge[13] + edge[14] == 0.0\n",
       " flow : -edge[14] + edge[15] + edge[16] + edge[17] == 0.0\n",
       " flow : -edge[15] + edge[23] == 0.0\n",
       " flow : -edge[16] + edge[24] == 0.0\n",
       " flow : -edge[17] + edge[21] == 0.0\n",
       " flow : -edge[18] + edge[19] == 0.0\n",
       " flow : -edge[19] + edge[26] == 0.0\n",
       " flow : -edge[20] + edge[27] == 0.0\n",
       " flow : -edge[21] - edge[22] + edge[29] == 0.0\n",
       " flow : edge[22] - edge[23] - edge[24] + edge[25] == 0.0\n",
       " flow : -edge[25] + edge[30] == 0.0\n",
       " flow : -edge[26] - edge[27] + edge[28] == 0.0\n",
       " flow : -edge[28] + edge[31] == 0.0\n",
       " flow : -edge[29] - edge[30] - edge[31] == -1.0"
      ]
     },
     "execution_count": 47,
     "metadata": {},
     "output_type": "execute_result"
    }
   ],
   "source": [
    "using JuMP\n",
    "using HiGHS\n",
    "\n",
    "m = Model(HiGHS.Optimizer)\n",
    "\n",
    "#Edges from node j to node i\n",
    "@variable(m, edge[i in 1:numedges] >= 0)\n",
    "\n",
    "@constraint(m, flow, A*edge .== b)"
   ]
  }
 ],
 "metadata": {
  "kernelspec": {
   "display_name": "Julia 1.7.3",
   "language": "julia",
   "name": "julia-1.7"
  },
  "language_info": {
   "file_extension": ".jl",
   "mimetype": "application/julia",
   "name": "julia",
   "version": "1.7.3"
  },
  "orig_nbformat": 4
 },
 "nbformat": 4,
 "nbformat_minor": 2
}
