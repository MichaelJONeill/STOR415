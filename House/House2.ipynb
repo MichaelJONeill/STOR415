{
 "cells": [
  {
   "cell_type": "markdown",
   "metadata": {},
   "source": [
    "# Building a house (Harvard Business Review, 1963)\n",
    "\n",
    "Several tasks must be completed in order to build our house. Each task has a duration, tasks may be worked on simultaneously, but there is also a precedence relation. Some tasks can only be started once other tasks have been completed. The following table shows each task, it's duration, and the tasks that must be completed before it starts. How fast can the house be built?\n",
    "![alt text](https://hbr.org/resources/images/article_assets/hbr/6309/63508_B.gif)"
   ]
  },
  {
   "cell_type": "markdown",
   "metadata": {},
   "source": [
    "Let's model this as the longest path through the graph."
   ]
  },
  {
   "cell_type": "code",
   "execution_count": 22,
   "metadata": {},
   "outputs": [],
   "source": [
    "#Reuse the same data as last time\n",
    "\n",
    "#This array stores the task names (:a, :b, ..., :x)\n",
    "tasks = []\n",
    "for i = 'a':'x'\n",
    "    #Can convert back to string using string(sym), i.e. string(:hello) returns \"hello\"\n",
    "    push!(tasks, Symbol(i))\n",
    "end\n",
    "\n",
    "#Dictionary to store the project durations\n",
    "dur = [0, 4, 2, 4, 6, 1, 2, 3, 2, 4, 10, 3, 1, 2, 3, 2, 1, 1, 2, 3, 1, 2, 5, 0]\n",
    "duration = Dict(zip(tasks,dur))\n",
    "\n",
    "#Dictionary to store the projects that a given project depends on (ancestors)\n",
    "pre = ( [], [:a], [:b], [:c], [:d], [:c], [:f], [:f], [:d], [:d,:g], [:i,:j,:h], [:k],\n",
    "    [:l], [:l], [:l], [:e], [:p], [:c], [:o,:t], [:m,:n], [:t], [:q,:r], [:v], [:s,:u,:w])\n",
    "pred = Dict(zip(tasks,pre));\n",
    "\n",
    "numedges = 0\n",
    "for i in tasks\n",
    "    for j in pred[i]\n",
    "        numedges = numedges + 1\n",
    "    end\n",
    "end\n",
    "\n",
    "#Dictionaries that map from tasks to numbers and vice versa\n",
    "taskstonum = Dict(zip(tasks,1:size(tasks,1)))\n",
    "numtotasks = Dict(zip(1:size(tasks,1),tasks))\n",
    "\n",
    "#Dictionaries to remember where an edge started and an edge ended, respectively\n",
    "edgestart = Dict()\n",
    "edgeend = Dict()\n",
    "\n",
    "#Initialize the incidence matrix as zeros, with number of rows = number of tasks\n",
    "#and number of columns = number of edges\n",
    "A = zeros(size(tasks,1),numedges)\n",
    "edgenum = 1\n",
    "#Loop over all combinations of tasks and predecessors\n",
    "for i in tasks\n",
    "    for j in pred[i]\n",
    "        #Convert the symbols for tasks and predecessors to numbers\n",
    "        ni = taskstonum[i]\n",
    "        nj = taskstonum[j]\n",
    "        #Update this edges column with an edge from j to i\n",
    "        A[nj,edgenum] = 1\n",
    "        A[ni,edgenum] = -1\n",
    "        #Record what is the start and end of this edge in the dictionaries\n",
    "        edgestart[edgenum] = nj\n",
    "        edgeend[edgenum] = ni\n",
    "        #Counter to keep place for number of edges\n",
    "        edgenum = edgenum+1\n",
    "    end\n",
    "end\n",
    "\n",
    "#1 flow at top of graph (source), -1 flow at bottom (sink)\n",
    "b = [1, 0, 0, 0, 0, 0, 0, 0, 0, 0, 0, 0, 0, 0, 0, 0, 0, 0, 0, 0, 0, 0, 0, -1];"
   ]
  },
  {
   "cell_type": "code",
   "execution_count": 23,
   "metadata": {},
   "outputs": [
    {
     "data": {
      "text/latex": [
       "$$ \\begin{aligned}\n",
       "\\max\\quad & 4 edge_{2} + 2 edge_{3} + 4 edge_{4} + 2 edge_{5} + edge_{6} + edge_{7} + 4 edge_{8} + 4 edge_{9} + 2 edge_{10} + 2 edge_{11} + 4 edge_{12} + 3 edge_{13} + 10 edge_{14} + 3 edge_{15} + 3 edge_{16} + 3 edge_{17} + 6 edge_{18} + 2 edge_{19} + 2 edge_{20} + 3 edge_{21} + 3 edge_{22} + edge_{23} + 2 edge_{24} + 3 edge_{25} + edge_{26} + edge_{27} + 2 edge_{28} + 2 edge_{29} + edge_{30} + 5 edge_{31}\\\\\n",
       "\\text{Subject to} \\quad & edge_{1} = 1.0\\\\\n",
       " & -edge_{1} + edge_{2} = 0.0\\\\\n",
       " & -edge_{2} + edge_{3} + edge_{5} + edge_{20} = 0.0\\\\\n",
       " & -edge_{3} + edge_{4} + edge_{8} + edge_{9} = 0.0\\\\\n",
       " & -edge_{4} + edge_{18} = 0.0\\\\\n",
       " & -edge_{5} + edge_{6} + edge_{7} = 0.0\\\\\n",
       " & -edge_{6} + edge_{10} = 0.0\\\\\n",
       " & -edge_{7} + edge_{13} = 0.0\\\\\n",
       " & -edge_{8} + edge_{11} = 0.0\\\\\n",
       " & -edge_{9} - edge_{10} + edge_{12} = 0.0\\\\\n",
       " & -edge_{11} - edge_{12} - edge_{13} + edge_{14} = 0.0\\\\\n",
       " & -edge_{14} + edge_{15} + edge_{16} + edge_{17} = 0.0\\\\\n",
       " & -edge_{15} + edge_{23} = 0.0\\\\\n",
       " & -edge_{16} + edge_{24} = 0.0\\\\\n",
       " & -edge_{17} + edge_{21} = 0.0\\\\\n",
       " & -edge_{18} + edge_{19} = 0.0\\\\\n",
       " & -edge_{19} + edge_{26} = 0.0\\\\\n",
       " & -edge_{20} + edge_{27} = 0.0\\\\\n",
       " & -edge_{21} - edge_{22} + edge_{29} = 0.0\\\\\n",
       " & edge_{22} - edge_{23} - edge_{24} + edge_{25} = 0.0\\\\\n",
       " & -edge_{25} + edge_{30} = 0.0\\\\\n",
       " & -edge_{26} - edge_{27} + edge_{28} = 0.0\\\\\n",
       " & -edge_{28} + edge_{31} = 0.0\\\\\n",
       " & -edge_{29} - edge_{30} - edge_{31} = -1.0\\\\\n",
       " & edge_{1} \\geq 0.0\\\\\n",
       " & edge_{2} \\geq 0.0\\\\\n",
       " & edge_{3} \\geq 0.0\\\\\n",
       " & edge_{4} \\geq 0.0\\\\\n",
       " & edge_{5} \\geq 0.0\\\\\n",
       " & edge_{6} \\geq 0.0\\\\\n",
       " & edge_{7} \\geq 0.0\\\\\n",
       " & edge_{8} \\geq 0.0\\\\\n",
       " & edge_{9} \\geq 0.0\\\\\n",
       " & edge_{10} \\geq 0.0\\\\\n",
       " & edge_{11} \\geq 0.0\\\\\n",
       " & edge_{12} \\geq 0.0\\\\\n",
       " & edge_{13} \\geq 0.0\\\\\n",
       " & edge_{14} \\geq 0.0\\\\\n",
       " & edge_{15} \\geq 0.0\\\\\n",
       " & edge_{16} \\geq 0.0\\\\\n",
       " & edge_{17} \\geq 0.0\\\\\n",
       " & edge_{18} \\geq 0.0\\\\\n",
       " & edge_{19} \\geq 0.0\\\\\n",
       " & edge_{20} \\geq 0.0\\\\\n",
       " & edge_{21} \\geq 0.0\\\\\n",
       " & edge_{22} \\geq 0.0\\\\\n",
       " & edge_{23} \\geq 0.0\\\\\n",
       " & edge_{24} \\geq 0.0\\\\\n",
       " & edge_{25} \\geq 0.0\\\\\n",
       " & edge_{26} \\geq 0.0\\\\\n",
       " & edge_{27} \\geq 0.0\\\\\n",
       " & edge_{28} \\geq 0.0\\\\\n",
       " & edge_{29} \\geq 0.0\\\\\n",
       " & edge_{30} \\geq 0.0\\\\\n",
       " & edge_{31} \\geq 0.0\\\\\n",
       "\\end{aligned} $$"
      ]
     },
     "metadata": {},
     "output_type": "display_data"
    }
   ],
   "source": [
    "using JuMP\n",
    "using HiGHS\n",
    "\n",
    "m = Model(HiGHS.Optimizer)\n",
    "\n",
    "#Edges from node j to node i\n",
    "@variable(m, 1 >= edge[i in 1:numedges] >= 0)\n",
    "\n",
    "@constraint(m, flow, A*edge .== b)\n",
    "\n",
    "@objective(m, Max, sum(dur[edgestart[i]]*edge[i] for i in 1:numedges))\n",
    "\n",
    "print(m)"
   ]
  },
  {
   "cell_type": "code",
   "execution_count": 24,
   "metadata": {},
   "outputs": [
    {
     "name": "stdout",
     "output_type": "stream",
     "text": [
      "Presolving model\n",
      "10 rows, 17 cols, 34 nonzeros\n",
      "4 rows, 11 cols, 22 nonzeros\n",
      "2 rows, 3 cols, 6 nonzeros\n",
      "0 rows, 1 cols, 0 nonzeros\n",
      "0 rows, 0 cols, 0 nonzeros\n",
      "Presolve : Reductions: rows 0(-24); columns 0(-31); elements 0(-62) - Reduced to empty\n",
      "Solving the original LP from the solution after postsolve\n",
      "Model   status      : Optimal\n",
      "Objective value     :  3.4000000000e+01\n",
      "HiGHS run time      :          0.00\n"
     ]
    }
   ],
   "source": [
    "optimize!(m)"
   ]
  },
  {
   "cell_type": "code",
   "execution_count": 25,
   "metadata": {},
   "outputs": [
    {
     "name": "stdout",
     "output_type": "stream",
     "text": [
      "objective_value(m) = 34.0\n",
      "The edge from a to b is part of the longest path.\n",
      "The edge from b to c is part of the longest path.\n",
      "The edge from c to d is part of the longest path.\n",
      "The edge from d to j is part of the longest path.\n",
      "The edge from j to k is part of the longest path.\n",
      "The edge from k to l is part of the longest path.\n",
      "The edge from l to n is part of the longest path.\n",
      "The edge from t to s is part of the longest path.\n",
      "The edge from n to t is part of the longest path.\n",
      "The edge from s to x is part of the longest path.\n"
     ]
    }
   ],
   "source": [
    "@show objective_value(m)\n",
    "\n",
    "for i in 1:numedges\n",
    "    if(value(edge[i]) > 10^-9)\n",
    "        println(\"The edge from \", numtotasks[edgestart[i]], \" to \", numtotasks[edgeend[i]], \" is part of the longest path.\")\n",
    "    end\n",
    "end"
   ]
  }
 ],
 "metadata": {
  "kernelspec": {
   "display_name": "Julia 1.7.3",
   "language": "julia",
   "name": "julia-1.7"
  },
  "language_info": {
   "file_extension": ".jl",
   "mimetype": "application/julia",
   "name": "julia",
   "version": "1.7.3"
  },
  "orig_nbformat": 4
 },
 "nbformat": 4,
 "nbformat_minor": 2
}
