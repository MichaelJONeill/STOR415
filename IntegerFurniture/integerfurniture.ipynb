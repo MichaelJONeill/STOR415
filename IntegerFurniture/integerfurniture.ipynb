{
 "cells": [
  {
   "cell_type": "markdown",
   "metadata": {},
   "source": [
    "## Woody's Furniture Company\n",
    "Problem by Scott Provan. Lecture Notes for OR 415: Deterministic Models in Operations Research, 2006.\n",
    "\n",
    "- Woody’s Furniture Company produces chairs and tables.\n",
    "- Chairs are made entirely out of pine and each chair uses 14 linear feet of pine.\n",
    "- Tables are made of pine and mahogany and each table uses 26 linear feet of pine and 15 linear\n",
    "feet of mahogany.\n",
    "- Each chair requires 8 hours of labor to produce and each table requires 3 hours of labor.\n",
    "- The profit from each chair is \\$35 and the profit from each tables is \\$60.\n",
    "- Woody has 190 linear feet of pine and 60 linear feet of mahogany available each day, and has a work force of 92 labor hours each day.\n",
    "- How should Woody use his resources to achieve the maximum daily profit, if the numbers of chairs and tables he makes daily have to be integers?"
   ]
  },
  {
   "cell_type": "code",
   "execution_count": 1,
   "metadata": {},
   "outputs": [
    {
     "name": "stdout",
     "output_type": "stream",
     "text": [
      "Max 35 x[1] + 60 x[2]\n",
      "Subject to\n",
      " pine : 14 x[1] + 26 x[2] ≤ 190\n",
      " mahogany : 15 x[2] ≤ 60\n",
      " labor : 8 x[1] + 3 x[2] ≤ 92\n",
      " x[1] ≥ 0\n",
      " x[2] ≥ 0\n",
      " x[1] integer\n",
      " x[2] integer\n"
     ]
    }
   ],
   "source": [
    "using JuMP, HiGHS\n",
    "\n",
    "m = Model(HiGHS.Optimizer)\n",
    "#Make x1 and x2 integer\n",
    "@variable(m, x[1:2] >= 0, Int)\n",
    "\n",
    "#Constraint for pine\n",
    "@constraint(m, pine, 14x[1]+26x[2] <= 190)\n",
    "#Constraint for mahogany\n",
    "@constraint(m, mahogany, 15x[2] <= 60)\n",
    "#Constraint for labor\n",
    "@constraint(m, labor, 8x[1] + 3x[2] <= 92)\n",
    "\n",
    "#Objective function\n",
    "@objective(m, Max, 35x[1]+60x[2])\n",
    "\n",
    "print(m)"
   ]
  },
  {
   "cell_type": "code",
   "execution_count": 2,
   "metadata": {},
   "outputs": [
    {
     "name": "stdout",
     "output_type": "stream",
     "text": [
      "Running HiGHS 1.6.0: Copyright (c) 2023 HiGHS under MIT licence terms\n",
      "Presolving model\n",
      "2 rows, 2 cols, 4 nonzeros\n",
      "2 rows, 2 cols, 4 nonzeros\n",
      "Objective function is integral with scale 0.2\n",
      "\n",
      "Solving MIP model with:\n",
      "   2 rows\n",
      "   2 cols (0 binary, 2 integer, 0 implied int., 0 continuous)\n",
      "   4 nonzeros\n",
      "\n",
      "        Nodes      |    B&B Tree     |            Objective Bounds              |  Dynamic Constraints |       Work      \n",
      "     Proc. InQueue |  Leaves   Expl. | BestBound       BestSol              Gap |   Cuts   InLp Confl. | LpIters     Time\n",
      "\n",
      "         0       0         0   0.00%   625             -inf                 inf        0      0      0         0     0.0s\n",
      " S       0       0         0   0.00%   625             410               52.44%        0      0      0         0     0.0s\n",
      " R       0       0         0   0.00%   467.65625       445                5.09%        0      0      0         2     0.0s\n",
      " T       0       0         0   0.00%   460             460                0.00%        9      2      1         4     0.0s\n",
      "\n",
      "Solving report\n",
      "  Status            Optimal\n",
      "  Primal bound      460\n",
      "  Dual bound        460\n",
      "  Gap               0% (tolerance: 0.01%)\n",
      "  Solution status   feasible\n",
      "                    460 (objective)\n",
      "                    0 (bound viol.)\n",
      "                    5.3290705182e-15 (int. viol.)\n",
      "                    0 (row viol.)\n",
      "  Timing            0.00 (total)\n",
      "                    0.00 (presolve)\n",
      "                    0.00 (postsolve)\n",
      "  Nodes             1\n",
      "  LP iterations     4 (total)\n",
      "                    0 (strong br.)\n",
      "                    2 (separation)\n",
      "                    0 (heuristics)\n"
     ]
    }
   ],
   "source": [
    "optimize!(m)  "
   ]
  },
  {
   "cell_type": "code",
   "execution_count": 3,
   "metadata": {},
   "outputs": [
    {
     "name": "stdout",
     "output_type": "stream",
     "text": [
      "round.(value.(x)) = [8.0, 3.0]\n",
      "objective_value(m) = 460.0\n"
     ]
    },
    {
     "data": {
      "text/plain": [
       "460.0"
      ]
     },
     "metadata": {},
     "output_type": "display_data"
    }
   ],
   "source": [
    "#Round x to deal with slight errors in late decimal points\n",
    "@show round.(value.(x))\n",
    "@show objective_value(m)"
   ]
  },
  {
   "cell_type": "markdown",
   "metadata": {},
   "source": [
    "Let's try solving the LP relaxation. Only change is to not have $x$ be integer."
   ]
  },
  {
   "cell_type": "code",
   "execution_count": 4,
   "metadata": {},
   "outputs": [
    {
     "name": "stdout",
     "output_type": "stream",
     "text": [
      "Running HiGHS 1.6.0: Copyright (c) 2023 HiGHS under MIT licence terms\n",
      "Presolving model\n",
      "2 rows, 2 cols, 4 nonzeros\n",
      "2 rows, 2 cols, 4 nonzeros\n",
      "Presolve : Reductions: rows 2(-1); columns 2(-0); elements 4(-1)\n",
      "Solving the presolved LP\n",
      "Using EKK dual simplex solver - serial\n",
      "  Iteration        Objective     Infeasibilities num(sum)\n",
      "          0    -4.3749660398e+00 Ph1: 2(2.875); Du: 1(4.37497) 0s\n",
      "          2    -4.6801204819e+02 Pr: 0(0) 0s\n",
      "Solving the original LP from the solution after postsolve\n",
      "Model   status      : Optimal\n",
      "Simplex   iterations: 2\n",
      "Objective value     :  4.6801204819e+02\n",
      "HiGHS run time      :          0.00\n"
     ]
    }
   ],
   "source": [
    "using JuMP, HiGHS\n",
    "\n",
    "m = Model(HiGHS.Optimizer)\n",
    "#Make x1 and x2 integer\n",
    "@variable(m, x[1:2] >= 0)\n",
    "\n",
    "#Constraint for pine\n",
    "@constraint(m, pine, 14x[1]+26x[2] <= 190)\n",
    "#Constraint for mahogany\n",
    "@constraint(m, mahogany, 15x[2] <= 60)\n",
    "#Constraint for labor\n",
    "@constraint(m, labor, 8x[1] + 3x[2] <= 92)\n",
    "\n",
    "#Objective function\n",
    "@objective(m, Max, 35x[1]+60x[2])\n",
    "\n",
    "optimize!(m)"
   ]
  },
  {
   "cell_type": "code",
   "execution_count": 5,
   "metadata": {},
   "outputs": [
    {
     "name": "stdout",
     "output_type": "stream",
     "text": [
      "value.(x) = [10.975903614457831, 1.3975903614457836]\n",
      "round.(value.(x)) = [11.0, 1.0]\n",
      "objective_value(m) = 468.01204819277115\n"
     ]
    },
    {
     "data": {
      "text/plain": [
       "468.01204819277115"
      ]
     },
     "metadata": {},
     "output_type": "display_data"
    }
   ],
   "source": [
    "@show value.(x)\n",
    "@show round.(value.(x))\n",
    "@show objective_value(m)"
   ]
  },
  {
   "cell_type": "markdown",
   "metadata": {},
   "source": [
    "We get a **very** different solution by rounding the LP relaxation!"
   ]
  }
 ],
 "metadata": {
  "kernelspec": {
   "display_name": "Julia 1.10.0",
   "language": "julia",
   "name": "julia-1.10"
  },
  "language_info": {
   "file_extension": ".jl",
   "mimetype": "application/julia",
   "name": "julia",
   "version": "1.10.0"
  },
  "orig_nbformat": 4
 },
 "nbformat": 4,
 "nbformat_minor": 2
}
