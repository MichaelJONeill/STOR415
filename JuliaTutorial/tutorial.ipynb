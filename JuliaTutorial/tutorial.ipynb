{
 "cells": [
  {
   "cell_type": "markdown",
   "metadata": {},
   "source": [
    "# A heading\n",
    "#### smaller heading\n",
    "\n",
    "this is just text $c = \\sqrt{a^2+b^2}$. on its own line:\n",
    "$$\n",
    "E=mc^2\n",
    "$$\n",
    "you can also do lists:\n",
    "- first\n",
    "- second\n",
    "- third\n",
    "and that's it. Here is a [link to google](https://www.google.com)\n",
    "\n",
    "| Tables        | Are           | Cool  |\n",
    "| ------------- |:-------------:| -----:|\n",
    "| col 3 is      | right-aligned | \\$1600 |\n",
    "| col 2 is      | centered      |   \\$12 |\n",
    "| zebra stripes | are neat      |    \\$1 |"
   ]
  },
  {
   "cell_type": "markdown",
   "metadata": {},
   "source": []
  },
  {
   "cell_type": "code",
   "execution_count": 3,
   "metadata": {},
   "outputs": [
    {
     "name": "stdout",
     "output_type": "stream",
     "text": [
      "the answer is: 7\n"
     ]
    }
   ],
   "source": [
    "#=\n",
    "this is a comment\n",
    "that spans multiple lines\n",
    "=#\n",
    "x=2+3\n",
    "y=1+1;\n",
    "\n",
    "println(\"the answer is: \", x+y)"
   ]
  },
  {
   "cell_type": "markdown",
   "metadata": {},
   "source": [
    "Julia can also use unicode symbols. Type \\pi and press tab to create the pi character."
   ]
  },
  {
   "cell_type": "code",
   "execution_count": 4,
   "metadata": {},
   "outputs": [
    {
     "data": {
      "text/plain": [
       "6.283185307179586"
      ]
     },
     "execution_count": 4,
     "metadata": {},
     "output_type": "execute_result"
    }
   ],
   "source": [
    "2π"
   ]
  },
  {
   "cell_type": "markdown",
   "metadata": {},
   "source": [
    "Other symbols can be defined as variables as well. For example, typing \\turtle and tab gives:"
   ]
  },
  {
   "cell_type": "code",
   "execution_count": 79,
   "metadata": {},
   "outputs": [
    {
     "data": {
      "text/plain": [
       "5"
      ]
     },
     "execution_count": 79,
     "metadata": {},
     "output_type": "execute_result"
    }
   ],
   "source": [
    "🐢 = 5"
   ]
  },
  {
   "cell_type": "code",
   "execution_count": 80,
   "metadata": {},
   "outputs": [
    {
     "data": {
      "text/plain": [
       "25"
      ]
     },
     "execution_count": 80,
     "metadata": {},
     "output_type": "execute_result"
    }
   ],
   "source": [
    "🐢^2"
   ]
  },
  {
   "cell_type": "markdown",
   "metadata": {},
   "source": [
    "Generally speaking, I would not suggest using symbols in code. However, some Julia code will use symbols (such as greek letters), so it is good to understand how it works."
   ]
  },
  {
   "cell_type": "markdown",
   "metadata": {},
   "source": [
    "Julia also natively supports vectors and matrices:"
   ]
  },
  {
   "cell_type": "code",
   "execution_count": 7,
   "metadata": {},
   "outputs": [
    {
     "data": {
      "text/plain": [
       "1Ã—3 Array{Int64,2}:\n",
       " 1  2  3"
      ]
     },
     "execution_count": 7,
     "metadata": {},
     "output_type": "execute_result"
    }
   ],
   "source": [
    "x = [1 2 3]"
   ]
  },
  {
   "cell_type": "code",
   "execution_count": 8,
   "metadata": {},
   "outputs": [
    {
     "data": {
      "text/plain": [
       "3-element Array{Int64,1}:\n",
       " 1\n",
       " 2\n",
       " 3"
      ]
     },
     "execution_count": 8,
     "metadata": {},
     "output_type": "execute_result"
    }
   ],
   "source": [
    "y = [1, 2, 3]"
   ]
  },
  {
   "cell_type": "code",
   "execution_count": 81,
   "metadata": {},
   "outputs": [
    {
     "data": {
      "text/plain": [
       "1-element Vector{Int64}:\n",
       " 14"
      ]
     },
     "execution_count": 81,
     "metadata": {},
     "output_type": "execute_result"
    }
   ],
   "source": [
    "x*y"
   ]
  },
  {
   "cell_type": "code",
   "execution_count": 13,
   "metadata": {},
   "outputs": [
    {
     "data": {
      "text/plain": [
       "2Ã—3 Array{Int64,2}:\n",
       " 1  2  3\n",
       " 4  5  6"
      ]
     },
     "execution_count": 13,
     "metadata": {},
     "output_type": "execute_result"
    }
   ],
   "source": [
    "A = [1 2 3; 4 5 6]"
   ]
  },
  {
   "cell_type": "code",
   "execution_count": 84,
   "metadata": {},
   "outputs": [
    {
     "data": {
      "text/plain": [
       "0-element Array{Any,1}"
      ]
     },
     "execution_count": 84,
     "metadata": {},
     "output_type": "execute_result"
    }
   ],
   "source": [
    "A = []"
   ]
  },
  {
   "cell_type": "code",
   "execution_count": 85,
   "metadata": {},
   "outputs": [
    {
     "data": {
      "text/plain": [
       "1-element Array{Any,1}:\n",
       " \"hello\""
      ]
     },
     "execution_count": 85,
     "metadata": {},
     "output_type": "execute_result"
    }
   ],
   "source": [
    "push!(A, \"hello\")"
   ]
  },
  {
   "cell_type": "code",
   "execution_count": 86,
   "metadata": {},
   "outputs": [
    {
     "data": {
      "text/plain": [
       "2-element Array{Any,1}:\n",
       " \"hello\"                                                 \n",
       " [0.795162 0.338256 0.729517; 0.263179 0.822404 0.507274]"
      ]
     },
     "execution_count": 86,
     "metadata": {},
     "output_type": "execute_result"
    }
   ],
   "source": [
    "push!(A, rand(2,3))"
   ]
  },
  {
   "cell_type": "code",
   "execution_count": 87,
   "metadata": {},
   "outputs": [
    {
     "data": {
      "text/plain": [
       "3-element Array{Any,1}:\n",
       " \"hello\"                                                                                                  \n",
       " [0.795162 0.338256 0.729517; 0.263179 0.822404 0.507274]                                                 \n",
       " Any[\"hello\", [0.795162 0.338256 0.729517; 0.263179 0.822404 0.507274], Any[#= circular reference @-1 =#]]"
      ]
     },
     "execution_count": 87,
     "metadata": {},
     "output_type": "execute_result"
    }
   ],
   "source": [
    "push!(A, A)"
   ]
  },
  {
   "cell_type": "markdown",
   "metadata": {},
   "source": [
    "We can also create arrays using the range functionality:"
   ]
  },
  {
   "cell_type": "code",
   "execution_count": 85,
   "metadata": {},
   "outputs": [
    {
     "name": "stdout",
     "output_type": "stream",
     "text": [
      "1 2 3 4 5 \n",
      "10 8 6 4 2 0 "
     ]
    }
   ],
   "source": [
    "x = 1:5\n",
    "y = 10:-2:0\n",
    "\n",
    "for i in x\n",
    "    print(i, \" \")\n",
    "end\n",
    "println(\"\")\n",
    "for j in y\n",
    "    print(j, \" \")\n",
    "end"
   ]
  },
  {
   "cell_type": "markdown",
   "metadata": {},
   "source": [
    "We can use this functionality to make writing loops easier."
   ]
  },
  {
   "cell_type": "code",
   "execution_count": 87,
   "metadata": {},
   "outputs": [
    {
     "name": "stdout",
     "output_type": "stream",
     "text": [
      "12\n",
      "20\n",
      "30\n",
      "42\n"
     ]
    }
   ],
   "source": [
    "x = [3 4 5 6 7]\n",
    "for i in 1:4\n",
    "    println(x[i]*x[i+1])\n",
    "end"
   ]
  },
  {
   "cell_type": "markdown",
   "metadata": {},
   "source": [
    "We can generate vectors of uniformly random variables with:"
   ]
  },
  {
   "cell_type": "code",
   "execution_count": 89,
   "metadata": {},
   "outputs": [
    {
     "data": {
      "text/plain": [
       "5-element Vector{Float64}:\n",
       " 0.6927766605062684\n",
       " 0.7675189403350423\n",
       " 0.8910312685254971\n",
       " 0.2894409354856553\n",
       " 0.11519921553546297"
      ]
     },
     "execution_count": 89,
     "metadata": {},
     "output_type": "execute_result"
    }
   ],
   "source": [
    "x = rand(5)"
   ]
  },
  {
   "cell_type": "code",
   "execution_count": 90,
   "metadata": {},
   "outputs": [
    {
     "name": "stdout",
     "output_type": "stream",
     "text": [
      "0.8910312685254971\n",
      "0.2894409354856553\n",
      "0.11519921553546297\n"
     ]
    }
   ],
   "source": [
    "for i in 3:5\n",
    "    println(x[i])\n",
    "end"
   ]
  },
  {
   "cell_type": "markdown",
   "metadata": {},
   "source": [
    "There are some special vectors in Julia."
   ]
  },
  {
   "cell_type": "code",
   "execution_count": 106,
   "metadata": {},
   "outputs": [
    {
     "data": {
      "text/plain": [
       "3-element Vector{Float64}:\n",
       " 1.0\n",
       " 1.0\n",
       " 1.0"
      ]
     },
     "execution_count": 106,
     "metadata": {},
     "output_type": "execute_result"
    }
   ],
   "source": [
    "x = ones(3)"
   ]
  },
  {
   "cell_type": "code",
   "execution_count": 107,
   "metadata": {},
   "outputs": [
    {
     "data": {
      "text/plain": [
       "3-element Vector{Float64}:\n",
       " 0.0\n",
       " 0.0\n",
       " 0.0"
      ]
     },
     "execution_count": 107,
     "metadata": {},
     "output_type": "execute_result"
    }
   ],
   "source": [
    "y = zeros(3)"
   ]
  },
  {
   "cell_type": "markdown",
   "metadata": {},
   "source": [
    "We can also create the identity matrix using these vectors with the LinearAlgebra package."
   ]
  },
  {
   "cell_type": "code",
   "execution_count": 109,
   "metadata": {},
   "outputs": [
    {
     "data": {
      "text/plain": [
       "3×3 Matrix{Float64}:\n",
       " 1.0  0.0  0.0\n",
       " 0.0  1.0  0.0\n",
       " 0.0  0.0  1.0"
      ]
     },
     "execution_count": 109,
     "metadata": {},
     "output_type": "execute_result"
    }
   ],
   "source": [
    "#If you have not used LinearAlgebra before, call\n",
    "#using Pkg\n",
    "#Pkg.add(\"LinearAlgebra\")\n",
    "\n",
    "using LinearAlgebra\n",
    "I = diagm(ones(3))"
   ]
  },
  {
   "cell_type": "markdown",
   "metadata": {},
   "source": [
    "Copying vectors in Julia requires using the copy command, using = only makes a reference to the same vector. See the below example:"
   ]
  },
  {
   "cell_type": "code",
   "execution_count": 90,
   "metadata": {},
   "outputs": [
    {
     "data": {
      "text/plain": [
       "5-element Array{Float64,1}:\n",
       " 0.148972\n",
       " 0.42514 \n",
       " 0.591444\n",
       " 0.624182\n",
       " 0.703856"
      ]
     },
     "execution_count": 90,
     "metadata": {},
     "output_type": "execute_result"
    }
   ],
   "source": [
    "x"
   ]
  },
  {
   "cell_type": "code",
   "execution_count": 41,
   "metadata": {},
   "outputs": [
    {
     "data": {
      "text/plain": [
       "5-element Array{Float64,1}:\n",
       " 0.309248\n",
       " 0.351407\n",
       " 0.472381\n",
       " 0.506109\n",
       " 0.634877"
      ]
     },
     "execution_count": 41,
     "metadata": {},
     "output_type": "execute_result"
    }
   ],
   "source": [
    "y = x"
   ]
  },
  {
   "cell_type": "code",
   "execution_count": 42,
   "metadata": {},
   "outputs": [
    {
     "data": {
      "text/plain": [
       "5-element Array{Float64,1}:\n",
       " 0.309248\n",
       " 0.351407\n",
       " 0.472381\n",
       " 0.506109\n",
       " 0.634877"
      ]
     },
     "execution_count": 42,
     "metadata": {},
     "output_type": "execute_result"
    }
   ],
   "source": [
    "y"
   ]
  },
  {
   "cell_type": "code",
   "execution_count": 43,
   "metadata": {},
   "outputs": [
    {
     "data": {
      "text/plain": [
       "2"
      ]
     },
     "execution_count": 43,
     "metadata": {},
     "output_type": "execute_result"
    }
   ],
   "source": [
    "x[1] = 2"
   ]
  },
  {
   "cell_type": "code",
   "execution_count": 44,
   "metadata": {},
   "outputs": [
    {
     "data": {
      "text/plain": [
       "5-element Array{Float64,1}:\n",
       " 2.0     \n",
       " 0.351407\n",
       " 0.472381\n",
       " 0.506109\n",
       " 0.634877"
      ]
     },
     "execution_count": 44,
     "metadata": {},
     "output_type": "execute_result"
    }
   ],
   "source": [
    "x"
   ]
  },
  {
   "cell_type": "code",
   "execution_count": 45,
   "metadata": {},
   "outputs": [
    {
     "data": {
      "text/plain": [
       "5-element Array{Float64,1}:\n",
       " 2.0     \n",
       " 0.351407\n",
       " 0.472381\n",
       " 0.506109\n",
       " 0.634877"
      ]
     },
     "execution_count": 45,
     "metadata": {},
     "output_type": "execute_result"
    }
   ],
   "source": [
    "y"
   ]
  },
  {
   "cell_type": "code",
   "execution_count": 46,
   "metadata": {},
   "outputs": [
    {
     "data": {
      "text/plain": [
       "5-element Array{Float64,1}:\n",
       " 2.0     \n",
       " 0.351407\n",
       " 0.472381\n",
       " 0.506109\n",
       " 0.634877"
      ]
     },
     "execution_count": 46,
     "metadata": {},
     "output_type": "execute_result"
    }
   ],
   "source": [
    "z = copy(x)"
   ]
  },
  {
   "cell_type": "code",
   "execution_count": 47,
   "metadata": {},
   "outputs": [
    {
     "data": {
      "text/plain": [
       "6"
      ]
     },
     "execution_count": 47,
     "metadata": {},
     "output_type": "execute_result"
    }
   ],
   "source": [
    "x[2] = 6"
   ]
  },
  {
   "cell_type": "code",
   "execution_count": 48,
   "metadata": {},
   "outputs": [
    {
     "data": {
      "text/plain": [
       "5-element Array{Float64,1}:\n",
       " 2.0     \n",
       " 6.0     \n",
       " 0.472381\n",
       " 0.506109\n",
       " 0.634877"
      ]
     },
     "execution_count": 48,
     "metadata": {},
     "output_type": "execute_result"
    }
   ],
   "source": [
    "x"
   ]
  },
  {
   "cell_type": "code",
   "execution_count": 49,
   "metadata": {},
   "outputs": [
    {
     "data": {
      "text/plain": [
       "5-element Array{Float64,1}:\n",
       " 2.0     \n",
       " 6.0     \n",
       " 0.472381\n",
       " 0.506109\n",
       " 0.634877"
      ]
     },
     "execution_count": 49,
     "metadata": {},
     "output_type": "execute_result"
    }
   ],
   "source": [
    "y"
   ]
  },
  {
   "cell_type": "code",
   "execution_count": 50,
   "metadata": {},
   "outputs": [
    {
     "data": {
      "text/plain": [
       "5-element Array{Float64,1}:\n",
       " 2.0     \n",
       " 0.351407\n",
       " 0.472381\n",
       " 0.506109\n",
       " 0.634877"
      ]
     },
     "execution_count": 50,
     "metadata": {},
     "output_type": "execute_result"
    }
   ],
   "source": [
    "z"
   ]
  },
  {
   "cell_type": "markdown",
   "metadata": {},
   "source": [
    "Another useful type of data structure in Julia is dictionaries. Dictionaries map a key to a value. For example:"
   ]
  },
  {
   "cell_type": "code",
   "execution_count": 94,
   "metadata": {},
   "outputs": [
    {
     "data": {
      "text/plain": [
       "2"
      ]
     },
     "execution_count": 94,
     "metadata": {},
     "output_type": "execute_result"
    }
   ],
   "source": [
    "mydictionary = Dict([(\"A\",1),(\"B\",2)])\n",
    "mydictionary[\"B\"]"
   ]
  },
  {
   "cell_type": "markdown",
   "metadata": {},
   "source": [
    "We can also add elements to our dictionary over time."
   ]
  },
  {
   "cell_type": "code",
   "execution_count": 97,
   "metadata": {},
   "outputs": [
    {
     "name": "stdout",
     "output_type": "stream",
     "text": [
      "key = B value = 2\n",
      "key = A value = 1\n",
      "key = C value = 3\n"
     ]
    }
   ],
   "source": [
    "mydictionary[\"C\"] = 3\n",
    "for (key, value) in mydictionary\n",
    "    println(\"key = \", key, \" value = \", value)\n",
    "end"
   ]
  },
  {
   "cell_type": "markdown",
   "metadata": {},
   "source": [
    "Plotting is also relatively easy in Julia."
   ]
  },
  {
   "cell_type": "code",
   "execution_count": 104,
   "metadata": {},
   "outputs": [
    {
     "data": {
      "image/svg+xml": "<?xml version=\"1.0\" encoding=\"utf-8\"?>\n<svg xmlns=\"http://www.w3.org/2000/svg\" xmlns:xlink=\"http://www.w3.org/1999/xlink\" width=\"600\" height=\"400\" viewBox=\"0 0 2400 1600\">\n<defs>\n  <clipPath id=\"clip980\">\n    <rect x=\"0\" y=\"0\" width=\"2400\" height=\"1600\"/>\n  </clipPath>\n</defs>\n<path clip-path=\"url(#clip980)\" d=\"\nM0 1600 L2400 1600 L2400 0 L0 0  Z\n  \" fill=\"#ffffff\" fill-rule=\"evenodd\" fill-opacity=\"1\"/>\n<defs>\n  <clipPath id=\"clip981\">\n    <rect x=\"480\" y=\"0\" width=\"1681\" height=\"1600\"/>\n  </clipPath>\n</defs>\n<path clip-path=\"url(#clip980)\" d=\"\nM193.936 1486.45 L2352.76 1486.45 L2352.76 47.2441 L193.936 47.2441  Z\n  \" fill=\"#ffffff\" fill-rule=\"evenodd\" fill-opacity=\"1\"/>\n<defs>\n  <clipPath id=\"clip982\">\n    <rect x=\"193\" y=\"47\" width=\"2160\" height=\"1440\"/>\n  </clipPath>\n</defs>\n<polyline clip-path=\"url(#clip982)\" style=\"stroke:#000000; stroke-linecap:butt; stroke-linejoin:round; stroke-width:2; stroke-opacity:0.1; fill:none\" points=\"\n  255.035,1486.45 255.035,47.2441 \n  \"/>\n<polyline clip-path=\"url(#clip982)\" style=\"stroke:#000000; stroke-linecap:butt; stroke-linejoin:round; stroke-width:2; stroke-opacity:0.1; fill:none\" points=\"\n  579.173,1486.45 579.173,47.2441 \n  \"/>\n<polyline clip-path=\"url(#clip982)\" style=\"stroke:#000000; stroke-linecap:butt; stroke-linejoin:round; stroke-width:2; stroke-opacity:0.1; fill:none\" points=\"\n  903.312,1486.45 903.312,47.2441 \n  \"/>\n<polyline clip-path=\"url(#clip982)\" style=\"stroke:#000000; stroke-linecap:butt; stroke-linejoin:round; stroke-width:2; stroke-opacity:0.1; fill:none\" points=\"\n  1227.45,1486.45 1227.45,47.2441 \n  \"/>\n<polyline clip-path=\"url(#clip982)\" style=\"stroke:#000000; stroke-linecap:butt; stroke-linejoin:round; stroke-width:2; stroke-opacity:0.1; fill:none\" points=\"\n  1551.59,1486.45 1551.59,47.2441 \n  \"/>\n<polyline clip-path=\"url(#clip982)\" style=\"stroke:#000000; stroke-linecap:butt; stroke-linejoin:round; stroke-width:2; stroke-opacity:0.1; fill:none\" points=\"\n  1875.73,1486.45 1875.73,47.2441 \n  \"/>\n<polyline clip-path=\"url(#clip982)\" style=\"stroke:#000000; stroke-linecap:butt; stroke-linejoin:round; stroke-width:2; stroke-opacity:0.1; fill:none\" points=\"\n  2199.87,1486.45 2199.87,47.2441 \n  \"/>\n<polyline clip-path=\"url(#clip980)\" style=\"stroke:#000000; stroke-linecap:butt; stroke-linejoin:round; stroke-width:4; stroke-opacity:1; fill:none\" points=\"\n  193.936,1486.45 2352.76,1486.45 \n  \"/>\n<polyline clip-path=\"url(#clip980)\" style=\"stroke:#000000; stroke-linecap:butt; stroke-linejoin:round; stroke-width:4; stroke-opacity:1; fill:none\" points=\"\n  255.035,1486.45 255.035,1467.55 \n  \"/>\n<polyline clip-path=\"url(#clip980)\" style=\"stroke:#000000; stroke-linecap:butt; stroke-linejoin:round; stroke-width:4; stroke-opacity:1; fill:none\" points=\"\n  579.173,1486.45 579.173,1467.55 \n  \"/>\n<polyline clip-path=\"url(#clip980)\" style=\"stroke:#000000; stroke-linecap:butt; stroke-linejoin:round; stroke-width:4; stroke-opacity:1; fill:none\" points=\"\n  903.312,1486.45 903.312,1467.55 \n  \"/>\n<polyline clip-path=\"url(#clip980)\" style=\"stroke:#000000; stroke-linecap:butt; stroke-linejoin:round; stroke-width:4; stroke-opacity:1; fill:none\" points=\"\n  1227.45,1486.45 1227.45,1467.55 \n  \"/>\n<polyline clip-path=\"url(#clip980)\" style=\"stroke:#000000; stroke-linecap:butt; stroke-linejoin:round; stroke-width:4; stroke-opacity:1; fill:none\" points=\"\n  1551.59,1486.45 1551.59,1467.55 \n  \"/>\n<polyline clip-path=\"url(#clip980)\" style=\"stroke:#000000; stroke-linecap:butt; stroke-linejoin:round; stroke-width:4; stroke-opacity:1; fill:none\" points=\"\n  1875.73,1486.45 1875.73,1467.55 \n  \"/>\n<polyline clip-path=\"url(#clip980)\" style=\"stroke:#000000; stroke-linecap:butt; stroke-linejoin:round; stroke-width:4; stroke-opacity:1; fill:none\" points=\"\n  2199.87,1486.45 2199.87,1467.55 \n  \"/>\n<path clip-path=\"url(#clip980)\" d=\"M255.035 1517.37 Q251.424 1517.37 249.595 1520.93 Q247.789 1524.47 247.789 1531.6 Q247.789 1538.71 249.595 1542.27 Q251.424 1545.82 255.035 1545.82 Q258.669 1545.82 260.474 1542.27 Q262.303 1538.71 262.303 1531.6 Q262.303 1524.47 260.474 1520.93 Q258.669 1517.37 255.035 1517.37 M255.035 1513.66 Q260.845 1513.66 263.9 1518.27 Q266.979 1522.85 266.979 1531.6 Q266.979 1540.33 263.9 1544.94 Q260.845 1549.52 255.035 1549.52 Q249.225 1549.52 246.146 1544.94 Q243.09 1540.33 243.09 1531.6 Q243.09 1522.85 246.146 1518.27 Q249.225 1513.66 255.035 1513.66 Z\" fill=\"#000000\" fill-rule=\"evenodd\" fill-opacity=\"1\" /><path clip-path=\"url(#clip980)\" d=\"M569.555 1544.91 L577.194 1544.91 L577.194 1518.55 L568.884 1520.21 L568.884 1515.95 L577.148 1514.29 L581.824 1514.29 L581.824 1544.91 L589.463 1544.91 L589.463 1548.85 L569.555 1548.85 L569.555 1544.91 Z\" fill=\"#000000\" fill-rule=\"evenodd\" fill-opacity=\"1\" /><path clip-path=\"url(#clip980)\" d=\"M897.965 1544.91 L914.284 1544.91 L914.284 1548.85 L892.34 1548.85 L892.34 1544.91 Q895.002 1542.16 899.585 1537.53 Q904.191 1532.88 905.372 1531.53 Q907.617 1529.01 908.497 1527.27 Q909.4 1525.51 909.4 1523.82 Q909.4 1521.07 907.455 1519.33 Q905.534 1517.6 902.432 1517.6 Q900.233 1517.6 897.779 1518.36 Q895.349 1519.13 892.571 1520.68 L892.571 1515.95 Q895.395 1514.82 897.849 1514.24 Q900.303 1513.66 902.34 1513.66 Q907.71 1513.66 910.904 1516.35 Q914.099 1519.03 914.099 1523.52 Q914.099 1525.65 913.289 1527.57 Q912.502 1529.47 910.395 1532.07 Q909.816 1532.74 906.715 1535.95 Q903.613 1539.15 897.965 1544.91 Z\" fill=\"#000000\" fill-rule=\"evenodd\" fill-opacity=\"1\" /><path clip-path=\"url(#clip980)\" d=\"M1231.7 1530.21 Q1235.05 1530.93 1236.93 1533.2 Q1238.83 1535.47 1238.83 1538.8 Q1238.83 1543.92 1235.31 1546.72 Q1231.79 1549.52 1225.31 1549.52 Q1223.13 1549.52 1220.82 1549.08 Q1218.53 1548.66 1216.07 1547.81 L1216.07 1543.29 Q1218.02 1544.43 1220.33 1545.01 Q1222.65 1545.58 1225.17 1545.58 Q1229.57 1545.58 1231.86 1543.85 Q1234.17 1542.11 1234.17 1538.8 Q1234.17 1535.75 1232.02 1534.03 Q1229.89 1532.3 1226.07 1532.3 L1222.05 1532.3 L1222.05 1528.45 L1226.26 1528.45 Q1229.71 1528.45 1231.54 1527.09 Q1233.36 1525.7 1233.36 1523.11 Q1233.36 1520.45 1231.47 1519.03 Q1229.59 1517.6 1226.07 1517.6 Q1224.15 1517.6 1221.95 1518.01 Q1219.75 1518.43 1217.11 1519.31 L1217.11 1515.14 Q1219.78 1514.4 1222.09 1514.03 Q1224.43 1513.66 1226.49 1513.66 Q1231.81 1513.66 1234.92 1516.09 Q1238.02 1518.5 1238.02 1522.62 Q1238.02 1525.49 1236.37 1527.48 Q1234.73 1529.45 1231.7 1530.21 Z\" fill=\"#000000\" fill-rule=\"evenodd\" fill-opacity=\"1\" /><path clip-path=\"url(#clip980)\" d=\"M1554.6 1518.36 L1542.79 1536.81 L1554.6 1536.81 L1554.6 1518.36 M1553.37 1514.29 L1559.25 1514.29 L1559.25 1536.81 L1564.18 1536.81 L1564.18 1540.7 L1559.25 1540.7 L1559.25 1548.85 L1554.6 1548.85 L1554.6 1540.7 L1539 1540.7 L1539 1536.19 L1553.37 1514.29 Z\" fill=\"#000000\" fill-rule=\"evenodd\" fill-opacity=\"1\" /><path clip-path=\"url(#clip980)\" d=\"M1866.01 1514.29 L1884.36 1514.29 L1884.36 1518.22 L1870.29 1518.22 L1870.29 1526.7 Q1871.31 1526.35 1872.32 1526.19 Q1873.34 1526 1874.36 1526 Q1880.15 1526 1883.53 1529.17 Q1886.91 1532.34 1886.91 1537.76 Q1886.91 1543.34 1883.44 1546.44 Q1879.96 1549.52 1873.64 1549.52 Q1871.47 1549.52 1869.2 1549.15 Q1866.95 1548.78 1864.55 1548.04 L1864.55 1543.34 Q1866.63 1544.47 1868.85 1545.03 Q1871.07 1545.58 1873.55 1545.58 Q1877.56 1545.58 1879.89 1543.48 Q1882.23 1541.37 1882.23 1537.76 Q1882.23 1534.15 1879.89 1532.04 Q1877.56 1529.94 1873.55 1529.94 Q1871.68 1529.94 1869.8 1530.35 Q1867.95 1530.77 1866.01 1531.65 L1866.01 1514.29 Z\" fill=\"#000000\" fill-rule=\"evenodd\" fill-opacity=\"1\" /><path clip-path=\"url(#clip980)\" d=\"M2200.27 1529.7 Q2197.12 1529.7 2195.27 1531.86 Q2193.44 1534.01 2193.44 1537.76 Q2193.44 1541.49 2195.27 1543.66 Q2197.12 1545.82 2200.27 1545.82 Q2203.42 1545.82 2205.25 1543.66 Q2207.1 1541.49 2207.1 1537.76 Q2207.1 1534.01 2205.25 1531.86 Q2203.42 1529.7 2200.27 1529.7 M2209.55 1515.05 L2209.55 1519.31 Q2207.79 1518.48 2205.99 1518.04 Q2204.21 1517.6 2202.45 1517.6 Q2197.82 1517.6 2195.36 1520.72 Q2192.93 1523.85 2192.59 1530.17 Q2193.95 1528.15 2196.01 1527.09 Q2198.07 1526 2200.55 1526 Q2205.76 1526 2208.77 1529.17 Q2211.8 1532.32 2211.8 1537.76 Q2211.8 1543.08 2208.65 1546.3 Q2205.5 1549.52 2200.27 1549.52 Q2194.28 1549.52 2191.1 1544.94 Q2187.93 1540.33 2187.93 1531.6 Q2187.93 1523.41 2191.82 1518.55 Q2195.71 1513.66 2202.26 1513.66 Q2204.02 1513.66 2205.8 1514.01 Q2207.61 1514.36 2209.55 1515.05 Z\" fill=\"#000000\" fill-rule=\"evenodd\" fill-opacity=\"1\" /><polyline clip-path=\"url(#clip982)\" style=\"stroke:#000000; stroke-linecap:butt; stroke-linejoin:round; stroke-width:2; stroke-opacity:0.1; fill:none\" points=\"\n  193.936,1445.8 2352.76,1445.8 \n  \"/>\n<polyline clip-path=\"url(#clip982)\" style=\"stroke:#000000; stroke-linecap:butt; stroke-linejoin:round; stroke-width:2; stroke-opacity:0.1; fill:none\" points=\"\n  193.936,1106.32 2352.76,1106.32 \n  \"/>\n<polyline clip-path=\"url(#clip982)\" style=\"stroke:#000000; stroke-linecap:butt; stroke-linejoin:round; stroke-width:2; stroke-opacity:0.1; fill:none\" points=\"\n  193.936,766.846 2352.76,766.846 \n  \"/>\n<polyline clip-path=\"url(#clip982)\" style=\"stroke:#000000; stroke-linecap:butt; stroke-linejoin:round; stroke-width:2; stroke-opacity:0.1; fill:none\" points=\"\n  193.936,427.368 2352.76,427.368 \n  \"/>\n<polyline clip-path=\"url(#clip982)\" style=\"stroke:#000000; stroke-linecap:butt; stroke-linejoin:round; stroke-width:2; stroke-opacity:0.1; fill:none\" points=\"\n  193.936,87.8908 2352.76,87.8908 \n  \"/>\n<polyline clip-path=\"url(#clip980)\" style=\"stroke:#000000; stroke-linecap:butt; stroke-linejoin:round; stroke-width:4; stroke-opacity:1; fill:none\" points=\"\n  193.936,1486.45 193.936,47.2441 \n  \"/>\n<polyline clip-path=\"url(#clip980)\" style=\"stroke:#000000; stroke-linecap:butt; stroke-linejoin:round; stroke-width:4; stroke-opacity:1; fill:none\" points=\"\n  193.936,1445.8 212.834,1445.8 \n  \"/>\n<polyline clip-path=\"url(#clip980)\" style=\"stroke:#000000; stroke-linecap:butt; stroke-linejoin:round; stroke-width:4; stroke-opacity:1; fill:none\" points=\"\n  193.936,1106.32 212.834,1106.32 \n  \"/>\n<polyline clip-path=\"url(#clip980)\" style=\"stroke:#000000; stroke-linecap:butt; stroke-linejoin:round; stroke-width:4; stroke-opacity:1; fill:none\" points=\"\n  193.936,766.846 212.834,766.846 \n  \"/>\n<polyline clip-path=\"url(#clip980)\" style=\"stroke:#000000; stroke-linecap:butt; stroke-linejoin:round; stroke-width:4; stroke-opacity:1; fill:none\" points=\"\n  193.936,427.368 212.834,427.368 \n  \"/>\n<polyline clip-path=\"url(#clip980)\" style=\"stroke:#000000; stroke-linecap:butt; stroke-linejoin:round; stroke-width:4; stroke-opacity:1; fill:none\" points=\"\n  193.936,87.8908 212.834,87.8908 \n  \"/>\n<path clip-path=\"url(#clip980)\" d=\"M50.9921 1446.25 L80.6679 1446.25 L80.6679 1450.19 L50.9921 1450.19 L50.9921 1446.25 Z\" fill=\"#000000\" fill-rule=\"evenodd\" fill-opacity=\"1\" /><path clip-path=\"url(#clip980)\" d=\"M91.5706 1459.15 L99.2095 1459.15 L99.2095 1432.78 L90.8993 1434.45 L90.8993 1430.19 L99.1632 1428.52 L103.839 1428.52 L103.839 1459.15 L111.478 1459.15 L111.478 1463.08 L91.5706 1463.08 L91.5706 1459.15 Z\" fill=\"#000000\" fill-rule=\"evenodd\" fill-opacity=\"1\" /><path clip-path=\"url(#clip980)\" d=\"M120.922 1457.2 L125.807 1457.2 L125.807 1463.08 L120.922 1463.08 L120.922 1457.2 Z\" fill=\"#000000\" fill-rule=\"evenodd\" fill-opacity=\"1\" /><path clip-path=\"url(#clip980)\" d=\"M145.992 1431.6 Q142.381 1431.6 140.552 1435.16 Q138.746 1438.71 138.746 1445.84 Q138.746 1452.94 140.552 1456.51 Q142.381 1460.05 145.992 1460.05 Q149.626 1460.05 151.431 1456.51 Q153.26 1452.94 153.26 1445.84 Q153.26 1438.71 151.431 1435.16 Q149.626 1431.6 145.992 1431.6 M145.992 1427.9 Q151.802 1427.9 154.857 1432.5 Q157.936 1437.09 157.936 1445.84 Q157.936 1454.56 154.857 1459.17 Q151.802 1463.75 145.992 1463.75 Q140.181 1463.75 137.103 1459.17 Q134.047 1454.56 134.047 1445.84 Q134.047 1437.09 137.103 1432.5 Q140.181 1427.9 145.992 1427.9 Z\" fill=\"#000000\" fill-rule=\"evenodd\" fill-opacity=\"1\" /><path clip-path=\"url(#clip980)\" d=\"M51.9875 1106.77 L81.6633 1106.77 L81.6633 1110.71 L51.9875 1110.71 L51.9875 1106.77 Z\" fill=\"#000000\" fill-rule=\"evenodd\" fill-opacity=\"1\" /><path clip-path=\"url(#clip980)\" d=\"M101.756 1092.12 Q98.1447 1092.12 96.316 1095.69 Q94.5104 1099.23 94.5104 1106.36 Q94.5104 1113.46 96.316 1117.03 Q98.1447 1120.57 101.756 1120.57 Q105.39 1120.57 107.196 1117.03 Q109.024 1113.46 109.024 1106.36 Q109.024 1099.23 107.196 1095.69 Q105.39 1092.12 101.756 1092.12 M101.756 1088.42 Q107.566 1088.42 110.621 1093.03 Q113.7 1097.61 113.7 1106.36 Q113.7 1115.09 110.621 1119.69 Q107.566 1124.27 101.756 1124.27 Q95.9456 1124.27 92.8669 1119.69 Q89.8114 1115.09 89.8114 1106.36 Q89.8114 1097.61 92.8669 1093.03 Q95.9456 1088.42 101.756 1088.42 Z\" fill=\"#000000\" fill-rule=\"evenodd\" fill-opacity=\"1\" /><path clip-path=\"url(#clip980)\" d=\"M121.918 1117.72 L126.802 1117.72 L126.802 1123.6 L121.918 1123.6 L121.918 1117.72 Z\" fill=\"#000000\" fill-rule=\"evenodd\" fill-opacity=\"1\" /><path clip-path=\"url(#clip980)\" d=\"M137.033 1089.04 L155.39 1089.04 L155.39 1092.98 L141.316 1092.98 L141.316 1101.45 Q142.334 1101.1 143.353 1100.94 Q144.371 1100.76 145.39 1100.76 Q151.177 1100.76 154.556 1103.93 Q157.936 1107.1 157.936 1112.52 Q157.936 1118.09 154.464 1121.2 Q150.992 1124.27 144.672 1124.27 Q142.496 1124.27 140.228 1123.9 Q137.982 1123.53 135.575 1122.79 L135.575 1118.09 Q137.658 1119.23 139.881 1119.78 Q142.103 1120.34 144.58 1120.34 Q148.584 1120.34 150.922 1118.23 Q153.26 1116.13 153.26 1112.52 Q153.26 1108.9 150.922 1106.8 Q148.584 1104.69 144.58 1104.69 Q142.705 1104.69 140.83 1105.11 Q138.978 1105.52 137.033 1106.4 L137.033 1089.04 Z\" fill=\"#000000\" fill-rule=\"evenodd\" fill-opacity=\"1\" /><path clip-path=\"url(#clip980)\" d=\"M100.76 752.645 Q97.1493 752.645 95.3206 756.209 Q93.515 759.751 93.515 766.881 Q93.515 773.987 95.3206 777.552 Q97.1493 781.094 100.76 781.094 Q104.395 781.094 106.2 777.552 Q108.029 773.987 108.029 766.881 Q108.029 759.751 106.2 756.209 Q104.395 752.645 100.76 752.645 M100.76 748.941 Q106.571 748.941 109.626 753.547 Q112.705 758.131 112.705 766.881 Q112.705 775.608 109.626 780.214 Q106.571 784.797 100.76 784.797 Q94.9502 784.797 91.8715 780.214 Q88.816 775.608 88.816 766.881 Q88.816 758.131 91.8715 753.547 Q94.9502 748.941 100.76 748.941 Z\" fill=\"#000000\" fill-rule=\"evenodd\" fill-opacity=\"1\" /><path clip-path=\"url(#clip980)\" d=\"M120.922 778.246 L125.807 778.246 L125.807 784.126 L120.922 784.126 L120.922 778.246 Z\" fill=\"#000000\" fill-rule=\"evenodd\" fill-opacity=\"1\" /><path clip-path=\"url(#clip980)\" d=\"M145.992 752.645 Q142.381 752.645 140.552 756.209 Q138.746 759.751 138.746 766.881 Q138.746 773.987 140.552 777.552 Q142.381 781.094 145.992 781.094 Q149.626 781.094 151.431 777.552 Q153.26 773.987 153.26 766.881 Q153.26 759.751 151.431 756.209 Q149.626 752.645 145.992 752.645 M145.992 748.941 Q151.802 748.941 154.857 753.547 Q157.936 758.131 157.936 766.881 Q157.936 775.608 154.857 780.214 Q151.802 784.797 145.992 784.797 Q140.181 784.797 137.103 780.214 Q134.047 775.608 134.047 766.881 Q134.047 758.131 137.103 753.547 Q140.181 748.941 145.992 748.941 Z\" fill=\"#000000\" fill-rule=\"evenodd\" fill-opacity=\"1\" /><path clip-path=\"url(#clip980)\" d=\"M101.756 413.167 Q98.1447 413.167 96.316 416.732 Q94.5104 420.274 94.5104 427.403 Q94.5104 434.51 96.316 438.074 Q98.1447 441.616 101.756 441.616 Q105.39 441.616 107.196 438.074 Q109.024 434.51 109.024 427.403 Q109.024 420.274 107.196 416.732 Q105.39 413.167 101.756 413.167 M101.756 409.463 Q107.566 409.463 110.621 414.07 Q113.7 418.653 113.7 427.403 Q113.7 436.13 110.621 440.736 Q107.566 445.32 101.756 445.32 Q95.9456 445.32 92.8669 440.736 Q89.8114 436.13 89.8114 427.403 Q89.8114 418.653 92.8669 414.07 Q95.9456 409.463 101.756 409.463 Z\" fill=\"#000000\" fill-rule=\"evenodd\" fill-opacity=\"1\" /><path clip-path=\"url(#clip980)\" d=\"M121.918 438.769 L126.802 438.769 L126.802 444.648 L121.918 444.648 L121.918 438.769 Z\" fill=\"#000000\" fill-rule=\"evenodd\" fill-opacity=\"1\" /><path clip-path=\"url(#clip980)\" d=\"M137.033 410.088 L155.39 410.088 L155.39 414.024 L141.316 414.024 L141.316 422.496 Q142.334 422.149 143.353 421.986 Q144.371 421.801 145.39 421.801 Q151.177 421.801 154.556 424.973 Q157.936 428.144 157.936 433.56 Q157.936 439.139 154.464 442.241 Q150.992 445.32 144.672 445.32 Q142.496 445.32 140.228 444.949 Q137.982 444.579 135.575 443.838 L135.575 439.139 Q137.658 440.273 139.881 440.829 Q142.103 441.385 144.58 441.385 Q148.584 441.385 150.922 439.278 Q153.26 437.172 153.26 433.56 Q153.26 429.949 150.922 427.843 Q148.584 425.736 144.58 425.736 Q142.705 425.736 140.83 426.153 Q138.978 426.57 137.033 427.449 L137.033 410.088 Z\" fill=\"#000000\" fill-rule=\"evenodd\" fill-opacity=\"1\" /><path clip-path=\"url(#clip980)\" d=\"M91.5706 101.236 L99.2095 101.236 L99.2095 74.8701 L90.8993 76.5367 L90.8993 72.2775 L99.1632 70.6108 L103.839 70.6108 L103.839 101.236 L111.478 101.236 L111.478 105.171 L91.5706 105.171 L91.5706 101.236 Z\" fill=\"#000000\" fill-rule=\"evenodd\" fill-opacity=\"1\" /><path clip-path=\"url(#clip980)\" d=\"M120.922 99.2912 L125.807 99.2912 L125.807 105.171 L120.922 105.171 L120.922 99.2912 Z\" fill=\"#000000\" fill-rule=\"evenodd\" fill-opacity=\"1\" /><path clip-path=\"url(#clip980)\" d=\"M145.992 73.6895 Q142.381 73.6895 140.552 77.2543 Q138.746 80.7959 138.746 87.9255 Q138.746 95.032 140.552 98.5968 Q142.381 102.138 145.992 102.138 Q149.626 102.138 151.431 98.5968 Q153.26 95.032 153.26 87.9255 Q153.26 80.7959 151.431 77.2543 Q149.626 73.6895 145.992 73.6895 M145.992 69.9858 Q151.802 69.9858 154.857 74.5923 Q157.936 79.1756 157.936 87.9255 Q157.936 96.6523 154.857 101.259 Q151.802 105.842 145.992 105.842 Q140.181 105.842 137.103 101.259 Q134.047 96.6523 134.047 87.9255 Q134.047 79.1756 137.103 74.5923 Q140.181 69.9858 145.992 69.9858 Z\" fill=\"#000000\" fill-rule=\"evenodd\" fill-opacity=\"1\" /><polyline clip-path=\"url(#clip982)\" style=\"stroke:#ff0000; stroke-linecap:butt; stroke-linejoin:round; stroke-width:12; stroke-opacity:1; fill:none\" stroke-dasharray=\"48, 30\" points=\"\n  255.035,766.846 275.607,723.784 296.179,680.895 316.751,638.353 337.322,596.328 357.894,554.989 378.466,514.504 399.038,475.035 419.61,436.74 440.182,399.775 \n  460.754,364.288 481.326,330.422 501.898,298.313 522.47,268.091 543.042,239.877 563.614,213.785 584.186,189.921 604.758,168.379 625.33,149.247 645.902,132.601 \n  666.474,118.51 687.046,107.029 707.617,98.2057 728.189,92.0742 748.761,88.6598 769.333,87.9763 789.905,90.0263 810.477,94.8016 831.049,102.283 851.621,112.44 \n  872.193,125.233 892.765,140.609 913.337,158.506 933.909,178.854 954.481,201.568 975.053,226.559 995.625,253.726 1016.2,282.959 1036.77,314.14 1057.34,347.144 \n  1077.91,381.838 1098.48,418.082 1119.06,455.731 1139.63,494.632 1160.2,534.63 1180.77,575.562 1201.34,617.265 1221.92,659.57 1242.49,702.307 1263.06,745.304 \n  1283.63,788.388 1304.2,831.385 1324.78,874.122 1345.35,916.427 1365.92,958.13 1386.49,999.062 1407.06,1039.06 1427.64,1077.96 1448.21,1115.61 1468.78,1151.85 \n  1489.35,1186.55 1509.92,1219.55 1530.5,1250.73 1551.07,1279.97 1571.64,1307.13 1592.21,1332.12 1612.78,1354.84 1633.35,1375.19 1653.93,1393.08 1674.5,1408.46 \n  1695.07,1421.25 1715.64,1431.41 1736.21,1438.89 1756.79,1443.67 1777.36,1445.72 1797.93,1445.03 1818.5,1441.62 1839.07,1435.49 1859.65,1426.66 1880.22,1415.18 \n  1900.79,1401.09 1921.36,1384.45 1941.93,1365.31 1962.51,1343.77 1983.08,1319.91 2003.65,1293.81 2024.22,1265.6 2044.79,1235.38 2065.37,1203.27 2085.94,1169.4 \n  2106.51,1133.92 2127.08,1096.95 2147.65,1058.66 2168.23,1019.19 2188.8,978.703 2209.37,937.364 2229.94,895.339 2250.51,852.797 2271.09,809.908 2291.66,766.846 \n  \n  \"/>\n<path clip-path=\"url(#clip980)\" d=\"\nM1988.5 198.898 L2280.8 198.898 L2280.8 95.2176 L1988.5 95.2176  Z\n  \" fill=\"#ffffff\" fill-rule=\"evenodd\" fill-opacity=\"1\"/>\n<polyline clip-path=\"url(#clip980)\" style=\"stroke:#000000; stroke-linecap:butt; stroke-linejoin:round; stroke-width:4; stroke-opacity:1; fill:none\" points=\"\n  1988.5,198.898 2280.8,198.898 2280.8,95.2176 1988.5,95.2176 1988.5,198.898 \n  \"/>\n<polyline clip-path=\"url(#clip980)\" style=\"stroke:#ff0000; stroke-linecap:butt; stroke-linejoin:round; stroke-width:4; stroke-opacity:1; fill:none\" stroke-dasharray=\"16, 10\" points=\"\n  2012.48,147.058 2156.4,147.058 \n  \"/>\n<path clip-path=\"url(#clip980)\" d=\"M2194.23 166.745 Q2192.43 171.375 2190.72 172.787 Q2189 174.199 2186.13 174.199 L2182.73 174.199 L2182.73 170.634 L2185.23 170.634 Q2186.99 170.634 2187.96 169.8 Q2188.93 168.967 2190.11 165.865 L2190.88 163.921 L2180.39 138.412 L2184.91 138.412 L2193.01 158.689 L2201.11 138.412 L2205.62 138.412 L2194.23 166.745 Z\" fill=\"#000000\" fill-rule=\"evenodd\" fill-opacity=\"1\" /><path clip-path=\"url(#clip980)\" d=\"M2212.91 160.402 L2220.55 160.402 L2220.55 134.037 L2212.24 135.703 L2212.24 131.444 L2220.51 129.778 L2225.18 129.778 L2225.18 160.402 L2232.82 160.402 L2232.82 164.338 L2212.91 164.338 L2212.91 160.402 Z\" fill=\"#000000\" fill-rule=\"evenodd\" fill-opacity=\"1\" /></svg>\n"
     },
     "execution_count": 104,
     "metadata": {},
     "output_type": "execute_result"
    }
   ],
   "source": [
    "#If you haven't used Plots before, run\n",
    "#using Pkg\n",
    "#Pkg.add(\"Plots\")\n",
    "using Plots\n",
    "\n",
    "x = LinRange(0,2π, 100)\n",
    "y = sin.(x)\n",
    "plot(x,y,linestyle=:dash,linecolor=:red,linewidth=3)"
   ]
  },
  {
   "cell_type": "markdown",
   "metadata": {},
   "source": [
    "We can also do fancier plotting."
   ]
  },
  {
   "cell_type": "code",
   "execution_count": 105,
   "metadata": {},
   "outputs": [
    {
     "name": "stderr",
     "output_type": "stream",
     "text": [
      "┌ Info: Saved animation to \n",
      "│   fn = c:\\Users\\monei\\Julia\\STOR415\\JuliaTutorial\\tmp.gif\n",
      "└ @ Plots C:\\Users\\monei\\.julia\\packages\\Plots\\lW9ll\\src\\animation.jl:137\n"
     ]
    },
    {
     "data": {
      "text/html": [
       "<img src=\"data:image/gif;base64,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\" />"
      ],
      "text/plain": [
       "Plots.AnimatedGif(\"c:\\\\Users\\\\monei\\\\Julia\\\\STOR415\\\\JuliaTutorial\\\\tmp.gif\")"
      ]
     },
     "execution_count": 105,
     "metadata": {},
     "output_type": "execute_result"
    }
   ],
   "source": [
    "#Example from https://docs.juliaplots.org/stable/\n",
    "# define the Lorenz attractor\n",
    "Base.@kwdef mutable struct Lorenz\n",
    "    dt::Float64 = 0.02\n",
    "    σ::Float64 = 10\n",
    "    ρ::Float64 = 28\n",
    "    β::Float64 = 8/3\n",
    "    x::Float64 = 1\n",
    "    y::Float64 = 1\n",
    "    z::Float64 = 1\n",
    "end\n",
    "\n",
    "function step!(l::Lorenz)\n",
    "    dx = l.σ * (l.y - l.x)\n",
    "    dy = l.x * (l.ρ - l.z) - l.y\n",
    "    dz = l.x * l.y - l.β * l.z\n",
    "    l.x += l.dt * dx\n",
    "    l.y += l.dt * dy\n",
    "    l.z += l.dt * dz\n",
    "end\n",
    "\n",
    "attractor = Lorenz()\n",
    "\n",
    "\n",
    "# initialize a 3D plot with 1 empty series\n",
    "plt = plot3d(\n",
    "    1,\n",
    "    xlim = (-30, 30),\n",
    "    ylim = (-30, 30),\n",
    "    zlim = (0, 60),\n",
    "    title = \"Lorenz Attractor\",\n",
    "    marker = 2,\n",
    ")\n",
    "\n",
    "# build an animated gif by pushing new points to the plot, saving every 10th frame\n",
    "@gif for i=1:1500\n",
    "    step!(attractor)\n",
    "    push!(plt, attractor.x, attractor.y, attractor.z)\n",
    "end every 10\n"
   ]
  }
 ],
 "metadata": {
  "kernelspec": {
   "display_name": "Julia 0.6.2",
   "language": "julia",
   "name": "julia-0.6"
  },
  "language_info": {
   "file_extension": ".jl",
   "mimetype": "application/julia",
   "name": "julia",
   "version": "0.6.2"
  }
 },
 "nbformat": 4,
 "nbformat_minor": 2
}
