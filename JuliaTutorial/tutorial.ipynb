{
 "cells": [
  {
   "cell_type": "markdown",
   "metadata": {},
   "source": [
    "# A heading\n",
    "#### smaller heading\n",
    "\n",
    "this is just text $c = \\sqrt{a^2+b^2}$. on its own line:\n",
    "$$\n",
    "E=mc^2\n",
    "$$\n",
    "you can also do lists:\n",
    "- first\n",
    "- second\n",
    "- third\n",
    "and that's it. Here is a [link to a guide on basic markdown](https://www.markdownguide.org/getting-started/)\n",
    "\n",
    "| Tables        | Are           | Cool  |\n",
    "| ------------- |:-------------:| -----:|\n",
    "| col 3 is      | right-aligned | \\$1600 |\n",
    "| col 2 is      | centered      |   \\$12 |\n",
    "| zebra stripes | are neat      |    \\$1 |"
   ]
  },
  {
   "cell_type": "markdown",
   "metadata": {},
   "source": []
  },
  {
   "cell_type": "code",
   "execution_count": null,
   "metadata": {},
   "outputs": [],
   "source": [
    "#=\n",
    "this is a comment\n",
    "that spans multiple lines\n",
    "=#\n",
    "x=2+3\n",
    "y=1+1;\n",
    "\n",
    "println(\"the answer is: \", x+y)"
   ]
  },
  {
   "cell_type": "markdown",
   "metadata": {},
   "source": [
    "Julia can also use unicode symbols. Type \\pi and press tab to create the pi character."
   ]
  },
  {
   "cell_type": "code",
   "execution_count": null,
   "metadata": {},
   "outputs": [],
   "source": [
    "2π"
   ]
  },
  {
   "cell_type": "markdown",
   "metadata": {},
   "source": [
    "Other symbols can be defined as variables as well. For example, typing \\turtle and tab gives:"
   ]
  },
  {
   "cell_type": "code",
   "execution_count": null,
   "metadata": {},
   "outputs": [],
   "source": [
    "🐢 = 5"
   ]
  },
  {
   "cell_type": "code",
   "execution_count": null,
   "metadata": {},
   "outputs": [],
   "source": [
    "🐢^2"
   ]
  },
  {
   "cell_type": "markdown",
   "metadata": {},
   "source": [
    "Generally speaking, I would not suggest using symbols in code. However, some Julia code will use symbols (such as greek letters), so it is good to understand how it works."
   ]
  },
  {
   "cell_type": "markdown",
   "metadata": {},
   "source": [
    "Julia also natively supports vectors and matrices:"
   ]
  },
  {
   "cell_type": "code",
   "execution_count": null,
   "metadata": {},
   "outputs": [],
   "source": [
    "x = [1 2 3]"
   ]
  },
  {
   "cell_type": "code",
   "execution_count": null,
   "metadata": {},
   "outputs": [],
   "source": [
    "y = [1, 2, 3]"
   ]
  },
  {
   "cell_type": "code",
   "execution_count": null,
   "metadata": {},
   "outputs": [],
   "source": [
    "x*y"
   ]
  },
  {
   "cell_type": "code",
   "execution_count": null,
   "metadata": {},
   "outputs": [],
   "source": [
    "A = [1 2 3; 4 5 6]"
   ]
  },
  {
   "cell_type": "code",
   "execution_count": null,
   "metadata": {},
   "outputs": [],
   "source": [
    "A = []"
   ]
  },
  {
   "cell_type": "code",
   "execution_count": null,
   "metadata": {},
   "outputs": [],
   "source": [
    "push!(A, \"hello\")"
   ]
  },
  {
   "cell_type": "code",
   "execution_count": null,
   "metadata": {},
   "outputs": [],
   "source": [
    "push!(A, rand(2,3))"
   ]
  },
  {
   "cell_type": "code",
   "execution_count": null,
   "metadata": {},
   "outputs": [],
   "source": [
    "push!(A, A)"
   ]
  },
  {
   "cell_type": "markdown",
   "metadata": {},
   "source": [
    "We can also create arrays using the range functionality:"
   ]
  },
  {
   "cell_type": "code",
   "execution_count": null,
   "metadata": {},
   "outputs": [],
   "source": [
    "x = 1:5\n",
    "y = 10:-2:0\n",
    "\n",
    "for i in x\n",
    "    print(i, \" \")\n",
    "end\n",
    "println(\"\")\n",
    "for j in y\n",
    "    print(j, \" \")\n",
    "end"
   ]
  },
  {
   "cell_type": "markdown",
   "metadata": {},
   "source": [
    "We can use this functionality to make writing loops easier."
   ]
  },
  {
   "cell_type": "code",
   "execution_count": null,
   "metadata": {},
   "outputs": [],
   "source": [
    "x = [3 4 5 6 7]\n",
    "for i in 1:4\n",
    "    println(x[i]*x[i+1])\n",
    "end"
   ]
  },
  {
   "cell_type": "markdown",
   "metadata": {},
   "source": [
    "We can generate vectors of uniformly random variables with:"
   ]
  },
  {
   "cell_type": "code",
   "execution_count": null,
   "metadata": {},
   "outputs": [],
   "source": [
    "x = rand(5)"
   ]
  },
  {
   "cell_type": "code",
   "execution_count": null,
   "metadata": {},
   "outputs": [],
   "source": [
    "for i in 3:5\n",
    "    println(x[i])\n",
    "end"
   ]
  },
  {
   "cell_type": "markdown",
   "metadata": {},
   "source": [
    "There are some special vectors in Julia."
   ]
  },
  {
   "cell_type": "code",
   "execution_count": null,
   "metadata": {},
   "outputs": [],
   "source": [
    "x = ones(3)"
   ]
  },
  {
   "cell_type": "code",
   "execution_count": null,
   "metadata": {},
   "outputs": [],
   "source": [
    "y = zeros(3)"
   ]
  },
  {
   "cell_type": "markdown",
   "metadata": {},
   "source": [
    "We can also create the identity matrix using these vectors with the LinearAlgebra package."
   ]
  },
  {
   "cell_type": "code",
   "execution_count": null,
   "metadata": {},
   "outputs": [],
   "source": [
    "#If you have not used LinearAlgebra before, call\n",
    "#using Pkg\n",
    "#Pkg.add(\"LinearAlgebra\")\n",
    "\n",
    "using LinearAlgebra\n",
    "I = diagm(ones(3))"
   ]
  },
  {
   "cell_type": "markdown",
   "metadata": {},
   "source": [
    "Another useful type of data structure in Julia is dictionaries. Dictionaries map a key to a value. For example:"
   ]
  },
  {
   "cell_type": "code",
   "execution_count": null,
   "metadata": {},
   "outputs": [],
   "source": [
    "mydictionary = Dict([(\"A\",1),(\"B\",2)])\n",
    "mydictionary[\"B\"]"
   ]
  },
  {
   "cell_type": "markdown",
   "metadata": {},
   "source": [
    "We can also add elements to our dictionary over time."
   ]
  },
  {
   "cell_type": "code",
   "execution_count": null,
   "metadata": {},
   "outputs": [],
   "source": [
    "mydictionary[\"C\"] = 3\n",
    "for (key, value) in mydictionary\n",
    "    println(\"key = \", key, \" value = \", value)\n",
    "end\n",
    "\n",
    "println(mydictionary[\"C\"])"
   ]
  },
  {
   "cell_type": "markdown",
   "metadata": {},
   "source": [
    "We will also use another type of data structure to organize code sometimes, called a NamedArray, which enables us to label the rows and columns of a matrix (or array).\n",
    "\n",
    "Recall the farm production planning problem from the second lecture:\n",
    "\n",
    "The labor and fertilizer required for each acre are given in the following table:\n",
    "\n",
    "|       | Wheat         | Corn  |\n",
    "| :---------: |:----------:| :--------:|\n",
    "| Labor (# of workers) | 3 |     2     |\n",
    "| Fertilizer (tons)  | 2   |     4     |"
   ]
  },
  {
   "cell_type": "code",
   "execution_count": 8,
   "metadata": {},
   "outputs": [
    {
     "data": {
      "text/plain": [
       "2×2 Named Matrix{Int64}\n",
       "resource ╲ type │ wheat   corn\n",
       "────────────────┼─────────────\n",
       "labor           │     3      2\n",
       "fertilizer      │     2      4"
      ]
     },
     "metadata": {},
     "output_type": "display_data"
    }
   ],
   "source": [
    "#If you haven't used NamedArrays before, run\n",
    "#using Pkg\n",
    "#Pkg.add(\"NamedArrays\")\n",
    "using NamedArrays\n",
    "\n",
    "types = [:wheat, :corn]\n",
    "resources = [:labor, :fertilizer]\n",
    "\n",
    "matrix = [3 2; 2 4]\n",
    "\n",
    "namedmatrix = NamedArray( matrix, (resources,types), (\"resource\",\"type\") )"
   ]
  },
  {
   "cell_type": "code",
   "execution_count": 6,
   "metadata": {},
   "outputs": [
    {
     "ename": "ArgumentError",
     "evalue": "ArgumentError: invalid index: :labor of type Symbol",
     "output_type": "error",
     "traceback": [
      "ArgumentError: invalid index: :labor of type Symbol\n",
      "\n",
      "Stacktrace:\n",
      " [1] to_index(i::Symbol)\n",
      "   @ Base ./indices.jl:300\n",
      " [2] to_index(A::NamedMatrix{Int64, Matrix{Int64}, Tuple{OrderedCollections.OrderedDict{Symbol, Int64}, OrderedCollections.OrderedDict{Symbol, Int64}}}, i::Symbol)\n",
      "   @ Base ./indices.jl:277\n",
      " [3] _to_indices1(A::NamedMatrix{Int64, Matrix{Int64}, Tuple{OrderedCollections.OrderedDict{Symbol, Int64}, OrderedCollections.OrderedDict{Symbol, Int64}}}, inds::Tuple{Base.OneTo{Int64}}, I1::Symbol)\n",
      "   @ Base ./indices.jl:359\n",
      " [4] to_indices\n",
      "   @ ./indices.jl:354 [inlined]\n",
      " [5] to_indices\n",
      "   @ ./indices.jl:345 [inlined]\n",
      " [6] getindex(A::NamedMatrix{Int64, Matrix{Int64}, Tuple{OrderedCollections.OrderedDict{Symbol, Int64}, OrderedCollections.OrderedDict{Symbol, Int64}}}, I::Symbol)\n",
      "   @ Base ./abstractarray.jl:1296\n",
      " [7] top-level scope\n",
      "   @ ~/Documents/GitHub/STOR415/JuliaTutorial/tutorial.ipynb:2"
     ]
    }
   ],
   "source": [
    "namedmatrix[:labor][:wheat]\n",
    "\n",
    "#for i in resources\n",
    "#    println(namedmatrix[i][:wheat])\n",
    "#end"
   ]
  },
  {
   "cell_type": "markdown",
   "metadata": {},
   "source": [
    "Plotting is also relatively easy in Julia."
   ]
  },
  {
   "cell_type": "code",
   "execution_count": null,
   "metadata": {},
   "outputs": [],
   "source": [
    "#If you haven't used Plots before, run\n",
    "#using Pkg\n",
    "#Pkg.add(\"Plots\")\n",
    "using Plots\n",
    "\n",
    "x = LinRange(0,2π, 100)\n",
    "y = sin.(x)\n",
    "plot(x,y,linestyle=:dash,linecolor=:red,linewidth=3)"
   ]
  }
 ],
 "metadata": {
  "kernelspec": {
   "display_name": "Julia 1.9.3",
   "language": "julia",
   "name": "julia-1.9"
  },
  "language_info": {
   "file_extension": ".jl",
   "mimetype": "application/julia",
   "name": "julia",
   "version": "1.9.3"
  }
 },
 "nbformat": 4,
 "nbformat_minor": 2
}
