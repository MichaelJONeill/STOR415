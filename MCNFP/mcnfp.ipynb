{
 "cells": [
  {
   "cell_type": "markdown",
   "metadata": {},
   "source": [
    "## Minimum Cost Network Flow Problem (MCNFP)\n",
    "\n",
    "Consider the network in the following image:\n",
    "\n",
    "<img src=\"./transport_network.png\" alt=\"Alternative text\" />\n",
    "\n",
    "Here, $V = \\{1,2,3,4\\}$ is the set of nodes, and $E=\\{(1,2),(1,3),(2,3),(3,2),(2,4),(3,4)\\}$ is the set of edges. \n",
    "The numbers next to the nodes are net supplies (e.g., the net supply for node $1$ is $10$, and net supply for node $4$ is $-50$). \n",
    "\n",
    "On each of the edges, the first number is the unit cost and the interval gives flow bounds. \n",
    "For example on edge $(1,3)$ the unit cost is $1$, the lower bound of flow is $0$, and the upper bound is $\\infty$."
   ]
  },
  {
   "cell_type": "code",
   "execution_count": 21,
   "metadata": {},
   "outputs": [],
   "source": [
    "#Number of vertices\n",
    "n = 4\n",
    "\n",
    "#1 where in entries with edges, 0 otherwise. For example, edge from 1->2 means we place\n",
    "#a 1 in entry 1,2 \n",
    "edgeset = [0 1 1 0;\n",
    "           0 0 1 1;\n",
    "           0 1 0 1;\n",
    "           0 0 0 0]\n",
    "\n",
    "costs = [0 5 1 0;\n",
    "         0 0 1 2;\n",
    "         0 10 0 8;\n",
    "         0 0 0 0]\n",
    "upper = [0 30 Inf 0;\n",
    "         0 0 Inf Inf;\n",
    "         0 10 0 20;\n",
    "         0 0 0 0]\n",
    "supply = [10 30 10 -50]\n",
    ";"
   ]
  },
  {
   "cell_type": "code",
   "execution_count": 22,
   "metadata": {},
   "outputs": [
    {
     "data": {
      "text/latex": [
       "$$ \\begin{aligned}\n",
       "\\min\\quad & 5 x_{1,2} + 10 x_{3,2} + x_{1,3} + x_{2,3} + 2 x_{2,4} + 8 x_{3,4}\\\\\n",
       "\\text{Subject to} \\quad & x_{1,1} = 0.0\\\\\n",
       " & x_{1,4} = 0.0\\\\\n",
       " & x_{2,1} = 0.0\\\\\n",
       " & x_{2,2} = 0.0\\\\\n",
       " & x_{3,1} = 0.0\\\\\n",
       " & x_{3,3} = 0.0\\\\\n",
       " & x_{4,1} = 0.0\\\\\n",
       " & x_{4,2} = 0.0\\\\\n",
       " & x_{4,3} = 0.0\\\\\n",
       " & x_{4,4} = 0.0\\\\\n",
       " & -x_{2,1} - x_{3,1} - x_{4,1} + x_{1,2} + x_{1,3} + x_{1,4} = 10.0\\\\\n",
       " & x_{2,1} - x_{1,2} - x_{3,2} - x_{4,2} + x_{2,3} + x_{2,4} = 30.0\\\\\n",
       " & x_{3,1} + x_{3,2} - x_{1,3} - x_{2,3} - x_{4,3} + x_{3,4} = 10.0\\\\\n",
       " & x_{4,1} + x_{4,2} + x_{4,3} - x_{1,4} - x_{2,4} - x_{3,4} = -50.0\\\\\n",
       " & x_{1,1} \\geq 0.0\\\\\n",
       " & x_{2,1} \\geq 0.0\\\\\n",
       " & x_{3,1} \\geq 0.0\\\\\n",
       " & x_{4,1} \\geq 0.0\\\\\n",
       " & x_{1,2} \\geq 0.0\\\\\n",
       " & x_{2,2} \\geq 0.0\\\\\n",
       " & x_{3,2} \\geq 0.0\\\\\n",
       " & x_{4,2} \\geq 0.0\\\\\n",
       " & x_{1,3} \\geq 0.0\\\\\n",
       " & x_{2,3} \\geq 0.0\\\\\n",
       " & x_{3,3} \\geq 0.0\\\\\n",
       " & x_{4,3} \\geq 0.0\\\\\n",
       " & x_{1,4} \\geq 0.0\\\\\n",
       " & x_{2,4} \\geq 0.0\\\\\n",
       " & x_{3,4} \\geq 0.0\\\\\n",
       " & x_{4,4} \\geq 0.0\\\\\n",
       " & x_{1,1} \\leq 0.0\\\\\n",
       " & x_{2,1} \\leq 0.0\\\\\n",
       " & x_{3,1} \\leq 0.0\\\\\n",
       " & x_{4,1} \\leq 0.0\\\\\n",
       " & x_{1,2} \\leq 30.0\\\\\n",
       " & x_{2,2} \\leq 0.0\\\\\n",
       " & x_{3,2} \\leq 10.0\\\\\n",
       " & x_{4,2} \\leq 0.0\\\\\n",
       " & x_{3,3} \\leq 0.0\\\\\n",
       " & x_{4,3} \\leq 0.0\\\\\n",
       " & x_{1,4} \\leq 0.0\\\\\n",
       " & x_{3,4} \\leq 20.0\\\\\n",
       " & x_{4,4} \\leq 0.0\\\\\n",
       "\\end{aligned} $$"
      ]
     },
     "metadata": {},
     "output_type": "display_data"
    }
   ],
   "source": [
    "using JuMP, HiGHS\n",
    "\n",
    "mcnfp = Model(HiGHS.Optimizer)\n",
    "\n",
    "#Create variables for each edge.\n",
    "@variable(mcnfp, upper[i,j] >= x[i in 1:numvertices, j in 1:n] >= 0)\n",
    "\n",
    "#Set all non-existent edges to 0\n",
    "@constraint(mcnfp, removeedges[i = 1:n, j = 1:n; edgeset[i, j] == 0], x[i,j] == 0)\n",
    "\n",
    "#Flow constraint\n",
    "@constraint(mcnfp, flow[i in 1:n], sum(x[i,j] for j in 1:n) - sum(x[j,i] for j in 1:n) == supply[i])\n",
    "\n",
    "@objective(mcnfp, Min, sum(sum(costs[i,j]*x[i,j] for i in 1:n) for j in 1:n))\n",
    "\n",
    "print(mcnfp)"
   ]
  },
  {
   "cell_type": "code",
   "execution_count": 23,
   "metadata": {},
   "outputs": [
    {
     "name": "stdout",
     "output_type": "stream",
     "text": [
      "Presolving model\n",
      "4 rows, 6 cols, 12 nonzeros\n",
      "1 rows, 4 cols, 4 nonzeros\n",
      "1 rows, 4 cols, 4 nonzeros\n",
      "Presolve : Reductions: rows 1(-13); columns 4(-12); elements 4(-30)\n",
      "Solving the presolved LP\n",
      "Using EKK dual simplex solver - serial\n",
      "  Iteration        Objective     Infeasibilities num(sum)\n",
      "          0     0.0000000000e+00 Ph1: 0(0) 0s\n",
      "          1     2.1000000000e+02 Pr: 0(0) 0s\n",
      "Solving the original LP from the solution after postsolve\n",
      "Model   status      : Optimal\n",
      "Simplex   iterations: 1\n",
      "Objective value     :  2.1000000000e+02\n",
      "HiGHS run time      :          0.00\n"
     ]
    }
   ],
   "source": [
    "optimize!(mcnfp)"
   ]
  },
  {
   "cell_type": "markdown",
   "metadata": {},
   "source": [
    "Alternative approach: use the incidence matrix $A$."
   ]
  },
  {
   "cell_type": "code",
   "execution_count": 33,
   "metadata": {},
   "outputs": [],
   "source": [
    "#Directly create A\n",
    "A = [1  1  0  0  0  0\n",
    "    -1  0  1  1 -1  0\n",
    "     0 -1 -1  0  1  1\n",
    "     0  0  0 -1  0 -1]\n",
    "numedges = 6\n",
    "\n",
    "#Or programatically generate it from edgeset\n",
    "#numedges = sum(sum(edgeset[i,j] for i in 1:n) for j in 1:n)\n",
    "#A = zeros(n,numedges)\n",
    "#edgecount = 1\n",
    "#for i in 1:n\n",
    "#    for j in 1:n\n",
    "#        if(edgeset[i,j] == 1)\n",
    "#            A[i, edgecount] = 1\n",
    "#            A[j, edgecount] = -1\n",
    "#            edgecount = edgecount+1\n",
    "#        end\n",
    "#    end\n",
    "#end\n",
    "\n",
    "\n",
    "costs = [5 1 1 2 10 8]\n",
    "upper = [30 Inf Inf Inf 10 20]\n",
    "supply = [10; 30; 10; -50]\n",
    ";"
   ]
  },
  {
   "cell_type": "code",
   "execution_count": 34,
   "metadata": {},
   "outputs": [
    {
     "data": {
      "text/latex": [
       "$$ \\begin{aligned}\n",
       "\\min\\quad & 5 x_{1} + x_{2} + x_{3} + 2 x_{4} + 10 x_{5} + 8 x_{6}\\\\\n",
       "\\text{Subject to} \\quad & x_{1} + x_{2} = 10.0\\\\\n",
       " & -x_{1} + x_{3} + x_{4} - x_{5} = 10.0\\\\\n",
       " & -x_{2} - x_{3} + x_{5} + x_{6} = 10.0\\\\\n",
       " & -x_{4} - x_{6} = 10.0\\\\\n",
       " & x_{1} + x_{2} = 30.0\\\\\n",
       " & -x_{1} + x_{3} + x_{4} - x_{5} = 30.0\\\\\n",
       " & -x_{2} - x_{3} + x_{5} + x_{6} = 30.0\\\\\n",
       " & -x_{4} - x_{6} = 30.0\\\\\n",
       " & x_{1} + x_{2} = 10.0\\\\\n",
       " & -x_{1} + x_{3} + x_{4} - x_{5} = 10.0\\\\\n",
       " & -x_{2} - x_{3} + x_{5} + x_{6} = 10.0\\\\\n",
       " & -x_{4} - x_{6} = 10.0\\\\\n",
       " & x_{1} + x_{2} = -50.0\\\\\n",
       " & -x_{1} + x_{3} + x_{4} - x_{5} = -50.0\\\\\n",
       " & -x_{2} - x_{3} + x_{5} + x_{6} = -50.0\\\\\n",
       " & -x_{4} - x_{6} = -50.0\\\\\n",
       " & x_{1} \\geq 0.0\\\\\n",
       " & x_{2} \\geq 0.0\\\\\n",
       " & x_{3} \\geq 0.0\\\\\n",
       " & x_{4} \\geq 0.0\\\\\n",
       " & x_{5} \\geq 0.0\\\\\n",
       " & x_{6} \\geq 0.0\\\\\n",
       " & x_{1} \\leq 30.0\\\\\n",
       " & x_{5} \\leq 10.0\\\\\n",
       " & x_{6} \\leq 20.0\\\\\n",
       "\\end{aligned} $$"
      ]
     },
     "metadata": {},
     "output_type": "display_data"
    }
   ],
   "source": [
    "using JuMP, HiGHS\n",
    "\n",
    "mcnfp2 = Model(HiGHS.Optimizer)\n",
    "\n",
    "#Create variables for each edge.\n",
    "@variable(mcnfp2, upper[i] >= x[i in 1:numedges] >= 0)\n",
    "#Flow constraint\n",
    "@constraint(mcnfp2, flow, A*x .== supply)\n",
    "\n",
    "@objective(mcnfp2, Min, sum(costs[i]*x[i] for i in 1:numedges))\n",
    "\n",
    "print(mcnfp2)"
   ]
  },
  {
   "cell_type": "code",
   "execution_count": 35,
   "metadata": {},
   "outputs": [
    {
     "name": "stdout",
     "output_type": "stream",
     "text": [
      "Presolving model\n",
      "Problem status detected on presolve: Infeasible\n",
      "Model   status      : Infeasible\n",
      "Objective value     :  0.0000000000e+00\n",
      "HiGHS run time      :          0.00\n",
      "ERROR:   No invertible representation for getDualRay\n"
     ]
    }
   ],
   "source": [
    "optimize!(mcnfp2)"
   ]
  }
 ],
 "metadata": {
  "kernelspec": {
   "display_name": "Julia 1.7.3",
   "language": "julia",
   "name": "julia-1.7"
  },
  "language_info": {
   "file_extension": ".jl",
   "mimetype": "application/julia",
   "name": "julia",
   "version": "1.7.3"
  },
  "orig_nbformat": 4
 },
 "nbformat": 4,
 "nbformat_minor": 2
}
