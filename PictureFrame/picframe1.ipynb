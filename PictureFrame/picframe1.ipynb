{
 "cells": [
  {
   "cell_type": "markdown",
   "id": "5a4610b8",
   "metadata": {},
   "source": [
    "# The Picture Frame Problem - Formulation 1\n"
   ]
  },
  {
   "cell_type": "markdown",
   "id": "ed43f1ae",
   "metadata": {},
   "source": [
    "A company produces two types of picture frames: each type-1 frame uses 2 hours of labor and 1 ounce of metal and brings $2.25 in profit, and each type-2 frame uses 1 hour of labor and 2 ounces of metal and brings $2.60 in\n",
    "profit. Each week 4000 labor hours and 5000 ounces of metal are available and the company aims to maximize its weekly profit with an optimal production plan.\n",
    "\n",
    "To model this problem, let $x_1$ denote the number of type-1 frames produced and $x_2$ denote the number of type-2 frames produced. Then, this can be formulated as the following LP:\n",
    "\n",
    "\\begin{align*}\n",
    "\\underset{x}{\\max} \\quad &z = 2.25x_1 + 2.6 x_2 \\\\\n",
    "\\text{s.t.} \\ \\ \\quad &2x_1 + x_2 \\leq 4000, \\\\\n",
    "&x_1 + 2x_2 \\leq 5000, \\\\\n",
    "&x \\geq 0.\n",
    "\\end{align*}\n",
    "\n",
    "Let's model this problem using JuMP."
   ]
  },
  {
   "cell_type": "code",
   "execution_count": 5,
   "id": "2ba687ba",
   "metadata": {},
   "outputs": [
    {
     "data": {
      "text/latex": [
       "$$ \\begin{aligned}\n",
       "\\max\\quad & 2.25 x1 + 2.6 x2\\\\\n",
       "\\text{Subject to} \\quad & 2 x1 + x2 \\leq 4000.0\\\\\n",
       " & x1 + 2 x2 \\leq 5000.0\\\\\n",
       " & x1 \\geq 0.0\\\\\n",
       " & x2 \\geq 0.0\\\\\n",
       "\\end{aligned} $$"
      ]
     },
     "metadata": {},
     "output_type": "display_data"
    }
   ],
   "source": [
    "#Uncomment the lines below to download the JuMP and HiGHS packages if they are not already installed\n",
    "#import Pkg\n",
    "#Pkg.add(\"JuMP\")\n",
    "#Pkg.add(\"HiGHS\")\n",
    "\n",
    "#Import JuMP package to build an optimization model\n",
    "using JuMP\n",
    "#Import HiGHS solver\n",
    "using HiGHS\n",
    "\n",
    "#Create a JuMP model named picframe1 that will be solved using the HiGHS solver\n",
    "picframe1 = Model(HiGHS.Optimizer);\n",
    "\n",
    "#Add the variables x1 and x2\n",
    "@variable(picframe1, x1 >= 0);\n",
    "@variable(picframe1, x2 >= 0);\n",
    "\n",
    "#Create the constraints, name them constraint1 and constraint2\n",
    "@constraint(picframe1, constraint1, 2x1 + x2 <= 4000);\n",
    "@constraint(picframe1, constraint2, x1 + 2x2 <= 5000);\n",
    "\n",
    "#Create our objective function and set it for minimization\n",
    "@objective(picframe1, Max, 2.25x1 + 2.6x2);\n",
    "\n",
    "print(picframe1)"
   ]
  },
  {
   "cell_type": "markdown",
   "id": "71e46867",
   "metadata": {},
   "source": [
    "Next, let's solve this model."
   ]
  },
  {
   "cell_type": "code",
   "execution_count": 6,
   "id": "6673ffdc",
   "metadata": {},
   "outputs": [
    {
     "name": "stdout",
     "output_type": "stream",
     "text": [
      "Presolving model\n",
      "2 rows, 2 cols, 4 nonzeros\n",
      "2 rows, 2 cols, 4 nonzeros\n",
      "Presolve : Reductions: rows 2(-0); columns 2(-0); elements 4(-0)\n",
      "Solving the presolved LP\n",
      "Using EKK dual simplex solver - serial\n",
      "  Iteration        Objective     Infeasibilities num(sum)\n",
      "          0    -4.8499947627e+00 Ph1: 2(6); Du: 2(4.84999) 0s\n",
      "          2    -7.4500000000e+03 Pr: 0(0) 0s\n",
      "Solving the original LP from the solution after postsolve\n",
      "Model   status      : Optimal\n",
      "Simplex   iterations: 2\n",
      "Objective value     :  7.4500000000e+03\n",
      "HiGHS run time      :          0.00\n",
      "solution_summary(picframe1) = * Solver : HiGHS\n",
      "\n",
      "* Status\n",
      "  Termination status : OPTIMAL\n",
      "  Primal status      : FEASIBLE_POINT\n",
      "  Dual status        : FEASIBLE_POINT\n",
      "  Message from the solver:\n",
      "  \"kHighsModelStatusOptimal\"\n",
      "\n",
      "* Candidate solution\n",
      "  Objective value      : 7.45000e+03\n",
      "  Objective bound      : 7.45000e+03\n",
      "  Relative gap         : Inf\n",
      "  Dual objective value : 7.45000e+03\n",
      "\n",
      "* Work counters\n",
      "  Solve time (sec)   : 9.96828e-04\n",
      "  Simplex iterations : 2\n",
      "  Barrier iterations : 0\n",
      "  Node count         : -1\n",
      "\n"
     ]
    }
   ],
   "source": [
    "#Solve the model\n",
    "optimize!(picframe1);\n",
    "#Outputs detailed information about the solution process\n",
    "@show solution_summary(picframe1);"
   ]
  },
  {
   "cell_type": "markdown",
   "id": "3b3e98d1",
   "metadata": {},
   "source": [
    "We successfully solved the model. Let's look at what the optimal solution as well as the values of the dual variables."
   ]
  },
  {
   "cell_type": "code",
   "execution_count": 7,
   "id": "578195c4",
   "metadata": {},
   "outputs": [
    {
     "name": "stdout",
     "output_type": "stream",
     "text": [
      "primal_status(picframe1) = MathOptInterface.FEASIBLE_POINT\n",
      "dual_status(picframe1) = MathOptInterface.FEASIBLE_POINT\n",
      "objective_value(picframe1) = 7450.0\n",
      "value(x1) = 1000.0\n",
      "value(x2) = 2000.0\n",
      "shadow_price(constraint1) = 0.6333333333333333\n",
      "shadow_price(constraint2) = 0.9833333333333334\n"
     ]
    }
   ],
   "source": [
    "#Status of primal problem\n",
    "@show primal_status(picframe1);\n",
    "#Status of dual problem\n",
    "@show dual_status(picframe1);\n",
    "#Final objective value\n",
    "@show objective_value(picframe1);\n",
    "#Value of x1 at solution\n",
    "@show value(x1);\n",
    "#Value of x2 at solution\n",
    "@show value(x2);\n",
    "#Shadow price of constraint 1 (value of dual variable 1) at solution\n",
    "@show shadow_price(constraint1);\n",
    "#Shadow price of constraint 2 (value of dual variable 2) at solution\n",
    "@show shadow_price(constraint2);"
   ]
  }
 ],
 "metadata": {
  "kernelspec": {
   "display_name": "Julia 1.7.3",
   "language": "julia",
   "name": "julia-1.7"
  },
  "language_info": {
   "file_extension": ".jl",
   "mimetype": "application/julia",
   "name": "julia",
   "version": "1.7.3"
  }
 },
 "nbformat": 4,
 "nbformat_minor": 5
}
