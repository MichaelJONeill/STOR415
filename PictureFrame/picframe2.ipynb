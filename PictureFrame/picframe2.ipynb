{
 "cells": [
  {
   "cell_type": "markdown",
   "metadata": {},
   "source": [
    "# The Picture Frame Problem - Formulation 2"
   ]
  },
  {
   "cell_type": "markdown",
   "metadata": {},
   "source": [
    "A company produces two types of picture frames: each type-1 frame uses 2 hours of labor and 1 ounce of metal and brings $2.25 in profit, and each type-2 frame uses 1 hour of labor and 2 ounces of metal and brings $2.60 in\n",
    "profit. Each week 4000 labor hours and 5000 ounces of metal are available and the company aims to maximize its weekly profit with an optimal production plan.\n",
    "\n",
    "To model this problem, let $x_1$ denote the number of type-1 frames produced and $x_2$ denote the number of type-2 frames produced. Then, this can be formulated as the following LP:\n",
    "\n",
    "\\begin{align*}\n",
    "\\underset{x}{\\max} \\quad &z = 2.25x_1 + 2.6 x_2 \\\\\n",
    "\\text{s.t.} \\ \\ \\quad &2x_1 + x_2 \\leq 4000, \\\\\n",
    "&x_1 + 2x_2 \\leq 5000, \\\\\n",
    "&x \\geq 0.\n",
    "\\end{align*}\n",
    "\n",
    "Let's model this problem using JuMP."
   ]
  },
  {
   "cell_type": "markdown",
   "metadata": {},
   "source": [
    "### Problem Data"
   ]
  },
  {
   "cell_type": "code",
   "execution_count": 7,
   "metadata": {},
   "outputs": [],
   "source": [
    "#Types of picture frames produced\n",
    "types = [:type_1, :type_2]\n",
    "\n",
    "#Hours of labor required for each type of frame\n",
    "labor = Dict(:type_1 => 2, :type_2 => 1)\n",
    "\n",
    "#Metal required for each type of frame (in ounces)\n",
    "metal = Dict(:type_1 => 1, :type_2 => 2)\n",
    "\n",
    "#Profit made from each type\n",
    "profit = Dict(:type_1 => 2.25, :type_2 => 2.6)\n",
    "\n",
    "#Quantity available of each resource\n",
    "num_labor = 4000\n",
    "num_metal = 5000;"
   ]
  },
  {
   "cell_type": "code",
   "execution_count": 9,
   "metadata": {},
   "outputs": [
    {
     "data": {
      "text/latex": [
       "$$ \\begin{aligned}\n",
       "\\max\\quad & 2.25 frame_{type\\_1} + 2.6 frame_{type\\_2}\\\\\n",
       "\\text{Subject to} \\quad & 2 frame_{type\\_1} + frame_{type\\_2} \\leq 4000.0\\\\\n",
       " & frame_{type\\_1} + 2 frame_{type\\_2} \\leq 5000.0\\\\\n",
       " & frame_{type\\_1} \\geq 0.0\\\\\n",
       " & frame_{type\\_2} \\geq 0.0\\\\\n",
       "\\end{aligned} $$"
      ]
     },
     "metadata": {},
     "output_type": "display_data"
    }
   ],
   "source": [
    "#Import JuMP package to build an optimization model\n",
    "using JuMP\n",
    "#Import HiGHS solver\n",
    "using HiGHS\n",
    "\n",
    "#Create a JuMP model named picframe1 that will be solved using the HiGHS solver\n",
    "picframe2 = Model(HiGHS.Optimizer);\n",
    "\n",
    "#Add the variables frame[:type_1] and frame[:type_2] that are nonnegative\n",
    "@variable(picframe2, frame[types] >= 0);\n",
    "\n",
    "#Create the constraints, name them constraint1 and constraint2\n",
    "@constraint(picframe2, max_labor, sum(labor[i]*frame[i] for i in types) <= num_labor);\n",
    "@constraint(picframe2, max_metal, sum(metal[i]*frame[i] for i in types) <= num_metal);\n",
    "\n",
    "#Create our objective function and set it for minimization\n",
    "@objective(picframe2, Max, sum(profit[i]*frame[i] for i in types));\n",
    "\n",
    "print(picframe2)"
   ]
  },
  {
   "cell_type": "code",
   "execution_count": 11,
   "metadata": {},
   "outputs": [
    {
     "name": "stdout",
     "output_type": "stream",
     "text": [
      "Presolving model\n",
      "2 rows, 2 cols, 4 nonzeros\n",
      "2 rows, 2 cols, 4 nonzeros\n",
      "Presolve : Reductions: rows 2(-0); columns 2(-0); elements 4(-0)\n",
      "Solving the presolved LP\n",
      "Using EKK dual simplex solver - serial\n",
      "  Iteration        Objective     Infeasibilities num(sum)\n",
      "          0    -4.8499947627e+00 Ph1: 2(6); Du: 2(4.84999) 0s\n",
      "          2    -7.4500000000e+03 Pr: 0(0) 0s\n",
      "Solving the original LP from the solution after postsolve\n",
      "Model   status      : Optimal\n",
      "Simplex   iterations: 2\n",
      "Objective value     :  7.4500000000e+03\n",
      "HiGHS run time      :          0.01\n",
      "solution_summary(picframe2) = * Solver : HiGHS\n",
      "\n",
      "* Status\n",
      "  Termination status : OPTIMAL\n",
      "  Primal status      : FEASIBLE_POINT\n",
      "  Dual status        : FEASIBLE_POINT\n",
      "  Message from the solver:\n",
      "  \"kHighsModelStatusOptimal\"\n",
      "\n",
      "* Candidate solution\n",
      "  Objective value      : 7.45000e+03\n",
      "  Objective bound      : 7.45000e+03\n",
      "  Relative gap         : Inf\n",
      "  Dual objective value : 7.45000e+03\n",
      "\n",
      "* Work counters\n",
      "  Solve time (sec)   : 7.74217e-03\n",
      "  Simplex iterations : 2\n",
      "  Barrier iterations : 0\n",
      "  Node count         : -1\n",
      "\n"
     ]
    }
   ],
   "source": [
    "#Solve the model\n",
    "optimize!(picframe2);\n",
    "#Outputs detailed information about the solution process\n",
    "@show solution_summary(picframe2);"
   ]
  },
  {
   "cell_type": "code",
   "execution_count": 12,
   "metadata": {},
   "outputs": [
    {
     "name": "stdout",
     "output_type": "stream",
     "text": [
      "primal_status(picframe2) = MathOptInterface.FEASIBLE_POINT\n",
      "dual_status(picframe2) = MathOptInterface.FEASIBLE_POINT\n",
      "objective_value(picframe2) = 7450.0\n",
      "value(frame[:type_1]) = 1000.0\n",
      "value(frame[:type_2]) = 2000.0\n",
      "shadow_price(max_labor) = 0.6333333333333333\n",
      "shadow_price(max_metal) = 0.9833333333333334\n"
     ]
    }
   ],
   "source": [
    "#Status of primal problem\n",
    "@show primal_status(picframe2);\n",
    "#Status of dual problem\n",
    "@show dual_status(picframe2);\n",
    "#Final objective value\n",
    "@show objective_value(picframe2);\n",
    "#Value of type 1 at solution\n",
    "@show value(frame[:type_1]);\n",
    "#Value of type 2 at solution\n",
    "@show value(frame[:type_2]);\n",
    "#Shadow price of labor constraint (value of dual variable for labor) at solution\n",
    "@show shadow_price(max_labor);\n",
    "#Shadow price of metal constraint (value of dual variable for metal) at solution\n",
    "@show shadow_price(max_metal);"
   ]
  },
  {
   "cell_type": "markdown",
   "metadata": {},
   "source": [
    "We can see that the optimal solution matches the solution we got from the first formulation."
   ]
  }
 ],
 "metadata": {
  "kernelspec": {
   "display_name": "Julia 1.7.3",
   "language": "julia",
   "name": "julia-1.7"
  },
  "language_info": {
   "file_extension": ".jl",
   "mimetype": "application/julia",
   "name": "julia",
   "version": "1.7.3"
  },
  "orig_nbformat": 4
 },
 "nbformat": 4,
 "nbformat_minor": 2
}
