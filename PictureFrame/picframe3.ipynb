{
 "cells": [
  {
   "cell_type": "markdown",
   "metadata": {},
   "source": [
    "# The Picture Frame Problem - Formulation 3"
   ]
  },
  {
   "cell_type": "markdown",
   "metadata": {},
   "source": [
    "A company produces two types of picture frames: each type-1 frame uses 2 hours of labor and 1 ounce of metal and brings $2.25 in profit, and each type-2 frame uses 1 hour of labor and 2 ounces of metal and brings $2.60 in\n",
    "profit. Each week 4000 labor hours and 5000 ounces of metal are available and the company aims to maximize its weekly profit with an optimal production plan.\n",
    "\n",
    "To model this problem, let $x_1$ denote the number of type-1 frames produced and $x_2$ denote the number of type-2 frames produced. Then, this can be formulated as the following LP:\n",
    "\n",
    "\\begin{align*}\n",
    "\\underset{x}{\\max} \\quad &z = 2.25x_1 + 2.6 x_2 \\\\\n",
    "\\text{s.t.} \\ \\ \\quad &2x_1 + x_2 \\leq 4000, \\\\\n",
    "&x_1 + 2x_2 \\leq 5000, \\\\\n",
    "&x \\geq 0.\n",
    "\\end{align*}\n",
    "\n",
    "Let's model this problem using JuMP."
   ]
  },
  {
   "cell_type": "markdown",
   "metadata": {},
   "source": [
    "### Problem Data"
   ]
  },
  {
   "cell_type": "code",
   "execution_count": 36,
   "metadata": {},
   "outputs": [
    {
     "data": {
      "text/plain": [
       "2×2 Named Matrix{Int64}\n",
       "resource ╲ type │ :type_1  :type_2\n",
       "────────────────┼─────────────────\n",
       ":labor          │       2        1\n",
       ":metal          │       1        2"
      ]
     },
     "execution_count": 36,
     "metadata": {},
     "output_type": "execute_result"
    }
   ],
   "source": [
    "#Types of picture frames produced\n",
    "types = [:type_1, :type_2]\n",
    "\n",
    "#Resources involved\n",
    "resources = [:labor, :metal]\n",
    "\n",
    "#Profit made from each type\n",
    "profit = Dict(zip(types, [2.25,2.6]))\n",
    "\n",
    "#Quantity available of each resource\n",
    "quant_avail = Dict(zip(resources, [4000, 5000]));\n",
    "\n",
    "#If you haven't installed this before\n",
    "#using Pkg\n",
    "#Pkg.add(\"NamedArrays\")\n",
    "using NamedArrays\n",
    "# recipes (type, resource)\n",
    "recipe_mat = [ 2 1; 1 2 ]\n",
    "recipe = NamedArray( recipe_mat, (resources,types), (\"resource\",\"type\") )\n"
   ]
  },
  {
   "cell_type": "code",
   "execution_count": 37,
   "metadata": {},
   "outputs": [
    {
     "data": {
      "text/latex": [
       "$$ \\begin{aligned}\n",
       "\\max\\quad & 2.25 frame_{type\\_1} + 2.6 frame_{type\\_2}\\\\\n",
       "\\text{Subject to} \\quad & 2 frame_{type\\_1} + frame_{type\\_2} \\leq 4000.0\\\\\n",
       " & frame_{type\\_1} + 2 frame_{type\\_2} \\leq 5000.0\\\\\n",
       " & frame_{type\\_1} \\geq 0.0\\\\\n",
       " & frame_{type\\_2} \\geq 0.0\\\\\n",
       "\\end{aligned} $$"
      ]
     },
     "metadata": {},
     "output_type": "display_data"
    }
   ],
   "source": [
    "#Import JuMP package to build an optimization model\n",
    "using JuMP\n",
    "#Import HiGHS solver\n",
    "using HiGHS\n",
    "\n",
    "#Create a JuMP model named picframe1 that will be solved using the HiGHS solver\n",
    "picframe3 = Model(HiGHS.Optimizer);\n",
    "\n",
    "#Add the variables frame[:type_1] and frame[:type_2] that are nonnegative\n",
    "@variable(picframe3, frame[types] >= 0);\n",
    "\n",
    "#Create the constraints, name them constraint1 and constraint2\n",
    "@constraint(picframe3, constraint[i in resources], sum(recipe[i,t]*frame[t] for t in types) <= quant_avail[i]);\n",
    "\n",
    "@expression(picframe3, objfun, sum(profit[i]*frame[i] for i in types))\n",
    "\n",
    "#Create our objective function and set it for minimization\n",
    "@objective(picframe3, Max, objfun);\n",
    "\n",
    "print(picframe3)"
   ]
  },
  {
   "cell_type": "code",
   "execution_count": 38,
   "metadata": {},
   "outputs": [
    {
     "name": "stdout",
     "output_type": "stream",
     "text": [
      "Presolving model\n",
      "2 rows, 2 cols, 4 nonzeros\n",
      "2 rows, 2 cols, 4 nonzeros\n",
      "Presolve : Reductions: rows 2(-0); columns 2(-0); elements 4(-0)\n",
      "Solving the presolved LP\n",
      "Using EKK dual simplex solver - serial\n",
      "  Iteration        Objective     Infeasibilities num(sum)\n",
      "          0    -4.8499947627e+00 Ph1: 2(6); Du: 2(4.84999) 0s\n",
      "          2    -7.4500000000e+03 Pr: 0(0) 0s\n",
      "Solving the original LP from the solution after postsolve\n",
      "Model   status      : Optimal\n",
      "Simplex   iterations: 2\n",
      "Objective value     :  7.4500000000e+03\n",
      "HiGHS run time      :          0.00\n",
      "solution_summary(picframe3) = * Solver : HiGHS\n",
      "\n",
      "* Status\n",
      "  Termination status : OPTIMAL\n",
      "  Primal status      : FEASIBLE_POINT\n",
      "  Dual status        : FEASIBLE_POINT\n",
      "  Message from the solver:\n",
      "  \"kHighsModelStatusOptimal\"\n",
      "\n",
      "* Candidate solution\n",
      "  Objective value      : 7.45000e+03\n",
      "  Objective bound      : 7.45000e+03\n",
      "  Relative gap         : Inf\n",
      "  Dual objective value : 7.45000e+03\n",
      "\n",
      "* Work counters\n",
      "  Solve time (sec)   : 0.00000e+00\n",
      "  Simplex iterations : 2\n",
      "  Barrier iterations : 0\n",
      "  Node count         : -1\n",
      "\n"
     ]
    }
   ],
   "source": [
    "#Solve the model\n",
    "optimize!(picframe3);\n",
    "#Outputs detailed information about the solution process\n",
    "@show solution_summary(picframe3);"
   ]
  },
  {
   "cell_type": "code",
   "execution_count": 39,
   "metadata": {},
   "outputs": [
    {
     "name": "stdout",
     "output_type": "stream",
     "text": [
      "primal_status(picframe3) = MathOptInterface.FEASIBLE_POINT\n",
      "dual_status(picframe3) = MathOptInterface.FEASIBLE_POINT\n",
      "objective_value(picframe3) = 7450.0\n",
      "1-dimensional DenseAxisArray{Float64,1,...} with index sets:\n",
      "    Dimension 1, [:type_1, :type_2]\n",
      "And data, a 2-element Vector{Float64}:\n",
      " 1000.0\n",
      " 2000.0\n",
      "1-dimensional DenseAxisArray{Float64,1,...} with index sets:\n",
      "    Dimension 1, [:labor, :metal]\n",
      "And data, a 2-element Vector{Float64}:\n",
      " 0.6333333333333333\n",
      " 0.9833333333333334\n"
     ]
    }
   ],
   "source": [
    "#Status of primal problem\n",
    "@show primal_status(picframe3);\n",
    "#Status of dual problem\n",
    "@show dual_status(picframe3);\n",
    "#Final objective value\n",
    "@show objective_value(picframe3);\n",
    "\n",
    "println(value.(frame))\n",
    "#Shadow price of constraints\n",
    "println(shadow_price.(constraint))"
   ]
  },
  {
   "cell_type": "markdown",
   "metadata": {},
   "source": [
    "Suppose that the company decides to produce a third type of picture frame. It takes 2 hours of labor and 3 ounces of metal to produce and generates a profit of $4.5 dollars. To update our model, we just need to change the data!"
   ]
  },
  {
   "cell_type": "code",
   "execution_count": 40,
   "metadata": {},
   "outputs": [
    {
     "data": {
      "text/plain": [
       "2×3 Named Matrix{Int64}\n",
       "resource ╲ type │ :type_1  :type_2  :type_3\n",
       "────────────────┼──────────────────────────\n",
       ":labor          │       2        1        2\n",
       ":metal          │       1        2        3"
      ]
     },
     "execution_count": 40,
     "metadata": {},
     "output_type": "execute_result"
    }
   ],
   "source": [
    "#Types of picture frames produced\n",
    "types = [:type_1, :type_2, :type_3]\n",
    "\n",
    "#Profit made from each type\n",
    "profit = Dict(zip(types, [2.25,2.6,4.5]))\n",
    "\n",
    "#If you haven't installed this before\n",
    "#using Pkg\n",
    "#Pkg.add(\"NamedArrays\")\n",
    "using NamedArrays\n",
    "# recipes (type, resource)\n",
    "recipe_mat = [ 2 1 2; 1 2 3]\n",
    "recipe = NamedArray( recipe_mat, (resources,types), (\"resource\",\"type\") )\n"
   ]
  },
  {
   "cell_type": "code",
   "execution_count": 41,
   "metadata": {},
   "outputs": [
    {
     "data": {
      "text/latex": [
       "$$ \\begin{aligned}\n",
       "\\max\\quad & 2.25 frame_{type\\_1} + 2.6 frame_{type\\_2} + 4.5 frame_{type\\_3}\\\\\n",
       "\\text{Subject to} \\quad & 2 frame_{type\\_1} + frame_{type\\_2} + 2 frame_{type\\_3} \\leq 4000.0\\\\\n",
       " & frame_{type\\_1} + 2 frame_{type\\_2} + 3 frame_{type\\_3} \\leq 5000.0\\\\\n",
       " & frame_{type\\_1} \\geq 0.0\\\\\n",
       " & frame_{type\\_2} \\geq 0.0\\\\\n",
       " & frame_{type\\_3} \\geq 0.0\\\\\n",
       "\\end{aligned} $$"
      ]
     },
     "metadata": {},
     "output_type": "display_data"
    }
   ],
   "source": [
    "picframeupdated = Model(HiGHS.Optimizer);\n",
    "\n",
    "#Add the variables frame[:type_1] and frame[:type_2] that are nonnegative\n",
    "@variable(picframeupdated, frame[types] >= 0);\n",
    "\n",
    "#Create the constraints, name them constraint1 and constraint2\n",
    "@constraint(picframeupdated, constraint[i in resources], sum(recipe[i,t]*frame[t] for t in types) <= quant_avail[i]);\n",
    "\n",
    "#Create our objective function and set it for minimization\n",
    "@objective(picframeupdated, Max, sum(profit[i]*frame[i] for i in types));\n",
    "\n",
    "print(picframeupdated)"
   ]
  },
  {
   "cell_type": "code",
   "execution_count": 42,
   "metadata": {},
   "outputs": [
    {
     "name": "stdout",
     "output_type": "stream",
     "text": [
      "Presolving model\n",
      "2 rows, 3 cols, 6 nonzeros\n",
      "2 rows, 3 cols, 6 nonzeros\n",
      "Presolve : Reductions: rows 2(-0); columns 3(-0); elements 6(-0)\n",
      "Solving the presolved LP\n",
      "Using EKK dual simplex solver - serial\n",
      "  Iteration        Objective     Infeasibilities num(sum)\n",
      "          0    -9.3499894416e+00 Ph1: 2(11); Du: 3(9.34999) 0s\n",
      "          2    -7.8750000000e+03 Pr: 0(0) 0s\n",
      "Solving the original LP from the solution after postsolve\n",
      "Model   status      : Optimal\n",
      "Simplex   iterations: 2\n",
      "Objective value     :  7.8750000000e+03\n",
      "HiGHS run time      :          0.00\n",
      "solution_summary(picframeupdated) = * Solver : HiGHS\n",
      "\n",
      "* Status\n",
      "  Termination status : OPTIMAL\n",
      "  Primal status      : FEASIBLE_POINT\n",
      "  Dual status        : FEASIBLE_POINT\n",
      "  Message from the solver:\n",
      "  \"kHighsModelStatusOptimal\"\n",
      "\n",
      "* Candidate solution\n",
      "  Objective value      : 7.87500e+03\n",
      "  Objective bound      : 7.87500e+03\n",
      "  Relative gap         : Inf\n",
      "  Dual objective value : 7.87500e+03\n",
      "\n",
      "* Work counters\n",
      "  Solve time (sec)   : 9.99212e-04\n",
      "  Simplex iterations : 2\n",
      "  Barrier iterations : 0\n",
      "  Node count         : -1\n",
      "\n"
     ]
    }
   ],
   "source": [
    "#Solve the model\n",
    "optimize!(picframeupdated);\n",
    "#Outputs detailed information about the solution process\n",
    "@show solution_summary(picframeupdated);"
   ]
  },
  {
   "cell_type": "code",
   "execution_count": 43,
   "metadata": {},
   "outputs": [
    {
     "name": "stdout",
     "output_type": "stream",
     "text": [
      "objective_value(picframeupdated) = 7875.0\n",
      "1-dimensional DenseAxisArray{Float64,1,...} with index sets:\n",
      "    Dimension 1, [:type_1, :type_2, :type_3]\n",
      "And data, a 3-element Vector{Float64}:\n",
      "  500.0\n",
      "    0.0\n",
      " 1500.0\n",
      "1-dimensional DenseAxisArray{Float64,1,...} with index sets:\n",
      "    Dimension 1, [:labor, :metal]\n",
      "And data, a 2-element Vector{Float64}:\n",
      " 0.5625\n",
      " 1.125\n"
     ]
    }
   ],
   "source": [
    "#Final objective value\n",
    "@show objective_value(picframeupdated);\n",
    "\n",
    "println(value.(frame))\n",
    "#Shadow price of constraints\n",
    "println(shadow_price.(constraint))"
   ]
  }
 ],
 "metadata": {
  "kernelspec": {
   "display_name": "Julia 1.7.3",
   "language": "julia",
   "name": "julia-1.7"
  },
  "language_info": {
   "file_extension": ".jl",
   "mimetype": "application/julia",
   "name": "julia",
   "version": "1.7.3"
  },
  "orig_nbformat": 4
 },
 "nbformat": 4,
 "nbformat_minor": 2
}
