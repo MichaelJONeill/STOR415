{
 "cells": [
  {
   "cell_type": "markdown",
   "metadata": {},
   "source": [
    "# Sailco problem\n",
    "Sailco manufactures sailboats. During the next 4 months the company must\n",
    "meet the following demands for their sailboats:\n",
    "\n",
    "|Month | 1 | 2 | 3 | 4 |\n",
    "|------|---|---|---|---|\n",
    "|Number of boats | 40 | 60 | 70 | 25 |\n",
    "\n",
    "At the beginning of Month 1, Sailco has 10 boats in inventory. Each month\n",
    "it must determine how many boats to produce. During any month, Sailco can\n",
    "produce up to 40 boats with regular labor and an unlimited number of boats\n",
    "with overtime labor. Boats produced with regular labor cost \\$400 each to\n",
    "produce, while boats produced with overtime labor cost \\$450 each. It costs \\$20 to hold a boat in inventory from one month to the next. Find the\n",
    "production and inventory schedule that minimizes the cost of meeting the\n",
    "next 4 months' demands."
   ]
  },
  {
   "cell_type": "code",
   "execution_count": 12,
   "metadata": {},
   "outputs": [
    {
     "data": {
      "text/latex": [
       "$$ \\begin{aligned}\n",
       "\\min\\quad & 400 x_{1} + 400 x_{2} + 400 x_{3} + 400 x_{4} + 450 y_{1} + 450 y_{2} + 450 y_{3} + 450 y_{4} + 20 h_{1} + 20 h_{2} + 20 h_{3} + 20 h_{4} + 20 h_{5}\\\\\n",
       "\\text{Subject to} \\quad & h_{1} = 10.0\\\\\n",
       " & x_{1} + y_{1} + h_{1} - h_{2} = 40.0\\\\\n",
       " & x_{2} + y_{2} + h_{2} - h_{3} = 60.0\\\\\n",
       " & x_{3} + y_{3} + h_{3} - h_{4} = 70.0\\\\\n",
       " & x_{4} + y_{4} + h_{4} - h_{5} = 25.0\\\\\n",
       " & x_{1} \\geq 0.0\\\\\n",
       " & x_{2} \\geq 0.0\\\\\n",
       " & x_{3} \\geq 0.0\\\\\n",
       " & x_{4} \\geq 0.0\\\\\n",
       " & y_{1} \\geq 0.0\\\\\n",
       " & y_{2} \\geq 0.0\\\\\n",
       " & y_{3} \\geq 0.0\\\\\n",
       " & y_{4} \\geq 0.0\\\\\n",
       " & h_{1} \\geq 0.0\\\\\n",
       " & h_{2} \\geq 0.0\\\\\n",
       " & h_{3} \\geq 0.0\\\\\n",
       " & h_{4} \\geq 0.0\\\\\n",
       " & h_{5} \\geq 0.0\\\\\n",
       " & x_{1} \\leq 40.0\\\\\n",
       " & x_{2} \\leq 40.0\\\\\n",
       " & x_{3} \\leq 40.0\\\\\n",
       " & x_{4} \\leq 40.0\\\\\n",
       "\\end{aligned} $$"
      ]
     },
     "metadata": {},
     "output_type": "display_data"
    }
   ],
   "source": [
    "using JuMP, HiGHS\n",
    "\n",
    "#Monthly demand for boats\n",
    "d = [40 60 70 25]\n",
    "\n",
    "m = Model(HiGHS.Optimizer)\n",
    "\n",
    "#Boats produced with regular labor\n",
    "@variable(m, 0 <= x[1:4] <= 40)\n",
    "#Boats produced with overtime labor\n",
    "@variable(m, y[1:4] >= 0)\n",
    "#Boats held in inventory         \n",
    "@variable(m, h[1:5] >= 0)\n",
    "\n",
    "#Initial inventory\n",
    "@constraint(m, initcond, h[1] == 10)\n",
    "#Conservation of boats\n",
    "@constraint(m, flow[i in 1:4], h[i]+x[i]+y[i]==d[i]+h[i+1])\n",
    "\n",
    "#Minimize costs\n",
    "@objective(m, Min, 400*sum(x) + 450*sum(y) + 20*sum(h))\n",
    "\n",
    "print(m)"
   ]
  },
  {
   "cell_type": "code",
   "execution_count": 13,
   "metadata": {
    "collapsed": true
   },
   "outputs": [
    {
     "name": "stdout",
     "output_type": "stream",
     "text": [
      "Presolving model\n",
      "4 rows, 12 cols, 15 nonzeros\n",
      "4 rows, 12 cols, 15 nonzeros\n",
      "Presolve : Reductions: rows 4(-1); columns 12(-1); elements 15(-2)\n",
      "Solving the presolved LP\n",
      "Using EKK dual simplex solver - serial\n",
      "  Iteration        Objective     Infeasibilities num(sum)\n",
      "          0     2.0000000000e+02 Pr: 4(185) 0s\n",
      "          5     7.6400000000e+04 Pr: 0(0) 0s\n",
      "Solving the original LP from the solution after postsolve\n",
      "Model   status      : Optimal\n",
      "Simplex   iterations: 5\n",
      "Objective value     :  7.6400000000e+04\n",
      "HiGHS run time      :          0.00\n"
     ]
    }
   ],
   "source": [
    "optimize!(m)"
   ]
  },
  {
   "cell_type": "code",
   "execution_count": 14,
   "metadata": {},
   "outputs": [
    {
     "name": "stdout",
     "output_type": "stream",
     "text": [
      "Build [40.0, 40.0, 40.0, 25.0] using regular labor\n",
      "Build [0.0, 10.0, 30.0, 0.0] using overtime labor\n",
      "Inventory: [10.0, 10.0, 0.0, 0.0, 0.0]\n"
     ]
    }
   ],
   "source": [
    "println(\"Build \", value.(x), \" using regular labor\")\n",
    "println(\"Build \", value.(y), \" using overtime labor\")\n",
    "println(\"Inventory: \", value.(h))"
   ]
  }
 ],
 "metadata": {
  "kernelspec": {
   "display_name": "Julia 1.7.3",
   "language": "julia",
   "name": "julia-1.7"
  },
  "language_info": {
   "file_extension": ".jl",
   "mimetype": "application/julia",
   "name": "julia",
   "version": "1.7.3"
  }
 },
 "nbformat": 4,
 "nbformat_minor": 1
}
