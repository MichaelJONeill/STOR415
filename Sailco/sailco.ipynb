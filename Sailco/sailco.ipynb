{
 "cells": [
  {
   "cell_type": "markdown",
   "metadata": {},
   "source": [
    "# Sailco problem\n",
    "Sailco manufactures sailboats. During the next 4 months the company must\n",
    "meet the following demands for their sailboats:\n",
    "\n",
    "|Month | 1 | 2 | 3 | 4 |\n",
    "|------|---|---|---|---|\n",
    "|Number of boats | 40 | 60 | 70 | 25 |\n",
    "\n",
    "At the beginning of Month 1, Sailco has 10 boats in inventory. Each month\n",
    "it must determine how many boats to produce. During any month, Sailco can\n",
    "produce up to 40 boats with regular labor and an unlimited number of boats\n",
    "with overtime labor. Boats produced with regular labor cost \\$400 each to\n",
    "produce, while boats produced with overtime labor cost \\$450 each. It costs \\$20 to hold a boat in inventory from one month to the next. Find the\n",
    "production and inventory schedule that minimizes the cost of meeting the\n",
    "next 4 months' demands."
   ]
  },
  {
   "cell_type": "code",
   "execution_count": 1,
   "metadata": {},
   "outputs": [
    {
     "name": "stdout",
     "output_type": "stream",
     "text": [
      "Min 400 x[1] + 400 x[2] + 400 x[3] + 400 x[4] + 450 y[1] + 450 y[2] + 450 y[3] + 450 y[4] + 20 h[1] + 20 h[2] + 20 h[3] + 20 h[4] + 20 h[5]\n",
      "Subject to\n",
      " initialcondition : h[1] = 10\n",
      " inventory[1] : x[1] + y[1] + h[1] - h[2] = 40\n",
      " inventory[2] : x[2] + y[2] + h[2] - h[3] = 60\n",
      " inventory[3] : x[3] + y[3] + h[3] - h[4] = 70\n",
      " inventory[4] : x[4] + y[4] + h[4] - h[5] = 25\n",
      " x[1] ≥ 0\n",
      " x[2] ≥ 0\n",
      " x[3] ≥ 0\n",
      " x[4] ≥ 0\n",
      " y[1] ≥ 0\n",
      " y[2] ≥ 0\n",
      " y[3] ≥ 0\n",
      " y[4] ≥ 0\n",
      " h[1] ≥ 0\n",
      " h[2] ≥ 0\n",
      " h[3] ≥ 0\n",
      " h[4] ≥ 0\n",
      " h[5] ≥ 0\n",
      " x[1] ≤ 40\n",
      " x[2] ≤ 40\n",
      " x[3] ≤ 40\n",
      " x[4] ≤ 40\n"
     ]
    }
   ],
   "source": [
    "using JuMP, HiGHS\n",
    "\n",
    "#Monthly demand for boats\n",
    "d = [40 60 70 25]\n",
    "\n",
    "m = Model(HiGHS.Optimizer)\n",
    "\n",
    "#Boats produced with regular labor\n",
    "@variable(m, 0 <= x[1:4] <= 40)\n",
    "#Boats produced with overtime labor\n",
    "@variable(m, y[1:4] >= 0)\n",
    "#Boats held in inventory         \n",
    "@variable(m, h[1:5] >= 0)\n",
    "\n",
    "#Initial inventory\n",
    "@constraint(m, initialcondition, h[1] == 10)\n",
    "#Conservation of boats\n",
    "@constraint(m, inventory[t in 1:4], h[t]+x[t]+y[t]==d[t]+h[t+1])\n",
    "\n",
    "#Minimize costs\n",
    "@objective(m, Min, 400*sum(x) + 450*sum(y) + 20*sum(h))\n",
    "\n",
    "print(m)"
   ]
  },
  {
   "cell_type": "code",
   "execution_count": 2,
   "metadata": {
    "collapsed": true
   },
   "outputs": [
    {
     "name": "stdout",
     "output_type": "stream",
     "text": [
      "Running HiGHS 1.6.0: Copyright (c) 2023 HiGHS under MIT licence terms\n",
      "Presolving model\n",
      "4 rows, 12 cols, 15 nonzeros\n",
      "4 rows, 12 cols, 15 nonzeros\n",
      "Presolve : Reductions: rows 4(-1); columns 12(-1); elements 15(-2)\n",
      "Solving the presolved LP\n",
      "Using EKK dual simplex solver - serial\n",
      "  Iteration        Objective     Infeasibilities num(sum)\n",
      "          0     2.0000000000e+02 Pr: 4(185) 0s\n",
      "          5     7.6400000000e+04 Pr: 0(0) 0s\n",
      "Solving the original LP from the solution after postsolve\n",
      "Model   status      : Optimal\n",
      "Simplex   iterations: 5\n",
      "Objective value     :  7.6400000000e+04\n",
      "HiGHS run time      :          0.00\n"
     ]
    }
   ],
   "source": [
    "optimize!(m)"
   ]
  },
  {
   "cell_type": "code",
   "execution_count": 3,
   "metadata": {},
   "outputs": [
    {
     "name": "stdout",
     "output_type": "stream",
     "text": [
      "Build [40.0, 40.0, 40.0, 25.0] using regular labor\n",
      "Build [0.0, 10.0, 30.0, 0.0] using overtime labor\n",
      "Inventory: [10.0, 10.0, 0.0, 0.0, 0.0]\n"
     ]
    }
   ],
   "source": [
    "println(\"Build \", value.(x), \" using regular labor\")\n",
    "println(\"Build \", value.(y), \" using overtime labor\")\n",
    "println(\"Inventory: \", value.(h))"
   ]
  }
 ],
 "metadata": {
  "kernelspec": {
   "display_name": "Julia 1.10.0",
   "language": "julia",
   "name": "julia-1.10"
  },
  "language_info": {
   "file_extension": ".jl",
   "mimetype": "application/julia",
   "name": "julia",
   "version": "1.10.0"
  }
 },
 "nbformat": 4,
 "nbformat_minor": 1
}
