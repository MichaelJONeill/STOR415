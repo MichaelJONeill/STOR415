{
 "cells": [
  {
   "cell_type": "markdown",
   "metadata": {},
   "source": [
    "# Sailco problem\n",
    "Sailco manufactures sailboats. During the next 4 months the company must\n",
    "meet the following demands for their sailboats:\n",
    "\n",
    "|Month | 1 | 2 | 3 | 4 |\n",
    "|------|---|---|---|---|\n",
    "|Number of boats | 40 | 60 | 70 | 25 |\n",
    "\n",
    "At the beginning of Month 1, Sailco has 10 boats in inventory. Each month\n",
    "it must determine how many boats to produce. During any month, Sailco can\n",
    "produce up to 40 boats with regular labor and an unlimited number of boats\n",
    "with overtime labor. Boats produced with regular labor cost \\$400 each to\n",
    "produce, while boats produced with overtime labor cost \\$450 each. It costs \\$20 to hold a boat in inventory from one month to the next. Find the\n",
    "production and inventory schedule that minimizes the cost of meeting the\n",
    "next 4 months' demands."
   ]
  },
  {
   "cell_type": "code",
   "execution_count": 72,
   "metadata": {},
   "outputs": [],
   "source": [
    "A =\n",
    "[1   0  0  0  0  0  0  0  0  0  0  0  0  0  0  0  0;\n",
    "-1   1  1  0  0  0  0  0  0 -1 -1  0  0  0  0  0  0;\n",
    " 0  -1  0  1  1  0  0  0  0  0  0 -1 -1  0  0  0  0;\n",
    " 0   0  0 -1  0  1  1  0  0  0  0  0  0 -1 -1  0  0;\n",
    " 0   0  0  0  0 -1  0  1  1  0  0  0  0  0  0 -1 -1;\n",
    " 0   0  0  0  0  0  0 -1  0  0  0  0  0  0  0  0  0; \n",
    " 0   0 -1  0  0  0  0  0  0  0  0  0  0  0  0  0  0; \n",
    " 0   0  0  0 -1  0  0  0  0  0  0  0  0  0  0  0  0; \n",
    " 0   0  0  0  0  0 -1  0  0  0  0  0  0  0  0  0  0; \n",
    " 0   0  0  0  0  0  0  0 -1  0  0  0  0  0  0  0  0;\n",
    " 0   0  0  0  0  0  0  0  0  1  0  0  0  0  0  0  0;\n",
    " 0   0  0  0  0  0  0  0  0  0  0  1  0  0  0  0  0;\n",
    " 0   0  0  0  0  0  0  0  0  0  0  0  0  1  0  0  0;\n",
    " 0   0  0  0  0  0  0  0  0  0  0  0  0  0  0  1  0;\n",
    " 0   0  0  0  0  0  0  0  0  0  1  0  0  0  0  0  0;\n",
    " 0   0  0  0  0  0  0  0  0  0  0  0  1  0  0  0  0;\n",
    " 0   0  0  0  0  0  0  0  0  0  0  0  0  0  1  0  0;\n",
    " 0   0  0  0  0  0  0  0  0  0  0  0  0  0  0  0  1]\n",
    "\n",
    "b = [10 0 0 0 0]\n",
    "demand = [40 60 70 25]\n",
    "numnodes = size(A,1);\n",
    "numedges = size(A,2);\n",
    "\n",
    "heldedges = 2:2:8;"
   ]
  },
  {
   "cell_type": "code",
   "execution_count": 73,
   "metadata": {},
   "outputs": [
    {
     "data": {
      "text/latex": [
       "$$ \\begin{aligned}\n",
       "\\min\\quad & 400 x_{1} + 400 x_{2} + 400 x_{3} + 400 x_{4} + 450 y_{1} + 450 y_{2} + 450 y_{3} + 450 y_{4} + 20 edges_{2} + 20 edges_{4} + 20 edges_{6} + 20 edges_{8} + 20 edges_{1}\\\\\n",
       "\\text{Subject to} \\quad & edges_{1} = 10.0\\\\\n",
       " & -edges_{1} + edges_{2} + edges_{3} - edges_{10} - edges_{11} = 0.0\\\\\n",
       " & -edges_{2} + edges_{4} + edges_{5} - edges_{12} - edges_{13} = 0.0\\\\\n",
       " & -edges_{4} + edges_{6} + edges_{7} - edges_{14} - edges_{15} = 0.0\\\\\n",
       " & -edges_{6} + edges_{8} + edges_{9} - edges_{16} - edges_{17} = 0.0\\\\\n",
       " & -edges_{8} - finalinventory = 0.0\\\\\n",
       " & -edges_{3} = -40.0\\\\\n",
       " & -edges_{5} = -60.0\\\\\n",
       " & -edges_{7} = -70.0\\\\\n",
       " & -edges_{9} = -25.0\\\\\n",
       " & -x_{1} + edges_{10} = 0.0\\\\\n",
       " & -x_{2} + edges_{12} = 0.0\\\\\n",
       " & -x_{3} + edges_{14} = 0.0\\\\\n",
       " & -x_{4} + edges_{16} = 0.0\\\\\n",
       " & -y_{1} + edges_{11} = 0.0\\\\\n",
       " & -y_{2} + edges_{13} = 0.0\\\\\n",
       " & -y_{3} + edges_{15} = 0.0\\\\\n",
       " & -y_{4} + edges_{17} = 0.0\\\\\n",
       " & x_{1} \\geq 0.0\\\\\n",
       " & x_{2} \\geq 0.0\\\\\n",
       " & x_{3} \\geq 0.0\\\\\n",
       " & x_{4} \\geq 0.0\\\\\n",
       " & y_{1} \\geq 0.0\\\\\n",
       " & y_{2} \\geq 0.0\\\\\n",
       " & y_{3} \\geq 0.0\\\\\n",
       " & y_{4} \\geq 0.0\\\\\n",
       " & edges_{1} \\geq 0.0\\\\\n",
       " & edges_{2} \\geq 0.0\\\\\n",
       " & edges_{3} \\geq 0.0\\\\\n",
       " & edges_{4} \\geq 0.0\\\\\n",
       " & edges_{5} \\geq 0.0\\\\\n",
       " & edges_{6} \\geq 0.0\\\\\n",
       " & edges_{7} \\geq 0.0\\\\\n",
       " & edges_{8} \\geq 0.0\\\\\n",
       " & edges_{9} \\geq 0.0\\\\\n",
       " & edges_{10} \\geq 0.0\\\\\n",
       " & edges_{11} \\geq 0.0\\\\\n",
       " & edges_{12} \\geq 0.0\\\\\n",
       " & edges_{13} \\geq 0.0\\\\\n",
       " & edges_{14} \\geq 0.0\\\\\n",
       " & edges_{15} \\geq 0.0\\\\\n",
       " & edges_{16} \\geq 0.0\\\\\n",
       " & edges_{17} \\geq 0.0\\\\\n",
       " & finalinventory \\geq 0.0\\\\\n",
       " & x_{1} \\leq 40.0\\\\\n",
       " & x_{2} \\leq 40.0\\\\\n",
       " & x_{3} \\leq 40.0\\\\\n",
       " & x_{4} \\leq 40.0\\\\\n",
       "\\end{aligned} $$"
      ]
     },
     "metadata": {},
     "output_type": "display_data"
    }
   ],
   "source": [
    "using JuMP, HiGHS\n",
    "\n",
    "m = Model(HiGHS.Optimizer)\n",
    "\n",
    "#Boats produced with regular labor\n",
    "@variable(m, 0 <= x[1:4] <= 40)\n",
    "#Boats produced with overtime labor\n",
    "@variable(m, y[1:4] >= 0)\n",
    "\n",
    "#Edges in graph\n",
    "@variable(m, edges[1:numedges] >= 0)\n",
    "\n",
    "@variable(m, finalinventory >= 0)\n",
    "\n",
    "@constraint(m, flow, A*edges .==  [b'; finalinventory; -demand'; x; y])\n",
    "\n",
    "@objective(m, Min, 400*sum(x) + 450*sum(y)+ 20*(sum(edges[i] for i in heldedges)+edges[1]))\n",
    "\n",
    "print(m)\n"
   ]
  },
  {
   "cell_type": "code",
   "execution_count": 74,
   "metadata": {},
   "outputs": [
    {
     "name": "stdout",
     "output_type": "stream",
     "text": [
      "Presolving model\n",
      "4 rows, 10 cols, 13 nonzeros\n",
      "3 rows, 9 cols, 11 nonzeros\n",
      "Presolve : Reductions: rows 3(-15); columns 9(-17); elements 11(-32)\n",
      "Solving the presolved LP\n",
      "Using EKK dual simplex solver - serial\n",
      "  Iteration        Objective     Infeasibilities num(sum)\n",
      "          0     0.0000000000e+00 Ph1: 0(0) 0s\n",
      "          4     7.6400000000e+04 Pr: 0(0) 0s\n",
      "Solving the original LP from the solution after postsolve\n",
      "Model   status      : Optimal\n",
      "Simplex   iterations: 4\n",
      "Objective value     :  7.6400000000e+04\n",
      "HiGHS run time      :          0.01\n"
     ]
    }
   ],
   "source": [
    "optimize!(m)"
   ]
  },
  {
   "cell_type": "code",
   "execution_count": 75,
   "metadata": {},
   "outputs": [
    {
     "name": "stdout",
     "output_type": "stream",
     "text": [
      "objective_value(m) = 76400.0\n",
      "value.(x) = [40.0, 40.0, 40.0, 25.0]\n",
      "value.(y) = [-0.0, 10.0, 30.0, -0.0]\n"
     ]
    }
   ],
   "source": [
    "@show objective_value(m)\n",
    "\n",
    "@show value.(x)\n",
    "@show value.(y);"
   ]
  }
 ],
 "metadata": {
  "kernelspec": {
   "display_name": "Julia 1.7.3",
   "language": "julia",
   "name": "julia-1.7"
  },
  "language_info": {
   "file_extension": ".jl",
   "mimetype": "application/julia",
   "name": "julia",
   "version": "1.7.3"
  },
  "orig_nbformat": 4
 },
 "nbformat": 4,
 "nbformat_minor": 2
}
