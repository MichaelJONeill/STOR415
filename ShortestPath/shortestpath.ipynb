{
 "cells": [
  {
   "cell_type": "markdown",
   "metadata": {},
   "source": [
    "## Shortest Path\n",
    "\n",
    "<img src=\"./network.png\" alt=\"Alternative text\" />\n",
    "\n",
    "The goal of this notebook is to find the shortest path between nodes $s$ and $y$ the network above."
   ]
  },
  {
   "cell_type": "code",
   "execution_count": 31,
   "metadata": {},
   "outputs": [],
   "source": [
    "#Nodes are s = 1, u = 2, x = 3, z = 4, v = 5, y = 6\n",
    "n = 6\n",
    "V = [:s, :u, :x, :z, :v, :y]\n",
    "nametonum = Dict(zip(V,1:n))\n",
    "E = [[:u :x], [:s :x :z :v], [:u :z :y], [:u :v :y], [:y], []]\n",
    "Edict = Dict(zip(V,E))\n",
    "\n",
    "s = [1; 0; 0; 0; 0; -1]\n",
    "c = [[1 3], [1 3 2 4], [3 1 2], [3 1 3], [2], []]\n",
    ";"
   ]
  },
  {
   "cell_type": "code",
   "execution_count": 32,
   "metadata": {},
   "outputs": [
    {
     "data": {
      "text/latex": [
       "$$ \\begin{aligned}\n",
       "\\min\\quad & x_{1,2} + 3 x_{1,3} + x_{2,1} + 3 x_{2,3} + 2 x_{2,4} + 4 x_{2,5} + 3 x_{3,2} + x_{3,4} + 2 x_{3,6} + 3 x_{4,2} + x_{4,5} + 3 x_{4,6} + 2 x_{5,6}\\\\\n",
       "\\text{Subject to} \\quad & x_{1,1} = 0.0\\\\\n",
       " & x_{1,4} = 0.0\\\\\n",
       " & x_{1,5} = 0.0\\\\\n",
       " & x_{1,6} = 0.0\\\\\n",
       " & x_{2,2} = 0.0\\\\\n",
       " & x_{2,6} = 0.0\\\\\n",
       " & x_{3,1} = 0.0\\\\\n",
       " & x_{3,3} = 0.0\\\\\n",
       " & x_{3,5} = 0.0\\\\\n",
       " & x_{4,1} = 0.0\\\\\n",
       " & x_{4,3} = 0.0\\\\\n",
       " & x_{4,4} = 0.0\\\\\n",
       " & x_{5,1} = 0.0\\\\\n",
       " & x_{5,2} = 0.0\\\\\n",
       " & x_{5,3} = 0.0\\\\\n",
       " & x_{5,4} = 0.0\\\\\n",
       " & x_{5,5} = 0.0\\\\\n",
       " & x_{6,1} = 0.0\\\\\n",
       " & x_{6,2} = 0.0\\\\\n",
       " & x_{6,3} = 0.0\\\\\n",
       " & x_{6,4} = 0.0\\\\\n",
       " & x_{6,5} = 0.0\\\\\n",
       " & x_{6,6} = 0.0\\\\\n",
       " & -x_{2,1} - x_{3,1} - x_{4,1} - x_{5,1} - x_{6,1} + x_{1,2} + x_{1,3} + x_{1,4} + x_{1,5} + x_{1,6} = 1.0\\\\\n",
       " & x_{2,1} - x_{1,2} - x_{3,2} - x_{4,2} - x_{5,2} - x_{6,2} + x_{2,3} + x_{2,4} + x_{2,5} + x_{2,6} = 0.0\\\\\n",
       " & x_{3,1} + x_{3,2} - x_{1,3} - x_{2,3} - x_{4,3} - x_{5,3} - x_{6,3} + x_{3,4} + x_{3,5} + x_{3,6} = 0.0\\\\\n",
       " & x_{4,1} + x_{4,2} + x_{4,3} - x_{1,4} - x_{2,4} - x_{3,4} - x_{5,4} - x_{6,4} + x_{4,5} + x_{4,6} = 0.0\\\\\n",
       " & x_{5,1} + x_{5,2} + x_{5,3} + x_{5,4} - x_{1,5} - x_{2,5} - x_{3,5} - x_{4,5} - x_{6,5} + x_{5,6} = 0.0\\\\\n",
       " & x_{6,1} + x_{6,2} + x_{6,3} + x_{6,4} + x_{6,5} - x_{1,6} - x_{2,6} - x_{3,6} - x_{4,6} - x_{5,6} = -1.0\\\\\n",
       " & x_{1,1} \\geq 0.0\\\\\n",
       " & x_{2,1} \\geq 0.0\\\\\n",
       " & x_{3,1} \\geq 0.0\\\\\n",
       " & x_{4,1} \\geq 0.0\\\\\n",
       " & x_{5,1} \\geq 0.0\\\\\n",
       " & x_{6,1} \\geq 0.0\\\\\n",
       " & x_{1,2} \\geq 0.0\\\\\n",
       " & x_{2,2} \\geq 0.0\\\\\n",
       " & x_{3,2} \\geq 0.0\\\\\n",
       " & x_{4,2} \\geq 0.0\\\\\n",
       " & x_{5,2} \\geq 0.0\\\\\n",
       " & x_{6,2} \\geq 0.0\\\\\n",
       " & x_{1,3} \\geq 0.0\\\\\n",
       " & x_{2,3} \\geq 0.0\\\\\n",
       " & x_{3,3} \\geq 0.0\\\\\n",
       " & x_{4,3} \\geq 0.0\\\\\n",
       " & x_{5,3} \\geq 0.0\\\\\n",
       " & x_{6,3} \\geq 0.0\\\\\n",
       " & x_{1,4} \\geq 0.0\\\\\n",
       " & x_{2,4} \\geq 0.0\\\\\n",
       " & x_{3,4} \\geq 0.0\\\\\n",
       " & x_{4,4} \\geq 0.0\\\\\n",
       " & x_{5,4} \\geq 0.0\\\\\n",
       " & x_{6,4} \\geq 0.0\\\\\n",
       " & x_{1,5} \\geq 0.0\\\\\n",
       " & x_{2,5} \\geq 0.0\\\\\n",
       " & x_{3,5} \\geq 0.0\\\\\n",
       " & x_{4,5} \\geq 0.0\\\\\n",
       " & x_{5,5} \\geq 0.0\\\\\n",
       " & x_{6,5} \\geq 0.0\\\\\n",
       " & x_{1,6} \\geq 0.0\\\\\n",
       " & x_{2,6} \\geq 0.0\\\\\n",
       " & x_{3,6} \\geq 0.0\\\\\n",
       " & x_{4,6} \\geq 0.0\\\\\n",
       " & x_{5,6} \\geq 0.0\\\\\n",
       " & x_{6,6} \\geq 0.0\\\\\n",
       "\\end{aligned} $$"
      ]
     },
     "metadata": {},
     "output_type": "display_data"
    }
   ],
   "source": [
    "using JuMP, HiGHS\n",
    "\n",
    "m = Model(HiGHS.Optimizer)\n",
    "\n",
    "@variable(m, x[1:n,1:n] >= 0)\n",
    "\n",
    "@constraint(m, removeedges[i = 1:n, j = 1:n; V[j] ∉ Edict[V[i]]], x[i,j] == 0)\n",
    "\n",
    "@constraint(m, balance[i = 1:n], sum(x[i,j] for j in 1:n) - sum(x[j,i] for j in 1:n) .== s[i])\n",
    "\n",
    "@objective(m, Min, sum(sum(c[i][j]*x[i,nametonum[E[i][j]]] for j in 1:length(E[i])) for i in 1:n))\n",
    "\n",
    "print(m)"
   ]
  }
 ],
 "metadata": {
  "kernelspec": {
   "display_name": "Julia 1.7.3",
   "language": "julia",
   "name": "julia-1.7"
  },
  "language_info": {
   "file_extension": ".jl",
   "mimetype": "application/julia",
   "name": "julia",
   "version": "1.7.3"
  },
  "orig_nbformat": 4,
  "vscode": {
   "interpreter": {
    "hash": "9354bce1b2be92abddfc63e9f5a4ba876c2722856673db2d2d22a821fc65cb69"
   }
  }
 },
 "nbformat": 4,
 "nbformat_minor": 2
}
