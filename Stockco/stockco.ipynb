{
 "cells": [
  {
   "cell_type": "markdown",
   "metadata": {},
   "source": [
    "## Stockco Problem\n",
    "\n",
    "\n",
    "\n",
    "Stockco is considering four investments. Each investment will yield a net present value (NPV) and require a certain cash outflow at the present time. This data is summarized in the table:\n",
    "|**Investment** | **NPV** | **Cash Outflow**|\n",
    "|----|----|----|\n",
    "|1 | $16000 | $5000 |\n",
    "|2 | $22000 | $7000 |\n",
    "|3 | $12000 | $4000 |\n",
    "| 4 | $8000 | $3000 |\n",
    "\n",
    "Stockco has a total of $14000 to invest. Assume that we cannot invest fractionally in any of these investments. How does Stockco maximize the total NPV?\n",
    "\n",
    "\n",
    "In addition to the above data, Stockco has to following restrictions on its investments:\n",
    "- Stockco can invest in at most two investments.\n",
    "- If Stockco invests in investment 2, they must also invest in investment 1.\n",
    "- If Stockco invests in investment 4, they cannot invest in investment 1.\n",
    "\n",
    "\n",
    "Original problem from: Wayne L. Winston and Munirpallam Venkataramanan. Introduction to Mathematical Programming, 2003."
   ]
  },
  {
   "cell_type": "code",
   "execution_count": 1,
   "metadata": {},
   "outputs": [],
   "source": [
    "#Summarizing data into vectors\n",
    "NPV = [16; 22; 12; 8]\n",
    "cash = [5; 7; 4; 3]\n",
    "#Cash available to invest\n",
    "available = 14\n",
    ";"
   ]
  },
  {
   "cell_type": "code",
   "execution_count": 3,
   "metadata": {},
   "outputs": [
    {
     "name": "stdout",
     "output_type": "stream",
     "text": [
      "Max 16 x[1] + 22 x[2] + 12 x[3] + 8 x[4]\n",
      "Subject to\n",
      " cashflow : 5 x[1] + 7 x[2] + 4 x[3] + 3 x[4] <= 14.0\n",
      " twoinvestments : x[1] + x[2] + x[3] + x[4] <= 2.0\n",
      " if2then1 : -x[1] + x[2] <= 0.0\n",
      " notboth1and4 : x[1] + x[4] <= 1.0\n",
      " x[1] binary\n",
      " x[2] binary\n",
      " x[3] binary\n",
      " x[4] binary\n"
     ]
    }
   ],
   "source": [
    "using JuMP, HiGHS\n",
    "\n",
    "m = Model(HiGHS.Optimizer)\n",
    "\n",
    "@variable(m, x[1:4], Bin)\n",
    "\n",
    "@constraint(m, cashflow, sum(cash[i]*x[i] for i in 1:4) <= available)\n",
    "@constraint(m, twoinvestments, sum(x[i] for i in 1:4) <= 2)\n",
    "@constraint(m, if2then1, x[2] <= x[1])\n",
    "@constraint(m, notboth1and4, x[1] + x[4] <= 1)\n",
    "\n",
    "@objective(m, Max, sum(NPV[i]*x[i] for i in 1:4))\n",
    "\n",
    "print(m)\n"
   ]
  },
  {
   "cell_type": "code",
   "execution_count": 4,
   "metadata": {},
   "outputs": [
    {
     "name": "stdout",
     "output_type": "stream",
     "text": [
      "Presolving model\n",
      "4 rows, 4 cols, 12 nonzeros\n",
      "4 rows, 4 cols, 12 nonzeros\n",
      "Objective function is integral with scale 0.5\n",
      "\n",
      "Solving MIP model with:\n",
      "   4 rows\n",
      "   4 cols (4 binary, 0 integer, 0 implied int., 0 continuous)\n",
      "   12 nonzeros\n",
      "\n",
      "( 0.0s) Starting symmetry detection\n",
      "( 0.0s) No symmetry present\n",
      "\n",
      "        Nodes      |    B&B Tree     |            Objective Bounds              |  Dynamic Constraints |       Work      \n",
      "     Proc. InQueue |  Leaves   Expl. | BestBound       BestSol              Gap |   Cuts   InLp Confl. | LpIters     Time\n",
      "\n",
      "         0       0         0   0.00%   38              -inf                 inf        0      0      0         0     0.0s\n",
      "\n",
      "Solving report\n",
      "  Status            Optimal\n",
      "  Primal bound      38\n",
      "  Dual bound        38\n",
      "  Gap               0% (tolerance: 0.01%)\n",
      "  Solution status   feasible\n",
      "                    38 (objective)\n",
      "                    0 (bound viol.)\n",
      "                    0 (int. viol.)\n",
      "                    0 (row viol.)\n",
      "  Timing            0.00 (total)\n",
      "                    0.00 (presolve)\n",
      "                    0.00 (postsolve)\n",
      "  Nodes             1\n",
      "  LP iterations     3 (total)\n",
      "                    0 (strong br.)\n",
      "                    0 (separation)\n",
      "                    0 (heuristics)\n"
     ]
    }
   ],
   "source": [
    "optimize!(m)"
   ]
  },
  {
   "cell_type": "code",
   "execution_count": 6,
   "metadata": {},
   "outputs": [
    {
     "name": "stdout",
     "output_type": "stream",
     "text": [
      "value.(x) = [1.0, 1.0, -0.0, -0.0]\n",
      "objective_value(m) = 38.0\n"
     ]
    },
    {
     "data": {
      "text/plain": [
       "38.0"
      ]
     },
     "metadata": {},
     "output_type": "display_data"
    }
   ],
   "source": [
    "@show value.(x)\n",
    "@show objective_value(m)   "
   ]
  }
 ],
 "metadata": {
  "kernelspec": {
   "display_name": "Julia 1.7.3",
   "language": "julia",
   "name": "julia-1.7"
  },
  "language_info": {
   "file_extension": ".jl",
   "mimetype": "application/julia",
   "name": "julia",
   "version": "1.7.3"
  },
  "orig_nbformat": 4
 },
 "nbformat": 4,
 "nbformat_minor": 2
}
