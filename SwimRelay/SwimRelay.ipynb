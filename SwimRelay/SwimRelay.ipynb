{
 "cells": [
  {
   "cell_type": "markdown",
   "metadata": {},
   "source": [
    "# Swim relay problem (Van Roy and Mason)\n",
    "The coach of a swim team needs to assign swimmers to a 200-yard medley relay team to compete in a tournament. The problem is that his best swimmers are good in more than one stroke, so it's not clear which swimmer to assign to which stroke. Here are the best times for each swimmer:\n",
    "\n",
    "|Stroke       | Carl | Chris | David | Tony | Ken  |\n",
    "|-------------|:----:|:-----:|:-----:|:----:|:----:|\n",
    "|Backstroke   | 37.7 | 32.9  | 33.8  | 37.0 | 35.4 |\n",
    "|Breaststroke | 43.4 | 33.1  | 42.2  | 34.7 | 41.8 |\n",
    "|Butterfly    | 33.3 | 28.5  | 38.9  | 30.4 | 33.6 |\n",
    "|Freestyle    | 29.2 | 26.4  | 29.6  | 28.5 | 31.1 |\n"
   ]
  },
  {
   "cell_type": "markdown",
   "metadata": {},
   "source": [
    "### Solution (Classic Transportation)"
   ]
  },
  {
   "cell_type": "code",
   "execution_count": 48,
   "metadata": {},
   "outputs": [
    {
     "name": "stdout",
     "output_type": "stream",
     "text": [
      "Presolving model\n",
      "9 rows, 20 cols, 40 nonzeros\n",
      "9 rows, 20 cols, 40 nonzeros\n",
      "Presolve : Reductions: rows 9(-0); columns 20(-0); elements 40(-0)\n",
      "Solving the presolved LP\n",
      "Using EKK dual simplex solver - serial\n",
      "  Iteration        Objective     Infeasibilities num(sum)\n",
      "          0     0.0000000000e+00 Pr: 4(4) 0s\n",
      "          8     1.2620000000e+02 Pr: 0(0) 0s\n",
      "Solving the original LP from the solution after postsolve\n",
      "Model   status      : Optimal\n",
      "Simplex   iterations: 8\n",
      "Objective value     :  1.2620000000e+02\n",
      "HiGHS run time      :          0.00\n"
     ]
    }
   ],
   "source": [
    "using JuMP, HiGHS, NamedArrays\n",
    "\n",
    "strokes = [ :backstroke, :breaststroke, :butterfly, :freestyle ]\n",
    "names = [ :Carl, :Chris, :David, :Tony, :Ken ]\n",
    "\n",
    "raw = [ 37.7 32.9 33.8 37.0 35.4\n",
    "        43.4 33.1 42.2 34.7 41.8\n",
    "        33.3 28.5 38.9 30.4 33.6\n",
    "        29.2 26.4 29.6 28.5 31.1 ]\n",
    "\n",
    "times = NamedArray( raw, (strokes,names), (\"stroke\",\"name\"))\n",
    "\n",
    "m = Model(HiGHS.Optimizer)\n",
    "\n",
    "@variable(m, x[strokes,names] >= 0)\n",
    "\n",
    "# each swimmer swims at most one event\n",
    "@constraint(m, a[j in names], sum(x[i,j] for i in strokes) <= 1 )\n",
    "\n",
    "# each event has exactly one swimmer\n",
    "@constraint(m, b[i in strokes], sum(x[i,j] for j in names) == 1 )\n",
    "\n",
    "@objective(m, Min, sum( x[i,j]*times[i,j] for i in strokes, j in names ) )\n",
    "\n",
    "#print(m)\n",
    "optimize!(m)"
   ]
  },
  {
   "cell_type": "code",
   "execution_count": 43,
   "metadata": {},
   "outputs": [
    {
     "data": {
      "text/plain": [
       "4×5 Named Matrix{Float64}\n",
       "stroke ╲ name │  :Carl  :Chris  :David   :Tony    :Ken\n",
       "──────────────┼───────────────────────────────────────\n",
       ":backstroke   │    0.0     0.0     1.0     0.0     0.0\n",
       ":breaststroke │    0.0     0.0     0.0     1.0     0.0\n",
       ":butterfly    │    0.0     1.0     0.0    -0.0     0.0\n",
       ":freestyle    │    1.0    -0.0     0.0     0.0     0.0"
      ]
     },
     "execution_count": 43,
     "metadata": {},
     "output_type": "execute_result"
    }
   ],
   "source": [
    "assignment = NamedArray( [ (value(x[i,j])) for i in strokes, j in names ], (strokes, names), (\"stroke\",\"name\"))"
   ]
  },
  {
   "cell_type": "markdown",
   "metadata": {
    "collapsed": true
   },
   "source": [
    "### Solution (MCNFP)"
   ]
  },
  {
   "cell_type": "code",
   "execution_count": 45,
   "metadata": {},
   "outputs": [
    {
     "data": {
      "text/plain": [
       "10×25 Matrix{Float64}:\n",
       "  1.0   1.0   1.0   1.0   1.0   0.0  …   0.0   0.0   0.0   0.0   0.0   0.0\n",
       "  0.0   0.0   0.0   0.0   0.0   1.0      0.0   0.0   0.0   0.0   0.0   0.0\n",
       "  0.0   0.0   0.0   0.0   0.0   0.0      0.0   0.0   0.0   0.0   0.0   0.0\n",
       "  0.0   0.0   0.0   0.0   0.0   0.0      1.0   0.0   0.0   0.0   0.0   0.0\n",
       "  0.0   0.0   0.0   0.0   0.0   0.0      0.0   1.0   1.0   1.0   1.0   1.0\n",
       " -1.0   0.0   0.0   0.0   0.0  -1.0  …   0.0  -1.0   0.0   0.0   0.0   0.0\n",
       "  0.0  -1.0   0.0   0.0   0.0   0.0      0.0   0.0  -1.0   0.0   0.0   0.0\n",
       "  0.0   0.0  -1.0   0.0   0.0   0.0      0.0   0.0   0.0  -1.0   0.0   0.0\n",
       "  0.0   0.0   0.0  -1.0   0.0   0.0      0.0   0.0   0.0   0.0  -1.0   0.0\n",
       "  0.0   0.0   0.0   0.0  -1.0   0.0     -1.0   0.0   0.0   0.0   0.0  -1.0"
      ]
     },
     "execution_count": 45,
     "metadata": {},
     "output_type": "execute_result"
    }
   ],
   "source": [
    "#Problem is unbalanced, need a dummy node with 0 cost\n",
    "#vec(matrix) creates a vector from a matrix\n",
    "costs = vec([raw;\n",
    "         0 0 0 0 0]')\n",
    "b = [1; 1; 1; 1; 1; -1; -1; -1; -1; -1]\n",
    "\n",
    "#Form incidence matrix, first 5 rows are swimmers, last 5 are strokes (1 dummy node)\n",
    "numswimmers = 5\n",
    "numstrokes = 5\n",
    "numedges = numswimmers*numstrokes\n",
    "A = zeros(numswimmers+numstrokes,numedges);\n",
    "edgenum = 1\n",
    "for i in 1:numswimmers\n",
    "    for j in 1:numstrokes\n",
    "        #Edge leaves swimmer i\n",
    "        A[i,edgenum] = 1\n",
    "        #Edge enters stroke j\n",
    "        A[numswimmers+j,edgenum] = -1\n",
    "        #Increase edge number\n",
    "        edgenum = edgenum+1\n",
    "    end\n",
    "end\n",
    "A"
   ]
  },
  {
   "cell_type": "code",
   "execution_count": 46,
   "metadata": {},
   "outputs": [
    {
     "name": "stdout",
     "output_type": "stream",
     "text": [
      "Presolving model\n",
      "10 rows, 25 cols, 50 nonzeros\n",
      "9 rows, 25 cols, 45 nonzeros\n",
      "Presolve : Reductions: rows 9(-1); columns 25(-0); elements 45(-5)\n",
      "Solving the presolved LP\n",
      "Using EKK dual simplex solver - serial\n",
      "  Iteration        Objective     Infeasibilities num(sum)\n",
      "          0     0.0000000000e+00 Pr: 9(9) 0s\n",
      "         12     1.2620000000e+02 Pr: 0(0) 0s\n",
      "Solving the original LP from the solution after postsolve\n",
      "Model   status      : Optimal\n",
      "Simplex   iterations: 12\n",
      "Objective value     :  1.2620000000e+02\n",
      "HiGHS run time      :          0.01\n"
     ]
    }
   ],
   "source": [
    "m2 = Model(HiGHS.Optimizer)\n",
    "\n",
    "@variable(m2, x[1:numedges] >= 0)\n",
    "\n",
    "#Use incidence matrix to define constraint\n",
    "@constraint(m2, flow, A*x .== b)\n",
    "\n",
    "@objective(m2, Min, sum(x[i]*costs[i] for i in 1:numedges))\n",
    "\n",
    "optimize!(m2)"
   ]
  },
  {
   "cell_type": "code",
   "execution_count": 41,
   "metadata": {},
   "outputs": [
    {
     "data": {
      "text/plain": [
       "4×5 Named LinearAlgebra.Adjoint{Float64, Matrix{Float64}}\n",
       "stroke ╲ name │  :Carl  :Chris  :David   :Tony    :Ken\n",
       "──────────────┼───────────────────────────────────────\n",
       ":backstroke   │    0.0     0.0     1.0     0.0     0.0\n",
       ":breaststroke │    0.0     0.0     0.0     1.0     0.0\n",
       ":butterfly    │    0.0     1.0     0.0    -0.0     0.0\n",
       ":freestyle    │    1.0    -0.0     0.0     0.0     0.0"
      ]
     },
     "execution_count": 41,
     "metadata": {},
     "output_type": "execute_result"
    }
   ],
   "source": [
    "xout = value.(x)\n",
    "xnodummy = xout[1:20]\n",
    "xmat = reshape(xnodummy, (numswimmers,numstrokes-1))\n",
    "assignment = NamedArray( xmat', (strokes, names), (\"stroke\",\"name\"))"
   ]
  }
 ],
 "metadata": {
  "kernelspec": {
   "display_name": "Julia 1.7.3",
   "language": "julia",
   "name": "julia-1.7"
  },
  "language_info": {
   "file_extension": ".jl",
   "mimetype": "application/julia",
   "name": "julia",
   "version": "1.7.3"
  }
 },
 "nbformat": 4,
 "nbformat_minor": 1
}
