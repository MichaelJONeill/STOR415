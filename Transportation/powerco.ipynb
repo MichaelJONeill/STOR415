{
 "cells": [
  {
   "cell_type": "markdown",
   "metadata": {},
   "source": [
    "## Powerco\n",
    "\n",
    "Powerco has three electricity power plants that supply the needs of four cities.\n",
    "- The supply capacity of each power plant and the demand in each city (in million\n",
    "KWH/hour) are given in the table below.\n",
    "\n",
    "| From/to | City 1 | City 2 | City 3 | City 4 | Supply |\n",
    "| --- | --- | --- | --- | --- | --- |\n",
    "| Plant 1 | $8 | $6 | $10 | $9 | 35 |\n",
    "| Plant 2 | $9 | $12 | $13 | $7 | 50 |\n",
    "| Plant 3 | $14 | $9 | $16 | $5 | 40 |\n",
    "| Demand | 45 | 20 | 30 | 30 |\n",
    "\n",
    "- The cost of sending 1 million KWH of electricity from each plant to each city is\n",
    "also given the table.\n",
    "\n",
    "**Question:** How does Powerco make its distribution plan to minimize the total cost\n",
    "while satisfying all cities’ demands?\n"
   ]
  },
  {
   "cell_type": "markdown",
   "metadata": {},
   "source": [
    "### Data:"
   ]
  },
  {
   "cell_type": "code",
   "execution_count": 1,
   "metadata": {},
   "outputs": [],
   "source": [
    "numplants = 3\n",
    "numcities = 4\n",
    "\n",
    "costs = [8 6 10 9;\n",
    "        9 12 13 7;\n",
    "        14 9 16 5]\n",
    "        \n",
    "supply = [35 50 40]\n",
    "demand = [45 20 30 30];"
   ]
  },
  {
   "cell_type": "markdown",
   "metadata": {},
   "source": [
    "### Model:"
   ]
  },
  {
   "cell_type": "code",
   "execution_count": 2,
   "metadata": {},
   "outputs": [
    {
     "name": "stdout",
     "output_type": "stream",
     "text": [
      "Min 8 x[1,1] + 6 x[1,2] + 10 x[1,3] + 9 x[1,4] + 9 x[2,1] + 12 x[2,2] + 13 x[2,3] + 7 x[2,4] + 14 x[3,1] + 9 x[3,2] + 16 x[3,3] + 5 x[3,4]\n",
      "Subject to\n",
      " "
     ]
    },
    {
     "name": "stdout",
     "output_type": "stream",
     "text": [
      "demandconstraint[1] : x[1,1] + x[2,1] + x[3,1] ≥ 45\n",
      " demandconstraint[2] : x[1,2] + x[2,2] + x[3,2] ≥ 20\n",
      " demandconstraint[3] : x[1,3] + x[2,3] + x[3,3] ≥ 30\n",
      " demandconstraint[4] : x[1,4] + x[2,4] + x[3,4] ≥ 30\n",
      " supplyconstraint[1] : x[1,1] + x[1,2] + x[1,3] + x[1,4] ≤ 35\n",
      " supplyconstraint[2] : x[2,1] + x[2,2] + x[2,3] + x[2,4] ≤ 50\n",
      " supplyconstraint[3] : x[3,1] + x[3,2] + x[3,3] + x[3,4] ≤ 40\n",
      " x[1,1] ≥ 0\n",
      " x[2,1] ≥ 0\n",
      " x[3,1] ≥ 0\n",
      " x[1,2] ≥ 0\n",
      " x[2,2] ≥ 0\n",
      " x[3,2] ≥ 0\n",
      " x[1,3] ≥ 0\n",
      " x[2,3] ≥ 0\n",
      " x[3,3] ≥ 0\n",
      " x[1,4] ≥ 0\n",
      " x[2,4] ≥ 0\n",
      " x[3,4] ≥ 0\n"
     ]
    }
   ],
   "source": [
    "using JuMP, HiGHS\n",
    "\n",
    "power = Model(HiGHS.Optimizer)\n",
    "\n",
    "#Create a variable xij for each pair of plant and city that represents\n",
    "#the amount of power sent from plant i to city j\n",
    "@variable(power, x[1:numplants,1:numcities] >= 0)\n",
    "\n",
    "#Each power plant i can provide at most supply[i] power\n",
    "@constraint(power, supplyconstraint[i in 1:numplants], sum(x[i,j] for j in 1:numcities) <= supply[i])\n",
    "\n",
    "#Each city j requires at least demand[j] power\n",
    "@constraint(power, demandconstraint[j in 1:numcities], sum(x[i,j] for i in 1:numplants) >= demand[j])\n",
    "\n",
    "#Cost of sending from plant i to city j is given by costs[i,j]\n",
    "@objective(power, Min, sum(sum(costs[i,j]*x[i,j] for j in 1:numcities) for i in 1:numplants))\n",
    "\n",
    "print(power)"
   ]
  },
  {
   "cell_type": "code",
   "execution_count": 3,
   "metadata": {},
   "outputs": [
    {
     "name": "stdout",
     "output_type": "stream",
     "text": [
      "Running HiGHS 1.6.0: Copyright (c) 2023 HiGHS under MIT licence terms\n",
      "Presolving model\n",
      "7 rows, 12 cols, 24 nonzeros\n",
      "7 rows, 12 cols, 24 nonzeros\n",
      "Presolve : Reductions: rows 7(-0); columns 12(-0); elements 24(-0) - Not reduced\n",
      "Problem not reduced by presolve: solving the LP\n",
      "Using EKK dual simplex solver - serial\n",
      "  Iteration        Objective     Infeasibilities num(sum)\n",
      "          0     0.0000000000e+00 Pr: 4(125) 0s\n",
      "          7     1.0200000000e+03 Pr: 0(0) 0s\n",
      "Model   status      : Optimal\n",
      "Simplex   iterations: 7\n",
      "Objective value     :  1.0200000000e+03\n",
      "HiGHS run time      :          0.00\n"
     ]
    }
   ],
   "source": [
    "optimize!(power)"
   ]
  },
  {
   "cell_type": "code",
   "execution_count": 4,
   "metadata": {},
   "outputs": [
    {
     "name": "stdout",
     "output_type": "stream",
     "text": [
      "objective_value(power) = 1020.0\n",
      "value.(x) = "
     ]
    },
    {
     "name": "stdout",
     "output_type": "stream",
     "text": [
      "[0.0 10.0 25.0 0.0; 45.0 0.0 5.0 0.0; 0.0 10.0 0.0 30.0]\n"
     ]
    },
    {
     "data": {
      "text/plain": [
       "3×4 Matrix{Float64}:\n",
       "  0.0  10.0  25.0   0.0\n",
       " 45.0   0.0   5.0   0.0\n",
       "  0.0  10.0   0.0  30.0"
      ]
     },
     "metadata": {},
     "output_type": "display_data"
    }
   ],
   "source": [
    "@show objective_value(power)\n",
    "@show value.(x)"
   ]
  }
 ],
 "metadata": {
  "kernelspec": {
   "display_name": "Julia 1.10.0",
   "language": "julia",
   "name": "julia-1.10"
  },
  "language_info": {
   "file_extension": ".jl",
   "mimetype": "application/julia",
   "name": "julia",
   "version": "1.10.0"
  },
  "orig_nbformat": 4
 },
 "nbformat": 4,
 "nbformat_minor": 2
}
