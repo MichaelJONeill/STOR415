{
 "cells": [
  {
   "cell_type": "markdown",
   "metadata": {},
   "source": [
    "## Powerco\n",
    "\n",
    "Powerco has three electricity power plants that supply the needs of four cities.\n",
    "- The supply capacity of each power plant and the demand in each city (in million\n",
    "KWH/hour) are given in the table below.\n",
    "\n",
    "| From/to | City 1 | City 2 | City 3 | City 4 | Supply |\n",
    "| --- | --- | --- | --- | --- | --- |\n",
    "| Plant 1 | $8 | $6 | $10 | $9 | 35 |\n",
    "| Plant 2 | $9 | $12 | $13 | $7 | 50 |\n",
    "| Plant 3 | $14 | $9 | $16 | $5 | 40 |\n",
    "| Demand | 45 | 20 | 30 | 30 |\n",
    "\n",
    "- The cost of sending 1 million KWH of electricity from each plant to each city is\n",
    "also given the table.\n",
    "\n",
    "**Question:** How does Powerco make its distribution plan to minimize the total cost\n",
    "while satisfying all cities’ demands?\n"
   ]
  },
  {
   "cell_type": "markdown",
   "metadata": {},
   "source": [
    "### Data:"
   ]
  },
  {
   "cell_type": "code",
   "execution_count": 1,
   "metadata": {},
   "outputs": [],
   "source": [
    "numplants = 3\n",
    "numcities = 4\n",
    "\n",
    "costs = [8 6 10 9;\n",
    "        9 12 13 7;\n",
    "        14 9 16 5]\n",
    "        \n",
    "supply = [35 50 40]\n",
    "demand = [45 20 30 30];"
   ]
  },
  {
   "cell_type": "markdown",
   "metadata": {},
   "source": [
    "### Model:"
   ]
  },
  {
   "cell_type": "code",
   "execution_count": 7,
   "metadata": {},
   "outputs": [
    {
     "data": {
      "text/latex": [
       "$$ \\begin{aligned}\n",
       "\\min\\quad & 8 x_{1,1} + 6 x_{1,2} + 10 x_{1,3} + 9 x_{1,4} + 9 x_{2,1} + 12 x_{2,2} + 13 x_{2,3} + 7 x_{2,4} + 14 x_{3,1} + 9 x_{3,2} + 16 x_{3,3} + 5 x_{3,4}\\\\\n",
       "\\text{Subject to} \\quad & x_{1,1} + x_{2,1} + x_{3,1} \\geq 45.0\\\\\n",
       " & x_{1,2} + x_{2,2} + x_{3,2} \\geq 20.0\\\\\n",
       " & x_{1,3} + x_{2,3} + x_{3,3} \\geq 30.0\\\\\n",
       " & x_{1,4} + x_{2,4} + x_{3,4} \\geq 30.0\\\\\n",
       " & x_{1,1} + x_{1,2} + x_{1,3} + x_{1,4} \\leq 35.0\\\\\n",
       " & x_{2,1} + x_{2,2} + x_{2,3} + x_{2,4} \\leq 50.0\\\\\n",
       " & x_{3,1} + x_{3,2} + x_{3,3} + x_{3,4} \\leq 40.0\\\\\n",
       " & x_{1,1} \\geq 0.0\\\\\n",
       " & x_{2,1} \\geq 0.0\\\\\n",
       " & x_{3,1} \\geq 0.0\\\\\n",
       " & x_{1,2} \\geq 0.0\\\\\n",
       " & x_{2,2} \\geq 0.0\\\\\n",
       " & x_{3,2} \\geq 0.0\\\\\n",
       " & x_{1,3} \\geq 0.0\\\\\n",
       " & x_{2,3} \\geq 0.0\\\\\n",
       " & x_{3,3} \\geq 0.0\\\\\n",
       " & x_{1,4} \\geq 0.0\\\\\n",
       " & x_{2,4} \\geq 0.0\\\\\n",
       " & x_{3,4} \\geq 0.0\\\\\n",
       "\\end{aligned} $$"
      ]
     },
     "metadata": {},
     "output_type": "display_data"
    }
   ],
   "source": [
    "using JuMP, HiGHS\n",
    "\n",
    "power = Model(HiGHS.Optimizer)\n",
    "\n",
    "#Create a variable xij for each pair of plant and city that represents\n",
    "#the amount of power sent from plant i to city j\n",
    "@variable(power, x[1:numplants,1:numcities] >= 0)\n",
    "\n",
    "#Each power plant i can provide at most supply[i] power\n",
    "@constraint(power, supplyconstraint[i in 1:numplants], sum(x[i,j] for j in 1:numcities) <= supply[i])\n",
    "\n",
    "#Each city j requires at least demand[j] power\n",
    "@constraint(power, demandconstraint[j in 1:numcities], sum(x[i,j] for i in 1:numplants) >= demand[j])\n",
    "\n",
    "#Cost of sending from plant i to city j is given by costs[i,j]\n",
    "@objective(power, Min, sum(sum(costs[i,j]*x[i,j] for j in 1:numcities) for i in 1:numplants))\n",
    "\n",
    "print(power)"
   ]
  },
  {
   "cell_type": "code",
   "execution_count": 9,
   "metadata": {},
   "outputs": [
    {
     "name": "stdout",
     "output_type": "stream",
     "text": [
      "Presolving model\n",
      "7 rows, 12 cols, 24 nonzeros\n",
      "7 rows, 12 cols, 24 nonzeros\n",
      "Presolve : Reductions: rows 7(-0); columns 12(-0); elements 24(-0)\n",
      "Solving the presolved LP\n",
      "Using EKK dual simplex solver - serial\n",
      "  Iteration        Objective     Infeasibilities num(sum)\n",
      "          0     0.0000000000e+00 Pr: 4(125) 0s\n",
      "          7     1.0200000000e+03 Pr: 0(0) 0s\n",
      "Solving the original LP from the solution after postsolve\n",
      "Model   status      : Optimal\n",
      "Simplex   iterations: 7\n",
      "Objective value     :  1.0200000000e+03\n",
      "HiGHS run time      :          0.00\n"
     ]
    }
   ],
   "source": [
    "optimize!(power)"
   ]
  },
  {
   "cell_type": "code",
   "execution_count": 12,
   "metadata": {},
   "outputs": [
    {
     "name": "stdout",
     "output_type": "stream",
     "text": [
      "objective_value(power) = 1020.0\n",
      "value.(x) = [0.0 10.0 25.0 0.0; 45.0 0.0 5.0 0.0; 0.0 10.0 0.0 30.0]\n"
     ]
    },
    {
     "data": {
      "text/plain": [
       "3×4 Matrix{Float64}:\n",
       "  0.0  10.0  25.0   0.0\n",
       " 45.0   0.0   5.0   0.0\n",
       "  0.0  10.0   0.0  30.0"
      ]
     },
     "execution_count": 12,
     "metadata": {},
     "output_type": "execute_result"
    }
   ],
   "source": [
    "@show objective_value(power)\n",
    "@show value.(x)"
   ]
  }
 ],
 "metadata": {
  "kernelspec": {
   "display_name": "Julia 1.7.3",
   "language": "julia",
   "name": "julia-1.7"
  },
  "language_info": {
   "file_extension": ".jl",
   "mimetype": "application/julia",
   "name": "julia",
   "version": "1.7.3"
  },
  "orig_nbformat": 4
 },
 "nbformat": 4,
 "nbformat_minor": 2
}
