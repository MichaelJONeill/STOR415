{
 "cells": [
  {
   "cell_type": "markdown",
   "metadata": {},
   "source": [
    "## Powerco\n",
    "\n",
    "Powerco has three electricity power plants that supply the needs of four cities.\n",
    "- The supply capacity of each power plant and the demand in each city (in million\n",
    "KWH/hour) are given in the table below.\n",
    "\n",
    "| From/to | City 1 | City 2 | City 3 | City 4 | Supply |\n",
    "| --- | --- | --- | --- | --- | --- |\n",
    "| Plant 1 | $8 | $6 | $10 | $9 | 35 |\n",
    "| Plant 2 | $9 | $12 | $13 | $7 | 50 |\n",
    "| Plant 3 | $14 | $9 | $16 | $5 | 40 |\n",
    "| Demand | 45 | 20 | 30 | 30 |\n",
    "\n",
    "- The cost of sending 1 million KWH of electricity from each plant to each city is\n",
    "also given the table.\n",
    "\n",
    "**Question:** How does Powerco make its distribution plan to minimize the total cost\n",
    "while satisfying all cities’ demands?\n",
    "\n",
    "This time, we will model this as a Minimum Cost Network Flow Problem, that is, our model will take the form:\n",
    "\n",
    "\\begin{align*}\n",
    "\\underset{x \\in \\mathbb{R}^{|\\mathcal{E}|}}{\\min} \\quad & c^Tx \\\\\n",
    "\\text{s.t.} \\quad \\ \\ &Ax = b \\\\\n",
    "&p \\leq x \\leq q,\n",
    "\\end{align*}\n",
    "\n",
    "where $A$ is the incidence matrix of the graph.\n"
   ]
  },
  {
   "cell_type": "markdown",
   "metadata": {},
   "source": [
    "### Data"
   ]
  },
  {
   "cell_type": "code",
   "execution_count": 12,
   "metadata": {},
   "outputs": [
    {
     "data": {
      "text/plain": [
       "7×12 Matrix{Int64}:\n",
       "  1   1   1   1   0   0   0   0   0   0   0   0\n",
       "  0   0   0   0   1   1   1   1   0   0   0   0\n",
       "  0   0   0   0   0   0   0   0   1   1   1   1\n",
       " -1   0   0   0  -1   0   0   0  -1   0   0   0\n",
       "  0  -1   0   0   0  -1   0   0   0  -1   0   0\n",
       "  0   0  -1   0   0   0  -1   0   0   0  -1   0\n",
       "  0   0   0  -1   0   0   0  -1   0   0   0  -1"
      ]
     },
     "execution_count": 12,
     "metadata": {},
     "output_type": "execute_result"
    }
   ],
   "source": [
    "numplants = 3\n",
    "numcities = 4\n",
    "numedges = numplants*numcities\n",
    "\n",
    "#Define the incidence matrix A for our fully connected network\n",
    "#Edges go from the power plants (first 3 rows) to the cities (last 4 rows)\n",
    "#Edge 1 is column 1, edge 2 is column 2, etc.\n",
    "A = [1  1  1  1  0  0  0  0  0  0  0  0\n",
    "     0  0  0  0  1  1  1  1  0  0  0  0\n",
    "     0  0  0  0  0  0  0  0  1  1  1  1\n",
    "    -1  0  0  0 -1  0  0  0 -1  0  0  0\n",
    "     0 -1  0  0  0 -1  0  0  0 -1  0  0\n",
    "     0  0 -1  0  0  0 -1  0  0  0 -1  0\n",
    "     0  0  0 -1  0  0  0 -1  0  0  0 -1]\n",
    "\n",
    "#Supply (first 3 entries) and demand (last 4 entries)\n",
    "b = [35, 50, 40, -45, -20, -30, -30]\n",
    "\n",
    "#Same as before, vectorized\n",
    "costs = [8 6 10 9 9 12 13 7 14 9 16 5];\n",
    "\n",
    "A"
   ]
  },
  {
   "cell_type": "markdown",
   "metadata": {},
   "source": [
    "### Model"
   ]
  },
  {
   "cell_type": "code",
   "execution_count": 13,
   "metadata": {},
   "outputs": [
    {
     "data": {
      "text/latex": [
       "$$ \\begin{aligned}\n",
       "\\min\\quad & 8 x_{1} + 6 x_{2} + 10 x_{3} + 9 x_{4} + 9 x_{5} + 12 x_{6} + 13 x_{7} + 7 x_{8} + 14 x_{9} + 9 x_{10} + 16 x_{11} + 5 x_{12}\\\\\n",
       "\\text{Subject to} \\quad & x_{1} + x_{2} + x_{3} + x_{4} = 35.0\\\\\n",
       " & x_{5} + x_{6} + x_{7} + x_{8} = 50.0\\\\\n",
       " & x_{9} + x_{10} + x_{11} + x_{12} = 40.0\\\\\n",
       " & -x_{1} - x_{5} - x_{9} = -45.0\\\\\n",
       " & -x_{2} - x_{6} - x_{10} = -20.0\\\\\n",
       " & -x_{3} - x_{7} - x_{11} = -30.0\\\\\n",
       " & -x_{4} - x_{8} - x_{12} = -30.0\\\\\n",
       " & x_{1} \\geq 0.0\\\\\n",
       " & x_{2} \\geq 0.0\\\\\n",
       " & x_{3} \\geq 0.0\\\\\n",
       " & x_{4} \\geq 0.0\\\\\n",
       " & x_{5} \\geq 0.0\\\\\n",
       " & x_{6} \\geq 0.0\\\\\n",
       " & x_{7} \\geq 0.0\\\\\n",
       " & x_{8} \\geq 0.0\\\\\n",
       " & x_{9} \\geq 0.0\\\\\n",
       " & x_{10} \\geq 0.0\\\\\n",
       " & x_{11} \\geq 0.0\\\\\n",
       " & x_{12} \\geq 0.0\\\\\n",
       "\\end{aligned} $$"
      ]
     },
     "metadata": {},
     "output_type": "display_data"
    }
   ],
   "source": [
    "using JuMP, HiGHS\n",
    "\n",
    "power2 = Model(HiGHS.Optimizer)\n",
    "\n",
    "@variable(power2, x[1:numedges] >= 0)\n",
    "@constraint(power2, supplyanddemand, A*x .== b)\n",
    "\n",
    "@objective(power2, Min, sum(costs[i]*x[i] for i in 1:numedges))\n",
    "\n",
    "print(power2)"
   ]
  },
  {
   "cell_type": "code",
   "execution_count": 14,
   "metadata": {},
   "outputs": [
    {
     "name": "stdout",
     "output_type": "stream",
     "text": [
      "Presolving model\n",
      "7 rows, 12 cols, 24 nonzeros\n",
      "6 rows, 12 cols, 20 nonzeros\n",
      "Presolve : Reductions: rows 6(-1); columns 12(-0); elements 20(-4)\n",
      "Solving the presolved LP\n",
      "Using EKK dual simplex solver - serial\n",
      "  Iteration        Objective     Infeasibilities num(sum)\n",
      "          0     0.0000000000e+00 Pr: 6(215) 0s\n",
      "          7     1.0200000000e+03 Pr: 0(0) 0s\n",
      "Solving the original LP from the solution after postsolve\n",
      "Model   status      : Optimal\n",
      "Simplex   iterations: 7\n",
      "Objective value     :  1.0200000000e+03\n",
      "HiGHS run time      :          0.00\n"
     ]
    }
   ],
   "source": [
    "optimize!(power2)"
   ]
  },
  {
   "cell_type": "code",
   "execution_count": 15,
   "metadata": {},
   "outputs": [
    {
     "name": "stdout",
     "output_type": "stream",
     "text": [
      "objective_value(power2) = 1020.0\n",
      "value.(x) = [0.0, 10.0, 25.0, 0.0, 45.0, 0.0, 5.0, 0.0, 0.0, 10.0, 0.0, 30.0]\n"
     ]
    },
    {
     "data": {
      "text/plain": [
       "12-element Vector{Float64}:\n",
       "  0.0\n",
       " 10.0\n",
       " 25.0\n",
       "  0.0\n",
       " 45.0\n",
       "  0.0\n",
       "  5.0\n",
       "  0.0\n",
       "  0.0\n",
       " 10.0\n",
       "  0.0\n",
       " 30.0"
      ]
     },
     "execution_count": 15,
     "metadata": {},
     "output_type": "execute_result"
    }
   ],
   "source": [
    "@show objective_value(power2)\n",
    "@show value.(x)"
   ]
  }
 ],
 "metadata": {
  "kernelspec": {
   "display_name": "Julia 1.7.3",
   "language": "julia",
   "name": "julia-1.7"
  },
  "language_info": {
   "file_extension": ".jl",
   "mimetype": "application/julia",
   "name": "julia",
   "version": "1.7.3"
  },
  "orig_nbformat": 4
 },
 "nbformat": 4,
 "nbformat_minor": 2
}
