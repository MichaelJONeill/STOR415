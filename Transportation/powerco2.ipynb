{
 "cells": [
  {
   "cell_type": "markdown",
   "metadata": {},
   "source": [
    "## Powerco\n",
    "\n",
    "Powerco has three electricity power plants that supply the needs of four cities.\n",
    "- The supply capacity of each power plant and the demand in each city (in million\n",
    "KWH/hour) are given in the table below.\n",
    "\n",
    "| From/to | City 1 | City 2 | City 3 | City 4 | Supply |\n",
    "| --- | --- | --- | --- | --- | --- |\n",
    "| Plant 1 | $8 | $6 | $10 | $9 | 35 |\n",
    "| Plant 2 | $9 | $12 | $13 | $7 | 50 |\n",
    "| Plant 3 | $14 | $9 | $16 | $5 | 40 |\n",
    "| Demand | 45 | 20 | 30 | 30 |\n",
    "\n",
    "- The cost of sending 1 million KWH of electricity from each plant to each city is\n",
    "also given the table.\n",
    "\n",
    "**Question:** How does Powerco make its distribution plan to minimize the total cost\n",
    "while satisfying all cities’ demands?\n",
    "\n",
    "This time, we will model this as a Minimum Cost Network Flow Problem, that is, our model will take the form:\n",
    "\n",
    "\\begin{align*}\n",
    "\\underset{x \\in \\mathbb{R}^{|\\mathcal{E}|}}{\\min} \\quad & c^Tx \\\\\n",
    "\\text{s.t.} \\quad \\ \\ &Ax = b \\\\\n",
    "&p \\leq x \\leq q,\n",
    "\\end{align*}\n",
    "\n",
    "where $A$ is the incidence matrix of the graph.\n"
   ]
  },
  {
   "cell_type": "markdown",
   "metadata": {},
   "source": [
    "### Data"
   ]
  },
  {
   "cell_type": "code",
   "execution_count": 1,
   "metadata": {},
   "outputs": [
    {
     "data": {
      "text/plain": [
       "7×12 Matrix{Int64}:\n",
       "  1   1   1   1   0   0   0   0   0   0   0   0\n",
       "  0   0   0   0   1   1   1   1   0   0   0   0\n",
       "  0   0   0   0   0   0   0   0   1   1   1   1\n",
       " -1   0   0   0  -1   0   0   0  -1   0   0   0\n",
       "  0  -1   0   0   0  -1   0   0   0  -1   0   0\n",
       "  0   0  -1   0   0   0  -1   0   0   0  -1   0\n",
       "  0   0   0  -1   0   0   0  -1   0   0   0  -1"
      ]
     },
     "metadata": {},
     "output_type": "display_data"
    }
   ],
   "source": [
    "numplants = 3\n",
    "numcities = 4\n",
    "numedges = numplants*numcities\n",
    "\n",
    "#Define the incidence matrix A for our fully connected network\n",
    "#Edges go from the power plants (first 3 rows) to the cities (last 4 rows)\n",
    "#Edge 1 is column 1, edge 2 is column 2, etc.\n",
    "A = [1  1  1  1  0  0  0  0  0  0  0  0\n",
    "     0  0  0  0  1  1  1  1  0  0  0  0\n",
    "     0  0  0  0  0  0  0  0  1  1  1  1\n",
    "    -1  0  0  0 -1  0  0  0 -1  0  0  0\n",
    "     0 -1  0  0  0 -1  0  0  0 -1  0  0\n",
    "     0  0 -1  0  0  0 -1  0  0  0 -1  0\n",
    "     0  0  0 -1  0  0  0 -1  0  0  0 -1]\n",
    "\n",
    "#Supply (first 3 entries) and demand (last 4 entries)\n",
    "b = [35, 50, 40, -45, -20, -30, -30]\n",
    "\n",
    "#Same as before, vectorized\n",
    "costs = [8 6 10 9 9 12 13 7 14 9 16 5];\n",
    "\n",
    "A"
   ]
  },
  {
   "cell_type": "markdown",
   "metadata": {},
   "source": [
    "### Model"
   ]
  },
  {
   "cell_type": "code",
   "execution_count": 2,
   "metadata": {},
   "outputs": [
    {
     "name": "stdout",
     "output_type": "stream",
     "text": [
      "Min 8 x[1] + 6 x[2] + 10 x[3] + 9 x[4] + 9 x[5] + 12 x[6] + 13 x[7] + 7 x[8] + 14 x[9] + 9 x[10] + 16 x[11] + 5 x[12]\n",
      "Subject to\n",
      " supplyanddemand : x[1] + x[2] + x[3] + x[4] = 35\n",
      " supplyanddemand : x[5] + x[6] + x[7] + x[8] = 50\n",
      " supplyanddemand : x[9] + x[10] + x[11] + x[12] = 40\n",
      " supplyanddemand : -x[1] - x[5] - x[9] = -45\n",
      " supplyanddemand : -x[2] - x[6] - x[10] = -20\n",
      " supplyanddemand : -x[3] - x[7] - x[11] = -30\n",
      " supplyanddemand : -x[4] - x[8] - x[12] = -30\n",
      " x[1] ≥ 0\n",
      " x[2] ≥ 0\n",
      " x[3] ≥ 0\n",
      " x[4] ≥ 0\n",
      " x[5] ≥ 0\n",
      " x[6] ≥ 0\n",
      " x[7] ≥ 0\n",
      " x[8] ≥ 0\n",
      " x[9] ≥ 0\n",
      " x[10] ≥ 0\n",
      " x[11] ≥ 0\n",
      " x[12] ≥ 0\n"
     ]
    }
   ],
   "source": [
    "using JuMP, HiGHS\n",
    "\n",
    "power2 = Model(HiGHS.Optimizer)\n",
    "\n",
    "@variable(power2, x[1:numedges] >= 0)\n",
    "@constraint(power2, supplyanddemand, A*x .== b)\n",
    "\n",
    "@objective(power2, Min, sum(costs[i]*x[i] for i in 1:numedges))\n",
    "\n",
    "print(power2)"
   ]
  },
  {
   "cell_type": "code",
   "execution_count": 3,
   "metadata": {},
   "outputs": [
    {
     "name": "stdout",
     "output_type": "stream",
     "text": [
      "Running HiGHS 1.6.0: Copyright (c) 2023 HiGHS under MIT licence terms\n",
      "Presolving model\n",
      "7 rows, 12 cols, 24 nonzeros\n",
      "6 rows, 12 cols, 20 nonzeros\n",
      "Presolve : Reductions: rows 6(-1); columns 12(-0); elements 20(-4)\n",
      "Solving the presolved LP\n",
      "Using EKK dual simplex solver - serial\n",
      "  Iteration        Objective     Infeasibilities num(sum)\n",
      "          0     0.0000000000e+00 Pr: 6(215) 0s\n",
      "          7     1.0200000000e+03 Pr: 0(0) 0s\n",
      "Solving the original LP from the solution after postsolve\n",
      "Model   status      : Optimal\n",
      "Simplex   iterations: 7\n",
      "Objective value     :  1.0200000000e+03\n",
      "HiGHS run time      :          0.00\n"
     ]
    }
   ],
   "source": [
    "optimize!(power2)"
   ]
  },
  {
   "cell_type": "code",
   "execution_count": 4,
   "metadata": {},
   "outputs": [
    {
     "name": "stdout",
     "output_type": "stream",
     "text": [
      "objective_value(power2) = 1020.0\n",
      "value.(x) = [0.0, 10.0, 25.0, 0.0, 45.0, 0.0, 5.0, 0.0, 0.0, 10.0, 0.0, 30.0]\n"
     ]
    },
    {
     "data": {
      "text/plain": [
       "12-element Vector{Float64}:\n",
       "  0.0\n",
       " 10.0\n",
       " 25.0\n",
       "  0.0\n",
       " 45.0\n",
       "  0.0\n",
       "  5.0\n",
       "  0.0\n",
       "  0.0\n",
       " 10.0\n",
       "  0.0\n",
       " 30.0"
      ]
     },
     "metadata": {},
     "output_type": "display_data"
    }
   ],
   "source": [
    "@show objective_value(power2)\n",
    "@show value.(x)"
   ]
  }
 ],
 "metadata": {
  "kernelspec": {
   "display_name": "Julia 1.10.0",
   "language": "julia",
   "name": "julia-1.10"
  },
  "language_info": {
   "file_extension": ".jl",
   "mimetype": "application/julia",
   "name": "julia",
   "version": "1.10.0"
  },
  "orig_nbformat": 4
 },
 "nbformat": 4,
 "nbformat_minor": 2
}
