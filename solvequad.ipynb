{
 "cells": [
  {
   "cell_type": "markdown",
   "metadata": {},
   "source": [
    "## Testing some gradient methods on a simple quadratic"
   ]
  },
  {
   "cell_type": "code",
   "execution_count": 4,
   "metadata": {},
   "outputs": [
    {
     "data": {
      "text/plain": [
       "quad (generic function with 1 method)"
      ]
     },
     "execution_count": 4,
     "metadata": {},
     "output_type": "execute_result"
    }
   ],
   "source": [
    "function quad(x, data, mode)\n",
    "#Computes function values and gradient of\n",
    "#(1/2)*x'*data[:A]*x+data[:b]'*x\n",
    "    if(mode==1)\n",
    "        #Compute function value\n",
    "        return (1/2)*x'*data[:A]*x+data[:b]'*x\n",
    "    else\n",
    "        return data[:A]*x + data[:b]\n",
    "    end\n",
    "end"
   ]
  },
  {
   "cell_type": "code",
   "execution_count": 1,
   "metadata": {},
   "outputs": [
    {
     "data": {
      "text/plain": [
       "gd (generic function with 1 method)"
      ]
     },
     "execution_count": 1,
     "metadata": {},
     "output_type": "execute_result"
    }
   ],
   "source": [
    "function gd(x0, data, α, eps)\n",
    "    #Initialize x and gradient g\n",
    "    x = x0\n",
    "    g = quad(x, data, 2)\n",
    "\n",
    "    #Max number of iterations\n",
    "    maxit = 1000\n",
    "    #Store the iterates for printing later\n",
    "    xiters = zeros(length(x),maxit+1)\n",
    "    xiters[:,1] = x\n",
    "\n",
    "    for i=1:maxit\n",
    "        x = x - α*g\n",
    "        g = quad(x, data, 2)\n",
    "\n",
    "        xiters[:,i+1] = x\n",
    "        if(norm(g) <= eps)\n",
    "            #Get rid of extra stuff in xiters\n",
    "            xiters = xiters[:,1:i+1]\n",
    "            return (x, xiters)\n",
    "        end\n",
    "    end\n",
    "    return (x, xiters)\n",
    "end"
   ]
  },
  {
   "cell_type": "code",
   "execution_count": 2,
   "metadata": {},
   "outputs": [
    {
     "data": {
      "text/plain": [
       "heavyball (generic function with 1 method)"
      ]
     },
     "execution_count": 2,
     "metadata": {},
     "output_type": "execute_result"
    }
   ],
   "source": [
    "function heavyball(x0, data, α, β, eps)\n",
    "    #Initialize x and gradient g\n",
    "    x = x0\n",
    "    xold = x\n",
    "    g = quad(x, data, 2)\n",
    "\n",
    "    #Max number of iterations\n",
    "    maxit = 1000\n",
    "    #Store the iterates for printing later\n",
    "    xiters = zeros(length(x),maxit+1)\n",
    "    xiters[:,1] = x\n",
    "\n",
    "    for i=1:maxit\n",
    "        #Gradient update with momentum\n",
    "        xnew = x - α*g + β*(x-xold)\n",
    "        xold = x\n",
    "        x = xnew\n",
    "\n",
    "        g = quad(x, data, 2)\n",
    "\n",
    "        xiters[:,i+1] = x\n",
    "        if(norm(g) <= eps)\n",
    "            #Get rid of extra stuff in xiters\n",
    "            xiters = xiters[:,1:i+1]\n",
    "            return (x, xiters)\n",
    "        end\n",
    "    end\n",
    "    return (x, xiters)\n",
    "end"
   ]
  },
  {
   "cell_type": "markdown",
   "metadata": {},
   "source": [
    "Set up a basic quadratic problem."
   ]
  },
  {
   "cell_type": "code",
   "execution_count": 5,
   "metadata": {},
   "outputs": [
    {
     "name": "stdout",
     "output_type": "stream",
     "text": [
      "Total gradient descent iterations: 326. Total heavy ball iterations: 88\n"
     ]
    }
   ],
   "source": [
    "using LinearAlgebra, PyPlot\n",
    "\n",
    "L = 1\n",
    "μ = 0.1\n",
    "\n",
    "A = Diagonal([μ, L])\n",
    "b = zeros(2)\n",
    "\n",
    "data = Dict()\n",
    "data[:A] = A\n",
    "data[:b] = b\n",
    "\n",
    "#Initial point\n",
    "x0 = [4; -3]\n",
    "\n",
    "α = 1/(2*L)\n",
    "eps = 10^-4\n",
    "\n",
    "(gdx, gdxiters) = gd(x0, data, α, eps)\n",
    "\n",
    "β = (1 - sqrt(α*μ))^2\n",
    "(hbx, hbxiters) = heavyball(x0, data, α, β, eps)\n",
    "\n",
    "#figure(figsize=(6,5))\n",
    "\n",
    "# compute contours of the original function\n",
    "N = 100\n",
    "xv = LinRange(-5,5,N)\n",
    "yv = LinRange(-4,4,N)\n",
    "fv = zeros(N,N)\n",
    "\n",
    "for (i,x) in enumerate(xv)\n",
    "    for (j,y) in enumerate(yv)\n",
    "        fv[j,i] = quad([x;y],data,1)\n",
    "    end\n",
    "end\n",
    "\n",
    "println(\"Total gradient descent iterations: \", length(gdxiters), \". Total heavy ball iterations: \", length(hbxiters))\n",
    "\n",
    "pygui(true)\n",
    "\n",
    "contour( fv, origin=\"lower\", extent=(-5,5,-4,4), 25, colors=\"grey\" )\n",
    "plot( gdxiters[1,:], gdxiters[2,:], \".-\")\n",
    "plot( hbxiters[1,:], hbxiters[2,:], \".-\")\n",
    "legend([\"Gradient\", \"Heavy Ball\"])\n",
    "\n",
    "axis(\"image\"); xlabel(\"x\"); ylabel(\"y\")\n",
    "tight_layout()\n",
    "show()\n"
   ]
  },
  {
   "cell_type": "code",
   "execution_count": 7,
   "metadata": {},
   "outputs": [
    {
     "name": "stdout",
     "output_type": "stream",
     "text": [
      "Total gradient descent iterations: 2002. Total heavy ball iterations: 250\n"
     ]
    }
   ],
   "source": [
    "using LinearAlgebra, PyPlot\n",
    "\n",
    "L = 1\n",
    "μ = 0.01\n",
    "\n",
    "A = Diagonal([μ, L])\n",
    "b = zeros(2)\n",
    "\n",
    "data = Dict()\n",
    "data[:A] = A\n",
    "data[:b] = b\n",
    "\n",
    "#Initial point\n",
    "x0 = [4; -3]\n",
    "\n",
    "α = 1/(2*L)\n",
    "eps = 10^-4\n",
    "\n",
    "(gdx, gdxiters) = gd(x0, data, α, eps)\n",
    "\n",
    "β = (1 - sqrt(α*μ))^2\n",
    "\n",
    "(hbx, hbxiters) = heavyball(x0, data, α, β, eps)\n",
    "\n",
    "\n",
    "println(\"Total gradient descent iterations: \", length(gdxiters), \". Total heavy ball iterations: \", length(hbxiters))\n",
    "\n",
    "#figure(figsize=(6,5))\n",
    "\n",
    "# compute contours of the original function\n",
    "N = 100\n",
    "xv = LinRange(-5,5,N)\n",
    "yv = LinRange(-4,4,N)\n",
    "fv = zeros(N,N)\n",
    "\n",
    "for (i,x) in enumerate(xv)\n",
    "    for (j,y) in enumerate(yv)\n",
    "        fv[j,i] = quad([x;y],data,1)\n",
    "    end\n",
    "end\n",
    "\n",
    "pygui(true)\n",
    "\n",
    "contour( fv, origin=\"lower\", extent=(-5,5,-4,4), 25, colors=\"grey\" )\n",
    "plot( gdxiters[1,:], gdxiters[2,:], \".-\")\n",
    "plot( hbxiters[1,:], hbxiters[2,:], \".-\")\n",
    "legend([\"Gradient Descent\", \"Heavy Ball\"])\n",
    "axis(\"image\")\n",
    "xlabel(\"x\")\n",
    "ylabel(\"y\")\n",
    "tight_layout()\n",
    "show()"
   ]
  }
 ],
 "metadata": {
  "kernelspec": {
   "display_name": "Julia 1.7.3",
   "language": "julia",
   "name": "julia-1.7"
  },
  "language_info": {
   "file_extension": ".jl",
   "mimetype": "application/julia",
   "name": "julia",
   "version": "1.7.3"
  },
  "orig_nbformat": 4
 },
 "nbformat": 4,
 "nbformat_minor": 2
}
